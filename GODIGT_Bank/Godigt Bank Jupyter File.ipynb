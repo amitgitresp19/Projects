{
 "cells": [
  {
   "cell_type": "markdown",
   "id": "642b8823-3996-4981-a807-e5d979c0a520",
   "metadata": {},
   "source": [
    "<h2>Project 2: GODIGT Bank</h2>"
   ]
  },
  {
   "cell_type": "markdown",
   "id": "dd9b7fd9-f2ad-4d1b-bc0a-4eea8d2a0824",
   "metadata": {},
   "source": [
    "<h3>Bank Main Objective: The bank wants customers that show higher intent towards a recommended credit card.<br> (Higher\n",
    "intent means consumers would want to use the card and hence not be attrite.)</h3>"
   ]
  },
  {
   "cell_type": "code",
   "execution_count": 1,
   "id": "84a55833-cd45-4c7a-8f12-79d7461f9ea0",
   "metadata": {},
   "outputs": [
    {
     "name": "stderr",
     "output_type": "stream",
     "text": [
      "C:\\Users\\Amit\\AppData\\Local\\Temp\\ipykernel_10488\\1622264721.py:3: DeprecationWarning: \n",
      "Pyarrow will become a required dependency of pandas in the next major release of pandas (pandas 3.0),\n",
      "(to allow more performant data types, such as the Arrow string type, and better interoperability with other libraries)\n",
      "but was not found to be installed on your system.\n",
      "If this would cause problems for you,\n",
      "please provide us feedback at https://github.com/pandas-dev/pandas/issues/54466\n",
      "        \n",
      "  import pandas as pd\n"
     ]
    }
   ],
   "source": [
    "# importing all python libraries\n",
    "import numpy as np\n",
    "import pandas as pd\n",
    "import matplotlib.pyplot as plt\n",
    "import seaborn as sns"
   ]
  },
  {
   "cell_type": "code",
   "execution_count": 2,
   "id": "86527b9e-78f2-4e5d-bf48-3ac4b64b3894",
   "metadata": {},
   "outputs": [],
   "source": [
    "bank=pd.read_csv(\"godigt_cc_data.csv\") \n",
    "\n",
    "# Opening Dataset in python"
   ]
  },
  {
   "cell_type": "markdown",
   "id": "1261f839-777e-4516-b13b-9c3691b07d2d",
   "metadata": {},
   "source": [
    "<h3>Checking Size and Data types of All Columns</h3>"
   ]
  },
  {
   "cell_type": "code",
   "execution_count": 3,
   "id": "3c6c5c5e-8594-4f0b-b3df-4912e783c4fb",
   "metadata": {},
   "outputs": [
    {
     "data": {
      "text/plain": [
       "(8448, 29)"
      ]
     },
     "execution_count": 3,
     "metadata": {},
     "output_type": "execute_result"
    }
   ],
   "source": [
    "bank.shape  \n",
    "\n",
    "# dataset has 8448 rows and 29 columns"
   ]
  },
  {
   "cell_type": "code",
   "execution_count": 4,
   "id": "4a3c2ceb-4e28-49e4-9fef-b97ed6d4df95",
   "metadata": {},
   "outputs": [
    {
     "name": "stdout",
     "output_type": "stream",
     "text": [
      "<class 'pandas.core.frame.DataFrame'>\n",
      "RangeIndex: 8448 entries, 0 to 8447\n",
      "Data columns (total 29 columns):\n",
      " #   Column                     Non-Null Count  Dtype  \n",
      "---  ------                     --------------  -----  \n",
      " 0   userid                     8448 non-null   int64  \n",
      " 1   card_no                    8448 non-null   object \n",
      " 2   card_bin_no                8448 non-null   int64  \n",
      " 3   Issuer                     8448 non-null   object \n",
      " 4   card_type                  8448 non-null   object \n",
      " 5   card_source_date           8448 non-null   object \n",
      " 6   high_networth              8448 non-null   object \n",
      " 7   active_30                  8448 non-null   int64  \n",
      " 8   active_60                  8448 non-null   int64  \n",
      " 9   active_90                  8448 non-null   int64  \n",
      " 10  cc_active30                8448 non-null   int64  \n",
      " 11  cc_active60                8448 non-null   int64  \n",
      " 12  cc_active90                8448 non-null   int64  \n",
      " 13  hotlist_flag               8448 non-null   object \n",
      " 14  widget_products            8448 non-null   int64  \n",
      " 15  engagement_products        8448 non-null   int64  \n",
      " 16   annual_income_at_source   8448 non-null   object \n",
      " 17  other_bank_cc_holding      8448 non-null   object \n",
      " 18  bank_vintage               8448 non-null   int64  \n",
      " 19  T+1_month_activity         8448 non-null   int64  \n",
      " 20  T+2_month_activity         8448 non-null   int64  \n",
      " 21  T+3_month_activity         8448 non-null   int64  \n",
      " 22  T+6_month_activity         8448 non-null   int64  \n",
      " 23  T+12_month_activity        8448 non-null   int64  \n",
      " 24  Transactor_revolver        8410 non-null   object \n",
      " 25   avg_spends_l3m            8448 non-null   object \n",
      " 26  Occupation_at_source       8448 non-null   object \n",
      " 27  cc_limit                   8448 non-null   int64  \n",
      " 28  Unnamed: 28                0 non-null      float64\n",
      "dtypes: float64(1), int64(17), object(11)\n",
      "memory usage: 1.9+ MB\n"
     ]
    }
   ],
   "source": [
    "bank.info()\n",
    "\n",
    "# The dataset has 17 integer, 1 decimal and 11 object type data type columns."
   ]
  },
  {
   "cell_type": "code",
   "execution_count": 5,
   "id": "09690636-9367-4742-a958-d8c9b8e6e28e",
   "metadata": {},
   "outputs": [
    {
     "data": {
      "text/html": [
       "<div>\n",
       "<style scoped>\n",
       "    .dataframe tbody tr th:only-of-type {\n",
       "        vertical-align: middle;\n",
       "    }\n",
       "\n",
       "    .dataframe tbody tr th {\n",
       "        vertical-align: top;\n",
       "    }\n",
       "\n",
       "    .dataframe thead th {\n",
       "        text-align: right;\n",
       "    }\n",
       "</style>\n",
       "<table border=\"1\" class=\"dataframe\">\n",
       "  <thead>\n",
       "    <tr style=\"text-align: right;\">\n",
       "      <th></th>\n",
       "      <th>userid</th>\n",
       "      <th>card_no</th>\n",
       "      <th>card_bin_no</th>\n",
       "      <th>Issuer</th>\n",
       "      <th>card_type</th>\n",
       "      <th>card_source_date</th>\n",
       "      <th>high_networth</th>\n",
       "      <th>active_30</th>\n",
       "      <th>active_60</th>\n",
       "      <th>active_90</th>\n",
       "      <th>...</th>\n",
       "      <th>T+1_month_activity</th>\n",
       "      <th>T+2_month_activity</th>\n",
       "      <th>T+3_month_activity</th>\n",
       "      <th>T+6_month_activity</th>\n",
       "      <th>T+12_month_activity</th>\n",
       "      <th>Transactor_revolver</th>\n",
       "      <th>avg_spends_l3m</th>\n",
       "      <th>Occupation_at_source</th>\n",
       "      <th>cc_limit</th>\n",
       "      <th>Unnamed: 28</th>\n",
       "    </tr>\n",
       "  </thead>\n",
       "  <tbody>\n",
       "    <tr>\n",
       "      <th>0</th>\n",
       "      <td>1</td>\n",
       "      <td>4384 39XX XXXX XXXX</td>\n",
       "      <td>438439</td>\n",
       "      <td>Visa</td>\n",
       "      <td>edge</td>\n",
       "      <td>29-09-2019</td>\n",
       "      <td>B</td>\n",
       "      <td>0</td>\n",
       "      <td>1</td>\n",
       "      <td>1</td>\n",
       "      <td>...</td>\n",
       "      <td>0</td>\n",
       "      <td>0</td>\n",
       "      <td>0</td>\n",
       "      <td>0</td>\n",
       "      <td>0</td>\n",
       "      <td>T</td>\n",
       "      <td>27,729</td>\n",
       "      <td>Self Employed</td>\n",
       "      <td>290000</td>\n",
       "      <td>NaN</td>\n",
       "    </tr>\n",
       "    <tr>\n",
       "      <th>1</th>\n",
       "      <td>2</td>\n",
       "      <td>4377 48XX XXXX XXXX</td>\n",
       "      <td>437748</td>\n",
       "      <td>Visa</td>\n",
       "      <td>prosperity</td>\n",
       "      <td>30-10-2002</td>\n",
       "      <td>A</td>\n",
       "      <td>1</td>\n",
       "      <td>1</td>\n",
       "      <td>1</td>\n",
       "      <td>...</td>\n",
       "      <td>0</td>\n",
       "      <td>0</td>\n",
       "      <td>0</td>\n",
       "      <td>0</td>\n",
       "      <td>0</td>\n",
       "      <td>R</td>\n",
       "      <td>2,80,854</td>\n",
       "      <td>0</td>\n",
       "      <td>950000</td>\n",
       "      <td>NaN</td>\n",
       "    </tr>\n",
       "    <tr>\n",
       "      <th>2</th>\n",
       "      <td>3</td>\n",
       "      <td>4377 48XX XXXX XXXX</td>\n",
       "      <td>437748</td>\n",
       "      <td>Visa</td>\n",
       "      <td>rewards</td>\n",
       "      <td>05-10-2013</td>\n",
       "      <td>C</td>\n",
       "      <td>0</td>\n",
       "      <td>0</td>\n",
       "      <td>0</td>\n",
       "      <td>...</td>\n",
       "      <td>1</td>\n",
       "      <td>0</td>\n",
       "      <td>0</td>\n",
       "      <td>0</td>\n",
       "      <td>0</td>\n",
       "      <td>R</td>\n",
       "      <td>70,587</td>\n",
       "      <td>Student</td>\n",
       "      <td>210000</td>\n",
       "      <td>NaN</td>\n",
       "    </tr>\n",
       "    <tr>\n",
       "      <th>3</th>\n",
       "      <td>4</td>\n",
       "      <td>4258 06XX XXXX XXXX</td>\n",
       "      <td>425806</td>\n",
       "      <td>Visa</td>\n",
       "      <td>indianoil</td>\n",
       "      <td>01-06-1999</td>\n",
       "      <td>E</td>\n",
       "      <td>0</td>\n",
       "      <td>1</td>\n",
       "      <td>1</td>\n",
       "      <td>...</td>\n",
       "      <td>0</td>\n",
       "      <td>0</td>\n",
       "      <td>1</td>\n",
       "      <td>0</td>\n",
       "      <td>0</td>\n",
       "      <td>T</td>\n",
       "      <td>9,156</td>\n",
       "      <td>Self Employed</td>\n",
       "      <td>80000</td>\n",
       "      <td>NaN</td>\n",
       "    </tr>\n",
       "    <tr>\n",
       "      <th>4</th>\n",
       "      <td>5</td>\n",
       "      <td>4377 48XX XXXX XXXX</td>\n",
       "      <td>437748</td>\n",
       "      <td>Visa</td>\n",
       "      <td>edge</td>\n",
       "      <td>13-06-2006</td>\n",
       "      <td>B</td>\n",
       "      <td>1</td>\n",
       "      <td>1</td>\n",
       "      <td>1</td>\n",
       "      <td>...</td>\n",
       "      <td>1</td>\n",
       "      <td>0</td>\n",
       "      <td>0</td>\n",
       "      <td>0</td>\n",
       "      <td>0</td>\n",
       "      <td>T</td>\n",
       "      <td>38,108</td>\n",
       "      <td>Salaried</td>\n",
       "      <td>220000</td>\n",
       "      <td>NaN</td>\n",
       "    </tr>\n",
       "  </tbody>\n",
       "</table>\n",
       "<p>5 rows × 29 columns</p>\n",
       "</div>"
      ],
      "text/plain": [
       "   userid              card_no  card_bin_no Issuer   card_type  \\\n",
       "0       1  4384 39XX XXXX XXXX       438439   Visa        edge   \n",
       "1       2  4377 48XX XXXX XXXX       437748   Visa  prosperity   \n",
       "2       3  4377 48XX XXXX XXXX       437748   Visa     rewards   \n",
       "3       4  4258 06XX XXXX XXXX       425806   Visa   indianoil   \n",
       "4       5  4377 48XX XXXX XXXX       437748   Visa        edge   \n",
       "\n",
       "  card_source_date high_networth  active_30  active_60  active_90  ...  \\\n",
       "0       29-09-2019             B          0          1          1  ...   \n",
       "1       30-10-2002             A          1          1          1  ...   \n",
       "2       05-10-2013             C          0          0          0  ...   \n",
       "3       01-06-1999             E          0          1          1  ...   \n",
       "4       13-06-2006             B          1          1          1  ...   \n",
       "\n",
       "   T+1_month_activity  T+2_month_activity  T+3_month_activity  \\\n",
       "0                   0                   0                   0   \n",
       "1                   0                   0                   0   \n",
       "2                   1                   0                   0   \n",
       "3                   0                   0                   1   \n",
       "4                   1                   0                   0   \n",
       "\n",
       "  T+6_month_activity  T+12_month_activity  Transactor_revolver  \\\n",
       "0                  0                    0                    T   \n",
       "1                  0                    0                    R   \n",
       "2                  0                    0                    R   \n",
       "3                  0                    0                    T   \n",
       "4                  0                    0                    T   \n",
       "\n",
       "   avg_spends_l3m  Occupation_at_source  cc_limit  Unnamed: 28  \n",
       "0          27,729         Self Employed    290000          NaN  \n",
       "1        2,80,854                     0    950000          NaN  \n",
       "2          70,587               Student    210000          NaN  \n",
       "3           9,156         Self Employed     80000          NaN  \n",
       "4          38,108              Salaried    220000          NaN  \n",
       "\n",
       "[5 rows x 29 columns]"
      ]
     },
     "execution_count": 5,
     "metadata": {},
     "output_type": "execute_result"
    }
   ],
   "source": [
    "bank.head() # We want to check values in all the columns"
   ]
  },
  {
   "cell_type": "markdown",
   "id": "a0bd6c94-817c-4d6d-a2eb-876d18ceb063",
   "metadata": {},
   "source": [
    "<h3>Starting : Preliminary analysis & Removal of Discrepancies in Dataset</h3>"
   ]
  },
  {
   "cell_type": "code",
   "execution_count": 6,
   "id": "e2fc4eec-4cd4-4bfb-99ff-c18ca29e7830",
   "metadata": {},
   "outputs": [
    {
     "data": {
      "text/plain": [
       "userid                          0\n",
       "card_no                         0\n",
       "card_bin_no                     0\n",
       "Issuer                          0\n",
       "card_type                       0\n",
       "card_source_date                0\n",
       "high_networth                   0\n",
       "active_30                       0\n",
       "active_60                       0\n",
       "active_90                       0\n",
       "cc_active30                     0\n",
       "cc_active60                     0\n",
       "cc_active90                     0\n",
       "hotlist_flag                    0\n",
       "widget_products                 0\n",
       "engagement_products             0\n",
       " annual_income_at_source        0\n",
       "other_bank_cc_holding           0\n",
       "bank_vintage                    0\n",
       "T+1_month_activity              0\n",
       "T+2_month_activity              0\n",
       "T+3_month_activity              0\n",
       "T+6_month_activity              0\n",
       "T+12_month_activity             0\n",
       "Transactor_revolver            38\n",
       " avg_spends_l3m                 0\n",
       "Occupation_at_source            0\n",
       "cc_limit                        0\n",
       "Unnamed: 28                  8448\n",
       "dtype: int64"
      ]
     },
     "execution_count": 6,
     "metadata": {},
     "output_type": "execute_result"
    }
   ],
   "source": [
    "bank.isnull().sum() # Checking if our dataset has null values"
   ]
  },
  {
   "cell_type": "code",
   "execution_count": 7,
   "id": "61eb4c07-8998-4482-88e8-01b15167162b",
   "metadata": {},
   "outputs": [],
   "source": [
    "bank.drop(['Unnamed: 28'],axis=1,inplace=True) #deleted \"Unnmaed: 28\" column which has unnnecessary null values. "
   ]
  },
  {
   "cell_type": "code",
   "execution_count": 8,
   "id": "ec8e187c-1fd4-430c-9259-82dc78b1f98f",
   "metadata": {},
   "outputs": [
    {
     "data": {
      "text/plain": [
       "Index(['userid', 'card_no', 'card_bin_no', 'Issuer', 'card_type',\n",
       "       'card_source_date', 'high_networth', 'active_30', 'active_60',\n",
       "       'active_90', 'cc_active30', 'cc_active60', 'cc_active90',\n",
       "       'hotlist_flag', 'widget_products', 'engagement_products',\n",
       "       ' annual_income_at_source ', 'other_bank_cc_holding', 'bank_vintage',\n",
       "       'T+1_month_activity', 'T+2_month_activity', 'T+3_month_activity',\n",
       "       'T+6_month_activity', 'T+12_month_activity', 'Transactor_revolver',\n",
       "       ' avg_spends_l3m ', 'Occupation_at_source', 'cc_limit'],\n",
       "      dtype='object')"
      ]
     },
     "execution_count": 8,
     "metadata": {},
     "output_type": "execute_result"
    }
   ],
   "source": [
    "bank.columns # Again checking all columns"
   ]
  },
  {
   "cell_type": "code",
   "execution_count": 9,
   "id": "7cbe9871-e51e-4e93-8ef3-0c4e8d3be826",
   "metadata": {},
   "outputs": [
    {
     "data": {
      "text/plain": [
       "userid                        0\n",
       "card_no                       0\n",
       "card_bin_no                   0\n",
       "Issuer                        0\n",
       "card_type                     0\n",
       "card_source_date              0\n",
       "high_networth                 0\n",
       "active_30                     0\n",
       "active_60                     0\n",
       "active_90                     0\n",
       "cc_active30                   0\n",
       "cc_active60                   0\n",
       "cc_active90                   0\n",
       "hotlist_flag                  0\n",
       "widget_products               0\n",
       "engagement_products           0\n",
       " annual_income_at_source      0\n",
       "other_bank_cc_holding         0\n",
       "bank_vintage                  0\n",
       "T+1_month_activity            0\n",
       "T+2_month_activity            0\n",
       "T+3_month_activity            0\n",
       "T+6_month_activity            0\n",
       "T+12_month_activity           0\n",
       "Transactor_revolver          38\n",
       " avg_spends_l3m               0\n",
       "Occupation_at_source          0\n",
       "cc_limit                      0\n",
       "dtype: int64"
      ]
     },
     "execution_count": 9,
     "metadata": {},
     "output_type": "execute_result"
    }
   ],
   "source": [
    "bank.isnull().sum() \n",
    "# checking again null values in columns\n",
    "# Column Name \"Transactor_revolver\" has 38 null values"
   ]
  },
  {
   "cell_type": "code",
   "execution_count": 10,
   "id": "b9647842-d893-4aaf-a10d-7f4a0b3e50e4",
   "metadata": {},
   "outputs": [
    {
     "data": {
      "text/plain": [
       "array(['T', 'R', nan], dtype=object)"
      ]
     },
     "execution_count": 10,
     "metadata": {},
     "output_type": "execute_result"
    }
   ],
   "source": [
    "bank['Transactor_revolver'].unique() \n",
    "\n",
    "# Checking unique values in \"Transactor_revolver\" Column."
   ]
  },
  {
   "cell_type": "code",
   "execution_count": 11,
   "id": "4f3f4a8d-adec-4daa-b80c-28e8260b393b",
   "metadata": {},
   "outputs": [
    {
     "data": {
      "text/plain": [
       "Transactor_revolver\n",
       "R    1295\n",
       "T    7115\n",
       "Name: Transactor_revolver, dtype: int64"
      ]
     },
     "execution_count": 11,
     "metadata": {},
     "output_type": "execute_result"
    }
   ],
   "source": [
    "bank.groupby('Transactor_revolver')['Transactor_revolver'].count() \n",
    "\n",
    "# Finding which Value comes in higher numbers. \n",
    "# We now know that value R is less than value T.\n",
    "# So we will fill 38 null values with highest occuring values that is T.\n"
   ]
  },
  {
   "cell_type": "code",
   "execution_count": 12,
   "id": "674556a2-ea47-47e7-992a-ae9052b4bbc0",
   "metadata": {},
   "outputs": [
    {
     "name": "stderr",
     "output_type": "stream",
     "text": [
      "C:\\Users\\Amit\\AppData\\Local\\Temp\\ipykernel_10488\\3997851796.py:1: FutureWarning: A value is trying to be set on a copy of a DataFrame or Series through chained assignment using an inplace method.\n",
      "The behavior will change in pandas 3.0. This inplace method will never work because the intermediate object on which we are setting values always behaves as a copy.\n",
      "\n",
      "For example, when doing 'df[col].method(value, inplace=True)', try using 'df.method({col: value}, inplace=True)' or df[col] = df[col].method(value) instead, to perform the operation inplace on the original object.\n",
      "\n",
      "\n",
      "  bank['Transactor_revolver'].fillna(\"T\", inplace=True)\n"
     ]
    }
   ],
   "source": [
    "bank['Transactor_revolver'].fillna(\"T\", inplace=True) \n",
    "\n",
    "# Filled 38 null values with highest occuring values that is T."
   ]
  },
  {
   "cell_type": "code",
   "execution_count": 13,
   "id": "63f2dbf0-c569-492e-8b76-d68a34bed9d5",
   "metadata": {},
   "outputs": [
    {
     "data": {
      "text/plain": [
       "userid                       0\n",
       "card_no                      0\n",
       "card_bin_no                  0\n",
       "Issuer                       0\n",
       "card_type                    0\n",
       "card_source_date             0\n",
       "high_networth                0\n",
       "active_30                    0\n",
       "active_60                    0\n",
       "active_90                    0\n",
       "cc_active30                  0\n",
       "cc_active60                  0\n",
       "cc_active90                  0\n",
       "hotlist_flag                 0\n",
       "widget_products              0\n",
       "engagement_products          0\n",
       " annual_income_at_source     0\n",
       "other_bank_cc_holding        0\n",
       "bank_vintage                 0\n",
       "T+1_month_activity           0\n",
       "T+2_month_activity           0\n",
       "T+3_month_activity           0\n",
       "T+6_month_activity           0\n",
       "T+12_month_activity          0\n",
       "Transactor_revolver          0\n",
       " avg_spends_l3m              0\n",
       "Occupation_at_source         0\n",
       "cc_limit                     0\n",
       "dtype: int64"
      ]
     },
     "execution_count": 13,
     "metadata": {},
     "output_type": "execute_result"
    }
   ],
   "source": [
    "bank.isnull().sum()\n",
    "\n",
    "# we have remove null values and now our dataset is clean."
   ]
  },
  {
   "cell_type": "code",
   "execution_count": 14,
   "id": "1663c313-0f5b-47d7-94fc-1af0489d97f9",
   "metadata": {},
   "outputs": [
    {
     "data": {
      "text/html": [
       "<div>\n",
       "<style scoped>\n",
       "    .dataframe tbody tr th:only-of-type {\n",
       "        vertical-align: middle;\n",
       "    }\n",
       "\n",
       "    .dataframe tbody tr th {\n",
       "        vertical-align: top;\n",
       "    }\n",
       "\n",
       "    .dataframe thead th {\n",
       "        text-align: right;\n",
       "    }\n",
       "</style>\n",
       "<table border=\"1\" class=\"dataframe\">\n",
       "  <thead>\n",
       "    <tr style=\"text-align: right;\">\n",
       "      <th></th>\n",
       "      <th>userid</th>\n",
       "      <th>card_bin_no</th>\n",
       "      <th>active_30</th>\n",
       "      <th>active_60</th>\n",
       "      <th>active_90</th>\n",
       "      <th>cc_active30</th>\n",
       "      <th>cc_active60</th>\n",
       "      <th>cc_active90</th>\n",
       "      <th>widget_products</th>\n",
       "      <th>engagement_products</th>\n",
       "      <th>bank_vintage</th>\n",
       "      <th>T+1_month_activity</th>\n",
       "      <th>T+2_month_activity</th>\n",
       "      <th>T+3_month_activity</th>\n",
       "      <th>T+6_month_activity</th>\n",
       "      <th>T+12_month_activity</th>\n",
       "      <th>cc_limit</th>\n",
       "    </tr>\n",
       "  </thead>\n",
       "  <tbody>\n",
       "    <tr>\n",
       "      <th>count</th>\n",
       "      <td>8448.00000</td>\n",
       "      <td>8448.000000</td>\n",
       "      <td>8448.000000</td>\n",
       "      <td>8448.000000</td>\n",
       "      <td>8448.000000</td>\n",
       "      <td>8448.000000</td>\n",
       "      <td>8448.000000</td>\n",
       "      <td>8448.000000</td>\n",
       "      <td>8448.000000</td>\n",
       "      <td>8448.000000</td>\n",
       "      <td>8448.000000</td>\n",
       "      <td>8448.000000</td>\n",
       "      <td>8448.000000</td>\n",
       "      <td>8448.000000</td>\n",
       "      <td>8448.000000</td>\n",
       "      <td>8448.000000</td>\n",
       "      <td>8448.000000</td>\n",
       "    </tr>\n",
       "    <tr>\n",
       "      <th>mean</th>\n",
       "      <td>4224.50000</td>\n",
       "      <td>436747.044508</td>\n",
       "      <td>0.292377</td>\n",
       "      <td>0.494792</td>\n",
       "      <td>0.642045</td>\n",
       "      <td>0.284091</td>\n",
       "      <td>0.484493</td>\n",
       "      <td>0.632339</td>\n",
       "      <td>3.614583</td>\n",
       "      <td>3.991359</td>\n",
       "      <td>33.164181</td>\n",
       "      <td>0.111269</td>\n",
       "      <td>0.047940</td>\n",
       "      <td>0.080374</td>\n",
       "      <td>0.008878</td>\n",
       "      <td>0.009470</td>\n",
       "      <td>251706.912879</td>\n",
       "    </tr>\n",
       "    <tr>\n",
       "      <th>std</th>\n",
       "      <td>2438.87187</td>\n",
       "      <td>30489.752417</td>\n",
       "      <td>0.454881</td>\n",
       "      <td>0.500002</td>\n",
       "      <td>0.479427</td>\n",
       "      <td>0.451007</td>\n",
       "      <td>0.499789</td>\n",
       "      <td>0.482197</td>\n",
       "      <td>2.273193</td>\n",
       "      <td>2.572090</td>\n",
       "      <td>15.868344</td>\n",
       "      <td>0.314483</td>\n",
       "      <td>0.213653</td>\n",
       "      <td>0.271888</td>\n",
       "      <td>0.093809</td>\n",
       "      <td>0.096856</td>\n",
       "      <td>229114.856385</td>\n",
       "    </tr>\n",
       "    <tr>\n",
       "      <th>min</th>\n",
       "      <td>1.00000</td>\n",
       "      <td>376916.000000</td>\n",
       "      <td>0.000000</td>\n",
       "      <td>0.000000</td>\n",
       "      <td>0.000000</td>\n",
       "      <td>0.000000</td>\n",
       "      <td>0.000000</td>\n",
       "      <td>0.000000</td>\n",
       "      <td>0.000000</td>\n",
       "      <td>0.000000</td>\n",
       "      <td>6.000000</td>\n",
       "      <td>0.000000</td>\n",
       "      <td>0.000000</td>\n",
       "      <td>0.000000</td>\n",
       "      <td>0.000000</td>\n",
       "      <td>0.000000</td>\n",
       "      <td>0.000000</td>\n",
       "    </tr>\n",
       "    <tr>\n",
       "      <th>25%</th>\n",
       "      <td>2112.75000</td>\n",
       "      <td>426241.000000</td>\n",
       "      <td>0.000000</td>\n",
       "      <td>0.000000</td>\n",
       "      <td>0.000000</td>\n",
       "      <td>0.000000</td>\n",
       "      <td>0.000000</td>\n",
       "      <td>0.000000</td>\n",
       "      <td>2.000000</td>\n",
       "      <td>2.000000</td>\n",
       "      <td>19.000000</td>\n",
       "      <td>0.000000</td>\n",
       "      <td>0.000000</td>\n",
       "      <td>0.000000</td>\n",
       "      <td>0.000000</td>\n",
       "      <td>0.000000</td>\n",
       "      <td>90000.000000</td>\n",
       "    </tr>\n",
       "    <tr>\n",
       "      <th>50%</th>\n",
       "      <td>4224.50000</td>\n",
       "      <td>437551.000000</td>\n",
       "      <td>0.000000</td>\n",
       "      <td>0.000000</td>\n",
       "      <td>1.000000</td>\n",
       "      <td>0.000000</td>\n",
       "      <td>0.000000</td>\n",
       "      <td>1.000000</td>\n",
       "      <td>4.000000</td>\n",
       "      <td>4.000000</td>\n",
       "      <td>33.000000</td>\n",
       "      <td>0.000000</td>\n",
       "      <td>0.000000</td>\n",
       "      <td>0.000000</td>\n",
       "      <td>0.000000</td>\n",
       "      <td>0.000000</td>\n",
       "      <td>150000.000000</td>\n",
       "    </tr>\n",
       "    <tr>\n",
       "      <th>75%</th>\n",
       "      <td>6336.25000</td>\n",
       "      <td>438439.000000</td>\n",
       "      <td>1.000000</td>\n",
       "      <td>1.000000</td>\n",
       "      <td>1.000000</td>\n",
       "      <td>1.000000</td>\n",
       "      <td>1.000000</td>\n",
       "      <td>1.000000</td>\n",
       "      <td>6.000000</td>\n",
       "      <td>6.000000</td>\n",
       "      <td>47.000000</td>\n",
       "      <td>0.000000</td>\n",
       "      <td>0.000000</td>\n",
       "      <td>0.000000</td>\n",
       "      <td>0.000000</td>\n",
       "      <td>0.000000</td>\n",
       "      <td>350000.000000</td>\n",
       "    </tr>\n",
       "    <tr>\n",
       "      <th>max</th>\n",
       "      <td>8448.00000</td>\n",
       "      <td>524178.000000</td>\n",
       "      <td>1.000000</td>\n",
       "      <td>1.000000</td>\n",
       "      <td>1.000000</td>\n",
       "      <td>1.000000</td>\n",
       "      <td>1.000000</td>\n",
       "      <td>1.000000</td>\n",
       "      <td>7.000000</td>\n",
       "      <td>8.000000</td>\n",
       "      <td>60.000000</td>\n",
       "      <td>1.000000</td>\n",
       "      <td>1.000000</td>\n",
       "      <td>1.000000</td>\n",
       "      <td>1.000000</td>\n",
       "      <td>1.000000</td>\n",
       "      <td>990000.000000</td>\n",
       "    </tr>\n",
       "  </tbody>\n",
       "</table>\n",
       "</div>"
      ],
      "text/plain": [
       "           userid    card_bin_no    active_30    active_60    active_90  \\\n",
       "count  8448.00000    8448.000000  8448.000000  8448.000000  8448.000000   \n",
       "mean   4224.50000  436747.044508     0.292377     0.494792     0.642045   \n",
       "std    2438.87187   30489.752417     0.454881     0.500002     0.479427   \n",
       "min       1.00000  376916.000000     0.000000     0.000000     0.000000   \n",
       "25%    2112.75000  426241.000000     0.000000     0.000000     0.000000   \n",
       "50%    4224.50000  437551.000000     0.000000     0.000000     1.000000   \n",
       "75%    6336.25000  438439.000000     1.000000     1.000000     1.000000   \n",
       "max    8448.00000  524178.000000     1.000000     1.000000     1.000000   \n",
       "\n",
       "       cc_active30  cc_active60  cc_active90  widget_products  \\\n",
       "count  8448.000000  8448.000000  8448.000000      8448.000000   \n",
       "mean      0.284091     0.484493     0.632339         3.614583   \n",
       "std       0.451007     0.499789     0.482197         2.273193   \n",
       "min       0.000000     0.000000     0.000000         0.000000   \n",
       "25%       0.000000     0.000000     0.000000         2.000000   \n",
       "50%       0.000000     0.000000     1.000000         4.000000   \n",
       "75%       1.000000     1.000000     1.000000         6.000000   \n",
       "max       1.000000     1.000000     1.000000         7.000000   \n",
       "\n",
       "       engagement_products  bank_vintage  T+1_month_activity  \\\n",
       "count          8448.000000   8448.000000         8448.000000   \n",
       "mean              3.991359     33.164181            0.111269   \n",
       "std               2.572090     15.868344            0.314483   \n",
       "min               0.000000      6.000000            0.000000   \n",
       "25%               2.000000     19.000000            0.000000   \n",
       "50%               4.000000     33.000000            0.000000   \n",
       "75%               6.000000     47.000000            0.000000   \n",
       "max               8.000000     60.000000            1.000000   \n",
       "\n",
       "       T+2_month_activity  T+3_month_activity  T+6_month_activity  \\\n",
       "count         8448.000000         8448.000000         8448.000000   \n",
       "mean             0.047940            0.080374            0.008878   \n",
       "std              0.213653            0.271888            0.093809   \n",
       "min              0.000000            0.000000            0.000000   \n",
       "25%              0.000000            0.000000            0.000000   \n",
       "50%              0.000000            0.000000            0.000000   \n",
       "75%              0.000000            0.000000            0.000000   \n",
       "max              1.000000            1.000000            1.000000   \n",
       "\n",
       "       T+12_month_activity       cc_limit  \n",
       "count          8448.000000    8448.000000  \n",
       "mean              0.009470  251706.912879  \n",
       "std               0.096856  229114.856385  \n",
       "min               0.000000       0.000000  \n",
       "25%               0.000000   90000.000000  \n",
       "50%               0.000000  150000.000000  \n",
       "75%               0.000000  350000.000000  \n",
       "max               1.000000  990000.000000  "
      ]
     },
     "execution_count": 14,
     "metadata": {},
     "output_type": "execute_result"
    }
   ],
   "source": [
    "bank.describe()  #Observing some interger columns max and min values."
   ]
  },
  {
   "cell_type": "code",
   "execution_count": 15,
   "id": "27c00351-159c-4fbe-b72d-801b3280ed0c",
   "metadata": {},
   "outputs": [
    {
     "data": {
      "text/html": [
       "<div>\n",
       "<style scoped>\n",
       "    .dataframe tbody tr th:only-of-type {\n",
       "        vertical-align: middle;\n",
       "    }\n",
       "\n",
       "    .dataframe tbody tr th {\n",
       "        vertical-align: top;\n",
       "    }\n",
       "\n",
       "    .dataframe thead th {\n",
       "        text-align: right;\n",
       "    }\n",
       "</style>\n",
       "<table border=\"1\" class=\"dataframe\">\n",
       "  <thead>\n",
       "    <tr style=\"text-align: right;\">\n",
       "      <th></th>\n",
       "      <th>card_no</th>\n",
       "      <th>card_bin_no</th>\n",
       "      <th>Issuer</th>\n",
       "      <th>card_type</th>\n",
       "      <th>card_source_date</th>\n",
       "      <th>high_networth</th>\n",
       "      <th>active_30</th>\n",
       "      <th>active_60</th>\n",
       "      <th>active_90</th>\n",
       "      <th>cc_active30</th>\n",
       "    </tr>\n",
       "  </thead>\n",
       "  <tbody>\n",
       "    <tr>\n",
       "      <th>0</th>\n",
       "      <td>4384 39XX XXXX XXXX</td>\n",
       "      <td>438439</td>\n",
       "      <td>Visa</td>\n",
       "      <td>edge</td>\n",
       "      <td>29-09-2019</td>\n",
       "      <td>B</td>\n",
       "      <td>0</td>\n",
       "      <td>1</td>\n",
       "      <td>1</td>\n",
       "      <td>0</td>\n",
       "    </tr>\n",
       "    <tr>\n",
       "      <th>1</th>\n",
       "      <td>4377 48XX XXXX XXXX</td>\n",
       "      <td>437748</td>\n",
       "      <td>Visa</td>\n",
       "      <td>prosperity</td>\n",
       "      <td>30-10-2002</td>\n",
       "      <td>A</td>\n",
       "      <td>1</td>\n",
       "      <td>1</td>\n",
       "      <td>1</td>\n",
       "      <td>0</td>\n",
       "    </tr>\n",
       "    <tr>\n",
       "      <th>2</th>\n",
       "      <td>4377 48XX XXXX XXXX</td>\n",
       "      <td>437748</td>\n",
       "      <td>Visa</td>\n",
       "      <td>rewards</td>\n",
       "      <td>05-10-2013</td>\n",
       "      <td>C</td>\n",
       "      <td>0</td>\n",
       "      <td>0</td>\n",
       "      <td>0</td>\n",
       "      <td>0</td>\n",
       "    </tr>\n",
       "    <tr>\n",
       "      <th>3</th>\n",
       "      <td>4258 06XX XXXX XXXX</td>\n",
       "      <td>425806</td>\n",
       "      <td>Visa</td>\n",
       "      <td>indianoil</td>\n",
       "      <td>01-06-1999</td>\n",
       "      <td>E</td>\n",
       "      <td>0</td>\n",
       "      <td>1</td>\n",
       "      <td>1</td>\n",
       "      <td>1</td>\n",
       "    </tr>\n",
       "    <tr>\n",
       "      <th>4</th>\n",
       "      <td>4377 48XX XXXX XXXX</td>\n",
       "      <td>437748</td>\n",
       "      <td>Visa</td>\n",
       "      <td>edge</td>\n",
       "      <td>13-06-2006</td>\n",
       "      <td>B</td>\n",
       "      <td>1</td>\n",
       "      <td>1</td>\n",
       "      <td>1</td>\n",
       "      <td>0</td>\n",
       "    </tr>\n",
       "  </tbody>\n",
       "</table>\n",
       "</div>"
      ],
      "text/plain": [
       "               card_no  card_bin_no Issuer   card_type card_source_date  \\\n",
       "0  4384 39XX XXXX XXXX       438439   Visa        edge       29-09-2019   \n",
       "1  4377 48XX XXXX XXXX       437748   Visa  prosperity       30-10-2002   \n",
       "2  4377 48XX XXXX XXXX       437748   Visa     rewards       05-10-2013   \n",
       "3  4258 06XX XXXX XXXX       425806   Visa   indianoil       01-06-1999   \n",
       "4  4377 48XX XXXX XXXX       437748   Visa        edge       13-06-2006   \n",
       "\n",
       "  high_networth  active_30  active_60  active_90  cc_active30  \n",
       "0             B          0          1          1            0  \n",
       "1             A          1          1          1            0  \n",
       "2             C          0          0          0            0  \n",
       "3             E          0          1          1            1  \n",
       "4             B          1          1          1            0  "
      ]
     },
     "execution_count": 15,
     "metadata": {},
     "output_type": "execute_result"
    }
   ],
   "source": [
    "bank.iloc[:,1:11].head() # checking columns index no. from 1 to 10"
   ]
  },
  {
   "cell_type": "code",
   "execution_count": 16,
   "id": "e0ef05a9-5303-4a1b-9355-258c6b717303",
   "metadata": {},
   "outputs": [
    {
     "data": {
      "text/html": [
       "<div>\n",
       "<style scoped>\n",
       "    .dataframe tbody tr th:only-of-type {\n",
       "        vertical-align: middle;\n",
       "    }\n",
       "\n",
       "    .dataframe tbody tr th {\n",
       "        vertical-align: top;\n",
       "    }\n",
       "\n",
       "    .dataframe thead th {\n",
       "        text-align: right;\n",
       "    }\n",
       "</style>\n",
       "<table border=\"1\" class=\"dataframe\">\n",
       "  <thead>\n",
       "    <tr style=\"text-align: right;\">\n",
       "      <th></th>\n",
       "      <th>cc_active30</th>\n",
       "      <th>cc_active60</th>\n",
       "      <th>cc_active90</th>\n",
       "      <th>hotlist_flag</th>\n",
       "      <th>widget_products</th>\n",
       "      <th>engagement_products</th>\n",
       "      <th>annual_income_at_source</th>\n",
       "      <th>other_bank_cc_holding</th>\n",
       "    </tr>\n",
       "  </thead>\n",
       "  <tbody>\n",
       "    <tr>\n",
       "      <th>0</th>\n",
       "      <td>0</td>\n",
       "      <td>0</td>\n",
       "      <td>0</td>\n",
       "      <td>N</td>\n",
       "      <td>1</td>\n",
       "      <td>3</td>\n",
       "      <td>15,52,111</td>\n",
       "      <td>Y</td>\n",
       "    </tr>\n",
       "    <tr>\n",
       "      <th>1</th>\n",
       "      <td>0</td>\n",
       "      <td>0</td>\n",
       "      <td>0</td>\n",
       "      <td>N</td>\n",
       "      <td>4</td>\n",
       "      <td>1</td>\n",
       "      <td>48,33,871</td>\n",
       "      <td>Y</td>\n",
       "    </tr>\n",
       "    <tr>\n",
       "      <th>2</th>\n",
       "      <td>0</td>\n",
       "      <td>0</td>\n",
       "      <td>0</td>\n",
       "      <td>N</td>\n",
       "      <td>4</td>\n",
       "      <td>2</td>\n",
       "      <td>13,45,429</td>\n",
       "      <td>N</td>\n",
       "    </tr>\n",
       "    <tr>\n",
       "      <th>3</th>\n",
       "      <td>1</td>\n",
       "      <td>1</td>\n",
       "      <td>1</td>\n",
       "      <td>N</td>\n",
       "      <td>6</td>\n",
       "      <td>0</td>\n",
       "      <td>8,80,560</td>\n",
       "      <td>N</td>\n",
       "    </tr>\n",
       "    <tr>\n",
       "      <th>4</th>\n",
       "      <td>0</td>\n",
       "      <td>1</td>\n",
       "      <td>1</td>\n",
       "      <td>N</td>\n",
       "      <td>4</td>\n",
       "      <td>3</td>\n",
       "      <td>18,08,582</td>\n",
       "      <td>N</td>\n",
       "    </tr>\n",
       "  </tbody>\n",
       "</table>\n",
       "</div>"
      ],
      "text/plain": [
       "   cc_active30  cc_active60  cc_active90 hotlist_flag  widget_products  \\\n",
       "0            0            0            0            N                1   \n",
       "1            0            0            0            N                4   \n",
       "2            0            0            0            N                4   \n",
       "3            1            1            1            N                6   \n",
       "4            0            1            1            N                4   \n",
       "\n",
       "   engagement_products  annual_income_at_source  other_bank_cc_holding  \n",
       "0                    3                15,52,111                      Y  \n",
       "1                    1                48,33,871                      Y  \n",
       "2                    2                13,45,429                      N  \n",
       "3                    0                 8,80,560                      N  \n",
       "4                    3                18,08,582                      N  "
      ]
     },
     "execution_count": 16,
     "metadata": {},
     "output_type": "execute_result"
    }
   ],
   "source": [
    "bank.iloc[:,10:18].head() # checking columns index no. from 10 to 18"
   ]
  },
  {
   "cell_type": "code",
   "execution_count": 17,
   "id": "95d1e628-bdee-4979-90a8-aaa91ffca93b",
   "metadata": {},
   "outputs": [
    {
     "data": {
      "text/html": [
       "<div>\n",
       "<style scoped>\n",
       "    .dataframe tbody tr th:only-of-type {\n",
       "        vertical-align: middle;\n",
       "    }\n",
       "\n",
       "    .dataframe tbody tr th {\n",
       "        vertical-align: top;\n",
       "    }\n",
       "\n",
       "    .dataframe thead th {\n",
       "        text-align: right;\n",
       "    }\n",
       "</style>\n",
       "<table border=\"1\" class=\"dataframe\">\n",
       "  <thead>\n",
       "    <tr style=\"text-align: right;\">\n",
       "      <th></th>\n",
       "      <th>bank_vintage</th>\n",
       "      <th>T+1_month_activity</th>\n",
       "      <th>T+2_month_activity</th>\n",
       "      <th>T+3_month_activity</th>\n",
       "      <th>T+6_month_activity</th>\n",
       "      <th>T+12_month_activity</th>\n",
       "      <th>Transactor_revolver</th>\n",
       "      <th>avg_spends_l3m</th>\n",
       "    </tr>\n",
       "  </thead>\n",
       "  <tbody>\n",
       "    <tr>\n",
       "      <th>0</th>\n",
       "      <td>27</td>\n",
       "      <td>0</td>\n",
       "      <td>0</td>\n",
       "      <td>0</td>\n",
       "      <td>0</td>\n",
       "      <td>0</td>\n",
       "      <td>T</td>\n",
       "      <td>27,729</td>\n",
       "    </tr>\n",
       "    <tr>\n",
       "      <th>1</th>\n",
       "      <td>52</td>\n",
       "      <td>0</td>\n",
       "      <td>0</td>\n",
       "      <td>0</td>\n",
       "      <td>0</td>\n",
       "      <td>0</td>\n",
       "      <td>R</td>\n",
       "      <td>2,80,854</td>\n",
       "    </tr>\n",
       "    <tr>\n",
       "      <th>2</th>\n",
       "      <td>23</td>\n",
       "      <td>1</td>\n",
       "      <td>0</td>\n",
       "      <td>0</td>\n",
       "      <td>0</td>\n",
       "      <td>0</td>\n",
       "      <td>R</td>\n",
       "      <td>70,587</td>\n",
       "    </tr>\n",
       "    <tr>\n",
       "      <th>3</th>\n",
       "      <td>49</td>\n",
       "      <td>0</td>\n",
       "      <td>0</td>\n",
       "      <td>1</td>\n",
       "      <td>0</td>\n",
       "      <td>0</td>\n",
       "      <td>T</td>\n",
       "      <td>9,156</td>\n",
       "    </tr>\n",
       "    <tr>\n",
       "      <th>4</th>\n",
       "      <td>21</td>\n",
       "      <td>1</td>\n",
       "      <td>0</td>\n",
       "      <td>0</td>\n",
       "      <td>0</td>\n",
       "      <td>0</td>\n",
       "      <td>T</td>\n",
       "      <td>38,108</td>\n",
       "    </tr>\n",
       "  </tbody>\n",
       "</table>\n",
       "</div>"
      ],
      "text/plain": [
       "   bank_vintage  T+1_month_activity  T+2_month_activity  T+3_month_activity  \\\n",
       "0            27                   0                   0                   0   \n",
       "1            52                   0                   0                   0   \n",
       "2            23                   1                   0                   0   \n",
       "3            49                   0                   0                   1   \n",
       "4            21                   1                   0                   0   \n",
       "\n",
       "   T+6_month_activity  T+12_month_activity Transactor_revolver  \\\n",
       "0                   0                    0                   T   \n",
       "1                   0                    0                   R   \n",
       "2                   0                    0                   R   \n",
       "3                   0                    0                   T   \n",
       "4                   0                    0                   T   \n",
       "\n",
       "   avg_spends_l3m   \n",
       "0          27,729   \n",
       "1        2,80,854   \n",
       "2          70,587   \n",
       "3           9,156   \n",
       "4          38,108   "
      ]
     },
     "execution_count": 17,
     "metadata": {},
     "output_type": "execute_result"
    }
   ],
   "source": [
    "bank.iloc[:,18:26].head() # checking columns index no. from 18 to 26"
   ]
  },
  {
   "cell_type": "code",
   "execution_count": 18,
   "id": "937c88e6-d527-4ef5-ade9-0490921b6429",
   "metadata": {},
   "outputs": [
    {
     "data": {
      "text/html": [
       "<div>\n",
       "<style scoped>\n",
       "    .dataframe tbody tr th:only-of-type {\n",
       "        vertical-align: middle;\n",
       "    }\n",
       "\n",
       "    .dataframe tbody tr th {\n",
       "        vertical-align: top;\n",
       "    }\n",
       "\n",
       "    .dataframe thead th {\n",
       "        text-align: right;\n",
       "    }\n",
       "</style>\n",
       "<table border=\"1\" class=\"dataframe\">\n",
       "  <thead>\n",
       "    <tr style=\"text-align: right;\">\n",
       "      <th></th>\n",
       "      <th>Occupation_at_source</th>\n",
       "      <th>cc_limit</th>\n",
       "    </tr>\n",
       "  </thead>\n",
       "  <tbody>\n",
       "    <tr>\n",
       "      <th>0</th>\n",
       "      <td>Self Employed</td>\n",
       "      <td>290000</td>\n",
       "    </tr>\n",
       "    <tr>\n",
       "      <th>1</th>\n",
       "      <td>0</td>\n",
       "      <td>950000</td>\n",
       "    </tr>\n",
       "    <tr>\n",
       "      <th>2</th>\n",
       "      <td>Student</td>\n",
       "      <td>210000</td>\n",
       "    </tr>\n",
       "    <tr>\n",
       "      <th>3</th>\n",
       "      <td>Self Employed</td>\n",
       "      <td>80000</td>\n",
       "    </tr>\n",
       "    <tr>\n",
       "      <th>4</th>\n",
       "      <td>Salaried</td>\n",
       "      <td>220000</td>\n",
       "    </tr>\n",
       "  </tbody>\n",
       "</table>\n",
       "</div>"
      ],
      "text/plain": [
       "  Occupation_at_source  cc_limit\n",
       "0        Self Employed    290000\n",
       "1                    0    950000\n",
       "2              Student    210000\n",
       "3        Self Employed     80000\n",
       "4             Salaried    220000"
      ]
     },
     "execution_count": 18,
     "metadata": {},
     "output_type": "execute_result"
    }
   ],
   "source": [
    "bank.iloc[:,26:32].head() #checking the last 2 columns."
   ]
  },
  {
   "cell_type": "markdown",
   "id": "ed6ca030-d32e-4768-a7ec-6f7f39ffc57a",
   "metadata": {},
   "source": [
    "<h4>Now i will be checking unique values in each column one by one..</h4>"
   ]
  },
  {
   "cell_type": "code",
   "execution_count": 19,
   "id": "857b934b-b777-4a51-8b63-60f076c341fe",
   "metadata": {},
   "outputs": [
    {
     "data": {
      "text/plain": [
       "array(['Visa', 'Mastercard', 'Amex'], dtype=object)"
      ]
     },
     "execution_count": 19,
     "metadata": {},
     "output_type": "execute_result"
    }
   ],
   "source": [
    "bank.Issuer.unique()  # checking unique card issuing companies"
   ]
  },
  {
   "cell_type": "code",
   "execution_count": 20,
   "id": "098112bc-cf94-4e82-9d9a-b8b9629d267b",
   "metadata": {},
   "outputs": [
    {
     "data": {
      "text/plain": [
       "array(['edge', 'prosperity', 'rewards', 'indianoil', 'cashback',\n",
       "       'shoprite', 'chartered', 'aura', 'gold', 'smartearn', 'prime',\n",
       "       'pulse', 'platinum', 'centurion', 'elite'], dtype=object)"
      ]
     },
     "execution_count": 20,
     "metadata": {},
     "output_type": "execute_result"
    }
   ],
   "source": [
    "bank.card_type.unique() # checking unique card types"
   ]
  },
  {
   "cell_type": "code",
   "execution_count": 21,
   "id": "ab1dfc7b-d4c2-48d7-819b-e5e4d631bf5b",
   "metadata": {},
   "outputs": [
    {
     "data": {
      "text/plain": [
       "array(['B', 'A', 'C', 'E', 'D'], dtype=object)"
      ]
     },
     "execution_count": 21,
     "metadata": {},
     "output_type": "execute_result"
    }
   ],
   "source": [
    "bank.high_networth.unique() #networth value (A: High to E: Low)"
   ]
  },
  {
   "cell_type": "markdown",
   "id": "7bf69a6c-e071-43c6-9d56-70f1378f4c53",
   "metadata": {},
   "source": [
    "<h4>Below I am Cheking unique values in all columns</h4>"
   ]
  },
  {
   "cell_type": "code",
   "execution_count": 22,
   "id": "ff99aefc-12b7-4c4b-9514-def3f1e7b9aa",
   "metadata": {},
   "outputs": [
    {
     "data": {
      "text/plain": [
       "array(['T', 'R'], dtype=object)"
      ]
     },
     "execution_count": 22,
     "metadata": {},
     "output_type": "execute_result"
    }
   ],
   "source": [
    "bank.Transactor_revolver.unique() "
   ]
  },
  {
   "cell_type": "code",
   "execution_count": 23,
   "id": "8d248bf2-dfb4-462a-badc-c2b540284c54",
   "metadata": {},
   "outputs": [
    {
     "data": {
      "text/plain": [
       "array(['N', 'Y'], dtype=object)"
      ]
     },
     "execution_count": 23,
     "metadata": {},
     "output_type": "execute_result"
    }
   ],
   "source": [
    "bank.hotlist_flag.unique()"
   ]
  },
  {
   "cell_type": "code",
   "execution_count": 24,
   "id": "cf044c86-1325-4600-960d-261e5aca9d4b",
   "metadata": {},
   "outputs": [
    {
     "data": {
      "text/plain": [
       "array(['Y', 'N'], dtype=object)"
      ]
     },
     "execution_count": 24,
     "metadata": {},
     "output_type": "execute_result"
    }
   ],
   "source": [
    "bank.other_bank_cc_holding.unique()"
   ]
  },
  {
   "cell_type": "code",
   "execution_count": 25,
   "id": "ec843b47-b636-4e40-a97a-c50a3984051e",
   "metadata": {},
   "outputs": [
    {
     "data": {
      "text/plain": [
       "array(['Self Employed', '0', 'Student', 'Salaried', 'Retired',\n",
       "       'Housewife'], dtype=object)"
      ]
     },
     "execution_count": 25,
     "metadata": {},
     "output_type": "execute_result"
    }
   ],
   "source": [
    "bank.Occupation_at_source.unique() \n",
    "\n",
    "# We see that in \"Occupation_at_source\" column it has zero which doesn't represents anything. "
   ]
  },
  {
   "cell_type": "code",
   "execution_count": 26,
   "id": "78c35da6-65cf-49c0-a5cc-5b6694ef3a17",
   "metadata": {},
   "outputs": [
    {
     "data": {
      "text/plain": [
       "Occupation_at_source\n",
       "0                 261\n",
       "Housewife         384\n",
       "Retired          1089\n",
       "Salaried         3918\n",
       "Self Employed    2175\n",
       "Student           621\n",
       "Name: Occupation_at_source, dtype: int64"
      ]
     },
     "execution_count": 26,
     "metadata": {},
     "output_type": "execute_result"
    }
   ],
   "source": [
    "bank.groupby('Occupation_at_source')['Occupation_at_source'].count() \n",
    "\n",
    "# that zero value is present 261 times in \"Occupation_at_source\" column"
   ]
  },
  {
   "cell_type": "code",
   "execution_count": 27,
   "id": "9bfc2a76-65a1-4702-a622-a9b6d2b7c4d6",
   "metadata": {},
   "outputs": [],
   "source": [
    "occupation_counts=bank.groupby('Occupation_at_source')['Occupation_at_source'].count()\n",
    "\n",
    "# Saving all the counted values in occupation_counts variable."
   ]
  },
  {
   "cell_type": "code",
   "execution_count": 28,
   "id": "9c6f9960-33de-4856-b80c-bd500f2f8a87",
   "metadata": {},
   "outputs": [],
   "source": [
    "most_frequent_occupation=occupation_counts.idxmax()\n",
    "\n",
    "# taking out the only occupation which most people are doing.\n",
    "# here most or maximum people are Salaried."
   ]
  },
  {
   "cell_type": "code",
   "execution_count": 29,
   "id": "ce725a96-9870-4732-b611-03ace178310e",
   "metadata": {},
   "outputs": [
    {
     "name": "stderr",
     "output_type": "stream",
     "text": [
      "C:\\Users\\Amit\\AppData\\Local\\Temp\\ipykernel_10488\\2777252284.py:1: FutureWarning: A value is trying to be set on a copy of a DataFrame or Series through chained assignment using an inplace method.\n",
      "The behavior will change in pandas 3.0. This inplace method will never work because the intermediate object on which we are setting values always behaves as a copy.\n",
      "\n",
      "For example, when doing 'df[col].method(value, inplace=True)', try using 'df.method({col: value}, inplace=True)' or df[col] = df[col].method(value) instead, to perform the operation inplace on the original object.\n",
      "\n",
      "\n",
      "  bank['Occupation_at_source'].replace('0', most_frequent_occupation, inplace=True)\n"
     ]
    }
   ],
   "source": [
    "bank['Occupation_at_source'].replace('0', most_frequent_occupation, inplace=True)\n",
    "\n",
    "# replacing all the zero's with Salaried"
   ]
  },
  {
   "cell_type": "code",
   "execution_count": 30,
   "id": "b8bdbd9d-aa87-427c-89c4-243f1fd06789",
   "metadata": {},
   "outputs": [
    {
     "data": {
      "text/plain": [
       "Occupation_at_source\n",
       "Housewife         384\n",
       "Retired          1089\n",
       "Salaried         4179\n",
       "Self Employed    2175\n",
       "Student           621\n",
       "Name: Occupation_at_source, dtype: int64"
      ]
     },
     "execution_count": 30,
     "metadata": {},
     "output_type": "execute_result"
    }
   ],
   "source": [
    "bank.groupby('Occupation_at_source')['Occupation_at_source'].count()\n",
    "\n",
    "# here is the column Occupation_at_source fixed."
   ]
  },
  {
   "cell_type": "code",
   "execution_count": 31,
   "id": "dc3cebc3-210f-457d-b25e-5386a49bec35",
   "metadata": {},
   "outputs": [
    {
     "data": {
      "text/plain": [
       "array([0, 1], dtype=int64)"
      ]
     },
     "execution_count": 31,
     "metadata": {},
     "output_type": "execute_result"
    }
   ],
   "source": [
    "# again checking unique values in other columns\n",
    "\n",
    "bank.active_30.unique()"
   ]
  },
  {
   "cell_type": "code",
   "execution_count": 32,
   "id": "d8dcb1be-597c-4150-89fd-65793a87c92f",
   "metadata": {},
   "outputs": [
    {
     "data": {
      "text/plain": [
       "array([1, 0], dtype=int64)"
      ]
     },
     "execution_count": 32,
     "metadata": {},
     "output_type": "execute_result"
    }
   ],
   "source": [
    "bank.active_60.unique()"
   ]
  },
  {
   "cell_type": "code",
   "execution_count": 33,
   "id": "6d0a23fa-7e7d-4d8a-a306-7cb7b7ff5fc9",
   "metadata": {},
   "outputs": [
    {
     "data": {
      "text/plain": [
       "array([1, 0], dtype=int64)"
      ]
     },
     "execution_count": 33,
     "metadata": {},
     "output_type": "execute_result"
    }
   ],
   "source": [
    "bank.active_90.unique()"
   ]
  },
  {
   "cell_type": "code",
   "execution_count": 34,
   "id": "e887967c-9c55-4fc9-9948-6804479cb891",
   "metadata": {},
   "outputs": [
    {
     "data": {
      "text/plain": [
       "array([0, 1], dtype=int64)"
      ]
     },
     "execution_count": 34,
     "metadata": {},
     "output_type": "execute_result"
    }
   ],
   "source": [
    "bank.cc_active30.unique()"
   ]
  },
  {
   "cell_type": "code",
   "execution_count": 35,
   "id": "67db8580-6f31-414e-97c4-30e8c2880bd1",
   "metadata": {},
   "outputs": [
    {
     "data": {
      "text/plain": [
       "array([0, 1], dtype=int64)"
      ]
     },
     "execution_count": 35,
     "metadata": {},
     "output_type": "execute_result"
    }
   ],
   "source": [
    "bank.cc_active60.unique()"
   ]
  },
  {
   "cell_type": "code",
   "execution_count": 36,
   "id": "06d019e1-ccc0-4305-8220-cfc65856aecb",
   "metadata": {},
   "outputs": [
    {
     "data": {
      "text/plain": [
       "array([0, 1], dtype=int64)"
      ]
     },
     "execution_count": 36,
     "metadata": {},
     "output_type": "execute_result"
    }
   ],
   "source": [
    "bank.cc_active90.unique()"
   ]
  },
  {
   "cell_type": "code",
   "execution_count": 37,
   "id": "ccd25987-9d1a-4e13-9017-9fc4ba7daad1",
   "metadata": {},
   "outputs": [
    {
     "data": {
      "text/plain": [
       "array([1, 4, 6, 3, 5, 7, 2, 0], dtype=int64)"
      ]
     },
     "execution_count": 37,
     "metadata": {},
     "output_type": "execute_result"
    }
   ],
   "source": [
    "bank.widget_products.unique()"
   ]
  },
  {
   "cell_type": "code",
   "execution_count": 38,
   "id": "130386d6-0a51-4880-a74e-33777de24ae0",
   "metadata": {},
   "outputs": [
    {
     "data": {
      "text/plain": [
       "array([3, 1, 2, 0, 5, 4, 6, 7, 8], dtype=int64)"
      ]
     },
     "execution_count": 38,
     "metadata": {},
     "output_type": "execute_result"
    }
   ],
   "source": [
    "bank.engagement_products.unique()"
   ]
  },
  {
   "cell_type": "code",
   "execution_count": 39,
   "id": "fb3521d8-8263-47f8-99cc-afa585ec0d97",
   "metadata": {},
   "outputs": [
    {
     "data": {
      "text/plain": [
       "array([0, 1], dtype=int64)"
      ]
     },
     "execution_count": 39,
     "metadata": {},
     "output_type": "execute_result"
    }
   ],
   "source": [
    "bank['T+1_month_activity'].unique()"
   ]
  },
  {
   "cell_type": "code",
   "execution_count": 40,
   "id": "81e68875-9976-4f21-aa33-296d9ca8d96e",
   "metadata": {},
   "outputs": [
    {
     "data": {
      "text/plain": [
       "array([0, 1], dtype=int64)"
      ]
     },
     "execution_count": 40,
     "metadata": {},
     "output_type": "execute_result"
    }
   ],
   "source": [
    "bank['T+2_month_activity'].unique()"
   ]
  },
  {
   "cell_type": "code",
   "execution_count": 41,
   "id": "cc3e03a0-3c43-48a6-ba37-558c503fe182",
   "metadata": {},
   "outputs": [
    {
     "data": {
      "text/plain": [
       "array([0, 1], dtype=int64)"
      ]
     },
     "execution_count": 41,
     "metadata": {},
     "output_type": "execute_result"
    }
   ],
   "source": [
    "bank['T+3_month_activity'].unique()"
   ]
  },
  {
   "cell_type": "code",
   "execution_count": 42,
   "id": "c5a678a6-c5c1-4cc1-8904-cb38a463b372",
   "metadata": {},
   "outputs": [
    {
     "data": {
      "text/plain": [
       "array([0, 1], dtype=int64)"
      ]
     },
     "execution_count": 42,
     "metadata": {},
     "output_type": "execute_result"
    }
   ],
   "source": [
    "bank['T+6_month_activity'].unique()"
   ]
  },
  {
   "cell_type": "code",
   "execution_count": 43,
   "id": "57796553-8ee4-4053-afe0-304dd1fe1d11",
   "metadata": {},
   "outputs": [
    {
     "data": {
      "text/plain": [
       "array([0, 1], dtype=int64)"
      ]
     },
     "execution_count": 43,
     "metadata": {},
     "output_type": "execute_result"
    }
   ],
   "source": [
    "bank['T+12_month_activity'].unique()"
   ]
  },
  {
   "cell_type": "code",
   "execution_count": 44,
   "id": "4d04e794-e9fa-45ea-8e02-4c58e6bdee6a",
   "metadata": {
    "scrolled": true
   },
   "outputs": [],
   "source": [
    "card_type_counts=bank.groupby(['card_type'])['card_type'].count()  #Counting card types by grouping each card type."
   ]
  },
  {
   "cell_type": "code",
   "execution_count": 45,
   "id": "c3c828cc-f4e2-4018-8efa-5aa6e7bbff1d",
   "metadata": {},
   "outputs": [
    {
     "data": {
      "text/plain": [
       "card_type\n",
       "rewards       1502\n",
       "prosperity    1007\n",
       "edge           980\n",
       "chartered      923\n",
       "smartearn      765\n",
       "shoprite       688\n",
       "indianoil      680\n",
       "cashback       676\n",
       "aura           652\n",
       "gold           145\n",
       "prime          112\n",
       "pulse          101\n",
       "elite           96\n",
       "centurion       62\n",
       "platinum        59\n",
       "Name: card_type, dtype: int64"
      ]
     },
     "execution_count": 45,
     "metadata": {},
     "output_type": "execute_result"
    }
   ],
   "source": [
    "card_type_counts.sort_values(ascending=False) # Checking what card type used most."
   ]
  },
  {
   "cell_type": "code",
   "execution_count": 46,
   "id": "b38edf48-d511-4131-b6ce-52402829c3b8",
   "metadata": {},
   "outputs": [
    {
     "data": {
      "text/plain": [
       "Issuer\n",
       "Amex           441\n",
       "Mastercard     728\n",
       "Visa          7279\n",
       "Name: Issuer, dtype: int64"
      ]
     },
     "execution_count": 46,
     "metadata": {},
     "output_type": "execute_result"
    }
   ],
   "source": [
    "bank.groupby(['Issuer'])['Issuer'].count()  # most card Issued for VISA Company"
   ]
  },
  {
   "cell_type": "code",
   "execution_count": 47,
   "id": "64d49938-6000-4082-bcbe-76ba02c6a57d",
   "metadata": {},
   "outputs": [
    {
     "data": {
      "image/png": "[encoded data removed]",
      "text/plain": [
       "<Figure size 640x480 with 1 Axes>"
      ]
     },
     "metadata": {},
     "output_type": "display_data"
    }
   ],
   "source": [
    "ax=sns.countplot(data=bank,x=\"Issuer\",hue=\"Occupation_at_source\")\n",
    "\n",
    "for bars in ax.containers:\n",
    "    ax.bar_label(bars)\n",
    "\n",
    "\n",
    "# Visa card is best among Salaired and Self employed ( I mean most occupation likes VISA card)"
   ]
  },
  {
   "cell_type": "code",
   "execution_count": 49,
   "id": "c20e8b6b-6970-4a36-bc61-887c97d0c44b",
   "metadata": {
    "scrolled": true
   },
   "outputs": [
    {
     "data": {
      "text/plain": [
       "Occupation_at_source\n",
       "Housewife         384\n",
       "Retired          1089\n",
       "Salaried         4179\n",
       "Self Employed    2175\n",
       "Student           621\n",
       "Name:  avg_spends_l3m , dtype: int64"
      ]
     },
     "execution_count": 49,
     "metadata": {},
     "output_type": "execute_result"
    }
   ],
   "source": [
    "bank.groupby(['Occupation_at_source'])[' avg_spends_l3m '].count()\n",
    "\n",
    "# here we can see that Salaried customers have spend more in last 3 months than others."
   ]
  },
  {
   "cell_type": "code",
   "execution_count": 50,
   "id": "d6ab51c6-dc49-4996-9ad6-ae4e75e8b696",
   "metadata": {},
   "outputs": [
    {
     "data": {
      "text/plain": [
       "Transactor_revolver  Occupation_at_source\n",
       "R                    Housewife                 47\n",
       "                     Retired                  161\n",
       "                     Salaried                 656\n",
       "                     Self Employed            337\n",
       "                     Student                   94\n",
       "T                    Housewife                337\n",
       "                     Retired                  928\n",
       "                     Salaried                3523\n",
       "                     Self Employed           1838\n",
       "                     Student                  527\n",
       "Name:  avg_spends_l3m , dtype: int64"
      ]
     },
     "execution_count": 50,
     "metadata": {},
     "output_type": "execute_result"
    }
   ],
   "source": [
    "bank.groupby(['Transactor_revolver','Occupation_at_source'])[' avg_spends_l3m '].count()\n",
    "\n",
    "# here we can see that Salaried are more likely to pay full amount each month."
   ]
  },
  {
   "cell_type": "code",
   "execution_count": 51,
   "id": "e2fb95bd-f8c5-41ef-bd5d-2d88c8b0a4b2",
   "metadata": {},
   "outputs": [
    {
     "data": {
      "image/png": "[encoded data removed]",
      "text/plain": [
       "<Figure size 640x480 with 1 Axes>"
      ]
     },
     "metadata": {},
     "output_type": "display_data"
    }
   ],
   "source": [
    "ax=sns.countplot(data=bank,x=\"Transactor_revolver\",hue=\"Occupation_at_source\")\n",
    "plt.xlabel(\"Transactor Paid Full // Revolver\")\n",
    "plt.ylabel(\"Count\")\n",
    "plt.show()\n",
    "for bars in ax.containers:\n",
    "    ax.bar_label(bars)\n",
    "\n",
    "\n",
    "# Salaried Customer pays full amount every month on credit card spendings."
   ]
  },
  {
   "cell_type": "code",
   "execution_count": 104,
   "id": "aef1fc34-09b6-4fe6-a008-9000af0fa2cd",
   "metadata": {},
   "outputs": [],
   "source": [
    "pc=bank.groupby(['Occupation_at_source','widget_products'])['widget_products'].count() \n",
    "\n",
    "# counting how many products used by each occupation customers "
   ]
  },
  {
   "cell_type": "code",
   "execution_count": 106,
   "id": "a894da2d-c905-4c50-b963-7013c4bf1d55",
   "metadata": {},
   "outputs": [
    {
     "data": {
      "text/plain": [
       "Occupation_at_source  widget_products\n",
       "Salaried              7                  566\n",
       "                      5                  558\n",
       "                      6                  550\n",
       "                      4                  543\n",
       "                      3                  537\n",
       "                      2                  500\n",
       "                      1                  463\n",
       "                      0                  462\n",
       "Self Employed         7                  315\n",
       "                      4                  280\n",
       "                      1                  279\n",
       "                      6                  278\n",
       "                      3                  269\n",
       "                      5                  267\n",
       "                      2                  261\n",
       "                      0                  226\n",
       "Retired               4                  159\n",
       "                      5                  157\n",
       "                      0                  135\n",
       "                      2                  133\n",
       "                      1                  131\n",
       "                      7                  129\n",
       "                      3                  128\n",
       "                      6                  117\n",
       "Student               5                   90\n",
       "                      4                   86\n",
       "                      0                   77\n",
       "                      7                   77\n",
       "                      1                   76\n",
       "                      3                   76\n",
       "                      2                   71\n",
       "                      6                   68\n",
       "Housewife             0                   55\n",
       "                      3                   50\n",
       "                      6                   49\n",
       "                      4                   49\n",
       "                      1                   48\n",
       "                      7                   45\n",
       "                      2                   45\n",
       "                      5                   43\n",
       "Name: widget_products, dtype: int64"
      ]
     },
     "execution_count": 106,
     "metadata": {},
     "output_type": "execute_result"
    }
   ],
   "source": [
    "pc.sort_values(ascending=False)\n",
    "\n",
    "# most used widget_product is 7 than 4,5"
   ]
  },
  {
   "cell_type": "code",
   "execution_count": 80,
   "id": "1abc4ff6-62f0-42af-820e-8cabcd2443fb",
   "metadata": {},
   "outputs": [
    {
     "data": {
      "image/png": "[encoded data removed]",
      "text/plain": [
       "<Figure size 1500x500 with 1 Axes>"
      ]
     },
     "metadata": {},
     "output_type": "display_data"
    }
   ],
   "source": [
    "# Example: Bar plot for count of credit cards by card type\n",
    "plt.figure(figsize=(15, 5))\n",
    "sns.countplot(data=bank, x='card_type')\n",
    "plt.xlabel('Card Type')\n",
    "plt.ylabel('Count')\n",
    "plt.title('Count of Credit Cards by Card Type')\n",
    "plt.show()\n",
    "\n",
    "# Best credit card types are rewards, prosperity and edge."
   ]
  },
  {
   "cell_type": "code",
   "execution_count": 78,
   "id": "c35cf133-8d7a-4c5c-adf9-08fa7a4eafbf",
   "metadata": {},
   "outputs": [
    {
     "data": {
      "image/png": "[encoded data removed]",
      "text/plain": [
       "<Figure size 800x600 with 1 Axes>"
      ]
     },
     "metadata": {},
     "output_type": "display_data"
    }
   ],
   "source": [
    "# Example: Pie chart for high_networth distribution\n",
    "plt.figure(figsize=(8, 6))\n",
    "bank['high_networth'].value_counts().plot(kind='pie', autopct='%1.1f%%', colors=sns.color_palette('pastel'), explode=(0.15, 0.05, 0.05, 0.05, 0.05))\n",
    "plt.title('Distribution of Customers by High Networth Category')\n",
    "plt.ylabel('')\n",
    "plt.show()\n",
    "\n",
    "# Customer with high networth A are more than others"
   ]
  },
  {
   "cell_type": "code",
   "execution_count": 94,
   "id": "77a4c79b-bbb0-41ad-b33e-44b8a3cdaa22",
   "metadata": {},
   "outputs": [
    {
     "name": "stdout",
     "output_type": "stream",
     "text": [
      "Average credit card limit among salaried customers: 268636.0373295047\n",
      "Maximum credit card limit among salaried customers: 990000\n"
     ]
    }
   ],
   "source": [
    "# Filter the data for customers with occupation 'Salaried'\n",
    "salaried_customers = bank[bank['Occupation_at_source'] == 'Salaried']\n",
    "\n",
    "# Calculate the average credit card limit among salaried customers\n",
    "avg_cc_limit_salaried = salaried_customers['cc_limit'].mean()\n",
    "\n",
    "# Calculate the maximum credit card limit among salaried customers\n",
    "max_cc_limit_salaried = salaried_customers['cc_limit'].max()\n",
    "\n",
    "# Display the results\n",
    "print(\"Average credit card limit among salaried customers:\", avg_cc_limit_salaried)\n",
    "print(\"Maximum credit card limit among salaried customers:\", max_cc_limit_salaried)\n"
   ]
  },
  {
   "cell_type": "code",
   "execution_count": 62,
   "id": "e675a2cd-6347-4b9c-8434-dfc7d8b3b2ad",
   "metadata": {},
   "outputs": [
    {
     "name": "stderr",
     "output_type": "stream",
     "text": [
      "C:\\Users\\Amit\\AppData\\Local\\Temp\\ipykernel_10488\\1317588632.py:2: FutureWarning: \n",
      "\n",
      "Passing `palette` without assigning `hue` is deprecated and will be removed in v0.14.0. Assign the `x` variable to `hue` and set `legend=False` for the same effect.\n",
      "\n",
      "  sns.countplot(data=bank, x='high_networth', palette='pastel')\n"
     ]
    },
    {
     "data": {
      "image/png": "[encoded data removed]",
      "text/plain": [
       "<Figure size 800x600 with 1 Axes>"
      ]
     },
     "metadata": {},
     "output_type": "display_data"
    }
   ],
   "source": [
    "plt.figure(figsize=(8, 6))\n",
    "sns.countplot(data=bank, x='high_networth', palette='pastel')\n",
    "plt.xlabel('High Networth Category')\n",
    "plt.ylabel('Count')\n",
    "plt.title('Customer Segmentation by High Networth')\n",
    "plt.show()\n",
    "\n",
    "# Customers with High Networth A are more than Others"
   ]
  },
  {
   "cell_type": "code",
   "execution_count": 64,
   "id": "5f48910d-68ba-4047-b6a8-fded7c4d9aa8",
   "metadata": {},
   "outputs": [
    {
     "name": "stderr",
     "output_type": "stream",
     "text": [
      "C:\\Users\\Amit\\AppData\\Local\\Temp\\ipykernel_10488\\2526587724.py:2: FutureWarning: \n",
      "\n",
      "Passing `palette` without assigning `hue` is deprecated and will be removed in v0.14.0. Assign the `x` variable to `hue` and set `legend=False` for the same effect.\n",
      "\n",
      "  sns.countplot(data=bank, x='hotlist_flag', palette='Set2')\n"
     ]
    },
    {
     "data": {
      "image/png": "[encoded data removed]",
      "text/plain": [
       "<Figure size 800x600 with 1 Axes>"
      ]
     },
     "metadata": {},
     "output_type": "display_data"
    }
   ],
   "source": [
    "plt.figure(figsize=(8, 6))\n",
    "sns.countplot(data=bank, x='hotlist_flag', palette='Set2')\n",
    "plt.xlabel('Hotlist Flag')\n",
    "plt.ylabel('Count')\n",
    "plt.title('Attrition Analysis: Hotlist Flag Distribution')\n",
    "plt.show()\n",
    "\n",
    "# Very less Customers that has their card hotlisted."
   ]
  },
  {
   "cell_type": "code",
   "execution_count": 67,
   "id": "58fd30ab-d822-4343-ba67-f73ec251a9eb",
   "metadata": {},
   "outputs": [
    {
     "data": {
      "text/plain": [
       "Index(['userid', 'card_no', 'card_bin_no', 'Issuer', 'card_type',\n",
       "       'card_source_date', 'high_networth', 'active_30', 'active_60',\n",
       "       'active_90', 'cc_active30', 'cc_active60', 'cc_active90',\n",
       "       'hotlist_flag', 'widget_products', 'engagement_products',\n",
       "       ' annual_income_at_source ', 'other_bank_cc_holding', 'bank_vintage',\n",
       "       'T+1_month_activity', 'T+2_month_activity', 'T+3_month_activity',\n",
       "       'T+6_month_activity', 'T+12_month_activity', 'Transactor_revolver',\n",
       "       ' avg_spends_l3m ', 'Occupation_at_source', 'cc_limit'],\n",
       "      dtype='object')"
      ]
     },
     "execution_count": 67,
     "metadata": {},
     "output_type": "execute_result"
    }
   ],
   "source": [
    "bank.columns"
   ]
  },
  {
   "cell_type": "code",
   "execution_count": 73,
   "id": "dd97dc30-c134-4303-ae0f-100433ecb47a",
   "metadata": {},
   "outputs": [
    {
     "name": "stderr",
     "output_type": "stream",
     "text": [
      "C:\\Users\\Amit\\AppData\\Local\\Temp\\ipykernel_10488\\2930913162.py:2: FutureWarning: \n",
      "\n",
      "Passing `palette` without assigning `hue` is deprecated and will be removed in v0.14.0. Assign the `x` variable to `hue` and set `legend=False` for the same effect.\n",
      "\n",
      "  sns.countplot(data=bank, x='Transactor_revolver', palette='Set2')\n"
     ]
    },
    {
     "data": {
      "image/png": "[encoded data removed]",
      "text/plain": [
       "<Figure size 800x600 with 1 Axes>"
      ]
     },
     "metadata": {},
     "output_type": "display_data"
    }
   ],
   "source": [
    "plt.figure(figsize=(8, 6))\n",
    "sns.countplot(data=bank, x='Transactor_revolver', palette='Set2')\n",
    "plt.xlabel('Revolver Status')\n",
    "plt.ylabel('Count')\n",
    "plt.title('Distribution of Customers by Revolver Status')\n",
    "plt.show()\n",
    "\n",
    "#Here we can see there are more Customer who pays off their balances in full every month.(Denoted by T)"
   ]
  },
  {
   "cell_type": "code",
   "execution_count": 99,
   "id": "353332f9-490e-4345-a5a3-66b9851eadb7",
   "metadata": {},
   "outputs": [
    {
     "data": {
      "image/png": "[encoded data removed]",
      "text/plain": [
       "<Figure size 1000x600 with 1 Axes>"
      ]
     },
     "metadata": {},
     "output_type": "display_data"
    }
   ],
   "source": [
    "plt.figure(figsize=(10, 6))\n",
    "sns.scatterplot(data=bank, x='Occupation_at_source', y=' avg_spends_l3m ')\n",
    "plt.xlabel('Average Credit Card Spends (Last 3 Months)')\n",
    "plt.ylabel('Occupation')\n",
    "plt.title('Average Spends vs. Occupation')\n",
    "plt.show()\n",
    "\n",
    "# here we can see that Salaried customers have spend more in last 3 months"
   ]
  },
  {
   "cell_type": "markdown",
   "id": "1b85b167-7b0d-4cbf-98ec-3a5c45a6753d",
   "metadata": {},
   "source": [
    "<h1>Conclusion: Salaried and Self Employed Customers are more likely to use VISA Credit Card and they won't attrite. The best card type works here is Rewards, Prosperity and Edge.</h1>"
   ]
  },
  {
   "cell_type": "code",
   "execution_count": null,
   "id": "476d5584-451d-4d12-ade7-215f7653c8d9",
   "metadata": {},
   "outputs": [],
   "source": []
  }
 ],
 "metadata": {
  "kernelspec": {
   "display_name": "Python 3 (ipykernel)",
   "language": "python",
   "name": "python3"
  },
  "language_info": {
   "codemirror_mode": {
    "name": "ipython",
    "version": 3
   },
   "file_extension": ".py",
   "mimetype": "text/x-python",
   "name": "python",
   "nbconvert_exporter": "python",
   "pygments_lexer": "ipython3",
   "version": "3.12.1"
  }
 },
 "nbformat": 4,
 "nbformat_minor": 5
}
