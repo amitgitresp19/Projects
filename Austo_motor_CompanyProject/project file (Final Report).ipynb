{
 "cells": [
  {
   "cell_type": "markdown",
   "id": "3f69fab8-6b29-4808-bbfc-298e2af29529",
   "metadata": {},
   "source": [
    "<h2>Project on Austo Motor Company</h2>"
   ]
  },
  {
   "cell_type": "code",
   "execution_count": 252,
   "id": "83c4fb6f-8cba-4b21-8dfd-15903859f86e",
   "metadata": {},
   "outputs": [],
   "source": [
    "import numpy as np\n",
    "import pandas as pd\n",
    "import matplotlib.pyplot as plt\n",
    "import seaborn as sns\n"
   ]
  },
  {
   "cell_type": "code",
   "execution_count": 253,
   "id": "c7da2568-7101-46d5-a5e2-d857abf2e428",
   "metadata": {},
   "outputs": [],
   "source": [
    "import warnings\n",
    "warnings.filterwarnings(\"ignore\")"
   ]
  },
  {
   "cell_type": "code",
   "execution_count": 254,
   "id": "739d9e87-f157-4d26-b6a9-9dcc431e260c",
   "metadata": {},
   "outputs": [],
   "source": [
    "df= pd.read_csv(\"Austo Motor Company.csv\")"
   ]
  },
  {
   "cell_type": "code",
   "execution_count": 255,
   "id": "75137660-1e14-4a68-94b0-4ac685d08a61",
   "metadata": {},
   "outputs": [
    {
     "data": {
      "text/html": [
       "<div>\n",
       "<style scoped>\n",
       "    .dataframe tbody tr th:only-of-type {\n",
       "        vertical-align: middle;\n",
       "    }\n",
       "\n",
       "    .dataframe tbody tr th {\n",
       "        vertical-align: top;\n",
       "    }\n",
       "\n",
       "    .dataframe thead th {\n",
       "        text-align: right;\n",
       "    }\n",
       "</style>\n",
       "<table border=\"1\" class=\"dataframe\">\n",
       "  <thead>\n",
       "    <tr style=\"text-align: right;\">\n",
       "      <th></th>\n",
       "      <th>Age</th>\n",
       "      <th>Gender</th>\n",
       "      <th>Profession</th>\n",
       "      <th>Marital_status</th>\n",
       "      <th>Education</th>\n",
       "      <th>No_of_Dependents</th>\n",
       "      <th>Personal_loan</th>\n",
       "      <th>House_loan</th>\n",
       "      <th>Partner_working</th>\n",
       "      <th>Salary</th>\n",
       "      <th>Partner_salary</th>\n",
       "      <th>Total_salary</th>\n",
       "      <th>Price</th>\n",
       "      <th>Make</th>\n",
       "    </tr>\n",
       "  </thead>\n",
       "  <tbody>\n",
       "    <tr>\n",
       "      <th>0</th>\n",
       "      <td>53</td>\n",
       "      <td>Male</td>\n",
       "      <td>Business</td>\n",
       "      <td>Married</td>\n",
       "      <td>Post Graduate</td>\n",
       "      <td>4</td>\n",
       "      <td>No</td>\n",
       "      <td>No</td>\n",
       "      <td>Yes</td>\n",
       "      <td>99300</td>\n",
       "      <td>70700.0</td>\n",
       "      <td>170000</td>\n",
       "      <td>61000</td>\n",
       "      <td>SUV</td>\n",
       "    </tr>\n",
       "    <tr>\n",
       "      <th>1</th>\n",
       "      <td>53</td>\n",
       "      <td>Femal</td>\n",
       "      <td>Salaried</td>\n",
       "      <td>Married</td>\n",
       "      <td>Post Graduate</td>\n",
       "      <td>4</td>\n",
       "      <td>Yes</td>\n",
       "      <td>No</td>\n",
       "      <td>Yes</td>\n",
       "      <td>95500</td>\n",
       "      <td>70300.0</td>\n",
       "      <td>165800</td>\n",
       "      <td>61000</td>\n",
       "      <td>SUV</td>\n",
       "    </tr>\n",
       "    <tr>\n",
       "      <th>2</th>\n",
       "      <td>53</td>\n",
       "      <td>Female</td>\n",
       "      <td>Salaried</td>\n",
       "      <td>Married</td>\n",
       "      <td>Post Graduate</td>\n",
       "      <td>3</td>\n",
       "      <td>No</td>\n",
       "      <td>No</td>\n",
       "      <td>Yes</td>\n",
       "      <td>97300</td>\n",
       "      <td>60700.0</td>\n",
       "      <td>158000</td>\n",
       "      <td>57000</td>\n",
       "      <td>SUV</td>\n",
       "    </tr>\n",
       "    <tr>\n",
       "      <th>3</th>\n",
       "      <td>53</td>\n",
       "      <td>Female</td>\n",
       "      <td>Salaried</td>\n",
       "      <td>Married</td>\n",
       "      <td>Graduate</td>\n",
       "      <td>2</td>\n",
       "      <td>Yes</td>\n",
       "      <td>No</td>\n",
       "      <td>Yes</td>\n",
       "      <td>72500</td>\n",
       "      <td>70300.0</td>\n",
       "      <td>142800</td>\n",
       "      <td>61000</td>\n",
       "      <td>SUV</td>\n",
       "    </tr>\n",
       "    <tr>\n",
       "      <th>4</th>\n",
       "      <td>53</td>\n",
       "      <td>Male</td>\n",
       "      <td>Salaried</td>\n",
       "      <td>Married</td>\n",
       "      <td>Post Graduate</td>\n",
       "      <td>3</td>\n",
       "      <td>No</td>\n",
       "      <td>No</td>\n",
       "      <td>Yes</td>\n",
       "      <td>79700</td>\n",
       "      <td>60200.0</td>\n",
       "      <td>139900</td>\n",
       "      <td>57000</td>\n",
       "      <td>SUV</td>\n",
       "    </tr>\n",
       "  </tbody>\n",
       "</table>\n",
       "</div>"
      ],
      "text/plain": [
       "   Age  Gender Profession Marital_status      Education  No_of_Dependents  \\\n",
       "0   53    Male   Business        Married  Post Graduate                 4   \n",
       "1   53   Femal   Salaried        Married  Post Graduate                 4   \n",
       "2   53  Female   Salaried        Married  Post Graduate                 3   \n",
       "3   53  Female   Salaried        Married       Graduate                 2   \n",
       "4   53    Male   Salaried        Married  Post Graduate                 3   \n",
       "\n",
       "  Personal_loan House_loan Partner_working  Salary  Partner_salary  \\\n",
       "0            No         No             Yes   99300         70700.0   \n",
       "1           Yes         No             Yes   95500         70300.0   \n",
       "2            No         No             Yes   97300         60700.0   \n",
       "3           Yes         No             Yes   72500         70300.0   \n",
       "4            No         No             Yes   79700         60200.0   \n",
       "\n",
       "   Total_salary  Price Make  \n",
       "0        170000  61000  SUV  \n",
       "1        165800  61000  SUV  \n",
       "2        158000  57000  SUV  \n",
       "3        142800  61000  SUV  \n",
       "4        139900  57000  SUV  "
      ]
     },
     "execution_count": 255,
     "metadata": {},
     "output_type": "execute_result"
    }
   ],
   "source": [
    "df.head(5)"
   ]
  },
  {
   "cell_type": "code",
   "execution_count": 256,
   "id": "f74f0aad-258e-4fcc-a36b-158c5695fa5c",
   "metadata": {},
   "outputs": [
    {
     "name": "stdout",
     "output_type": "stream",
     "text": [
      "<class 'pandas.core.frame.DataFrame'>\n",
      "RangeIndex: 1581 entries, 0 to 1580\n",
      "Data columns (total 14 columns):\n",
      " #   Column            Non-Null Count  Dtype  \n",
      "---  ------            --------------  -----  \n",
      " 0   Age               1581 non-null   int64  \n",
      " 1   Gender            1528 non-null   object \n",
      " 2   Profession        1581 non-null   object \n",
      " 3   Marital_status    1581 non-null   object \n",
      " 4   Education         1581 non-null   object \n",
      " 5   No_of_Dependents  1581 non-null   int64  \n",
      " 6   Personal_loan     1581 non-null   object \n",
      " 7   House_loan        1581 non-null   object \n",
      " 8   Partner_working   1581 non-null   object \n",
      " 9   Salary            1581 non-null   int64  \n",
      " 10  Partner_salary    1475 non-null   float64\n",
      " 11  Total_salary      1581 non-null   int64  \n",
      " 12  Price             1581 non-null   int64  \n",
      " 13  Make              1581 non-null   object \n",
      "dtypes: float64(1), int64(5), object(8)\n",
      "memory usage: 173.1+ KB\n"
     ]
    }
   ],
   "source": [
    "df.info()  \n",
    "\n",
    "# we can information about the type of data each column has in it."
   ]
  },
  {
   "cell_type": "markdown",
   "id": "e0354b7a-b11f-44e8-b96d-1de0cf006230",
   "metadata": {},
   "source": [
    "<h2> Preliminary analysis of Data</h2>"
   ]
  },
  {
   "cell_type": "code",
   "execution_count": 257,
   "id": "cb4f6611-d7ba-4293-ad5f-50b79ca658e8",
   "metadata": {},
   "outputs": [
    {
     "data": {
      "text/plain": [
       "(1581, 14)"
      ]
     },
     "execution_count": 257,
     "metadata": {},
     "output_type": "execute_result"
    }
   ],
   "source": [
    "df.shape \n",
    "\n",
    "# total rows: 1581 and columns : 14"
   ]
  },
  {
   "cell_type": "code",
   "execution_count": 258,
   "id": "c93c4020-7350-4c83-b28c-37afc2c55b4d",
   "metadata": {},
   "outputs": [
    {
     "data": {
      "text/plain": [
       "Index(['Age', 'Gender', 'Profession', 'Marital_status', 'Education',\n",
       "       'No_of_Dependents', 'Personal_loan', 'House_loan', 'Partner_working',\n",
       "       'Salary', 'Partner_salary', 'Total_salary', 'Price', 'Make'],\n",
       "      dtype='object')"
      ]
     },
     "execution_count": 258,
     "metadata": {},
     "output_type": "execute_result"
    }
   ],
   "source": [
    "df.columns\n",
    "\n",
    "# here are the 14 columns"
   ]
  },
  {
   "cell_type": "code",
   "execution_count": 259,
   "id": "82bbb0a2-c534-486e-a1bc-60f3725743dc",
   "metadata": {
    "scrolled": true
   },
   "outputs": [
    {
     "data": {
      "text/plain": [
       "Age                   0\n",
       "Gender               53\n",
       "Profession            0\n",
       "Marital_status        0\n",
       "Education             0\n",
       "No_of_Dependents      0\n",
       "Personal_loan         0\n",
       "House_loan            0\n",
       "Partner_working       0\n",
       "Salary                0\n",
       "Partner_salary      106\n",
       "Total_salary          0\n",
       "Price                 0\n",
       "Make                  0\n",
       "dtype: int64"
      ]
     },
     "execution_count": 259,
     "metadata": {},
     "output_type": "execute_result"
    }
   ],
   "source": [
    "df.isnull().sum()  \n",
    "\n",
    "# checking null values "
   ]
  },
  {
   "cell_type": "code",
   "execution_count": 260,
   "id": "03b36a39-4af6-4da5-a7d4-e9348068e1a3",
   "metadata": {},
   "outputs": [
    {
     "data": {
      "text/plain": [
       "array(['Male', 'Femal', 'Female', nan, 'Femle'], dtype=object)"
      ]
     },
     "execution_count": 260,
     "metadata": {},
     "output_type": "execute_result"
    }
   ],
   "source": [
    "df.Gender.unique() \n",
    "\n",
    "# Checking unique values in Geneder Column"
   ]
  },
  {
   "cell_type": "code",
   "execution_count": 261,
   "id": "ed9ce497-0cd4-4e5e-8454-28aff4d26369",
   "metadata": {},
   "outputs": [
    {
     "data": {
      "text/plain": [
       "Gender\n",
       "Male      1199\n",
       "Female     327\n",
       "Femal        1\n",
       "Femle        1\n",
       "Name: count, dtype: int64"
      ]
     },
     "execution_count": 261,
     "metadata": {},
     "output_type": "execute_result"
    }
   ],
   "source": [
    "df.Gender.value_counts()\n",
    "\n",
    "# Counting no. of unique values in Gender Column. # Male are more than Female"
   ]
  },
  {
   "cell_type": "code",
   "execution_count": 262,
   "id": "075168bd-9184-4de1-88c8-58e73b9c77fd",
   "metadata": {},
   "outputs": [],
   "source": [
    "genderdublicate={'Femal':'Female','Femle':'Female'}\n",
    "df.Gender=df.Gender.replace(genderdublicate)\n",
    "\n",
    "# fixing incorrect values of Female\n",
    "# df.Gender=df.Gender.replace(['Femal','Femle'],['Female','Female'])"
   ]
  },
  {
   "cell_type": "markdown",
   "id": "d24577a5-4bd6-4768-a572-5825064fbcf7",
   "metadata": {},
   "source": [
    "**Now we are filling Males in null values with Highest Frequncy of People.\n",
    "As we know males are more than females**"
   ]
  },
  {
   "cell_type": "code",
   "execution_count": 263,
   "id": "9a2a1409-b4f4-47aa-9641-9e7c4ee44763",
   "metadata": {},
   "outputs": [],
   "source": [
    "df.Gender=df.Gender.fillna(\"Male\")   #filled Males records in Null values."
   ]
  },
  {
   "cell_type": "code",
   "execution_count": 264,
   "id": "810f6eb6-15da-4c4d-ae89-16c601bcb7f4",
   "metadata": {},
   "outputs": [
    {
     "data": {
      "text/plain": [
       "Age                   0\n",
       "Gender                0\n",
       "Profession            0\n",
       "Marital_status        0\n",
       "Education             0\n",
       "No_of_Dependents      0\n",
       "Personal_loan         0\n",
       "House_loan            0\n",
       "Partner_working       0\n",
       "Salary                0\n",
       "Partner_salary      106\n",
       "Total_salary          0\n",
       "Price                 0\n",
       "Make                  0\n",
       "dtype: int64"
      ]
     },
     "execution_count": 264,
     "metadata": {},
     "output_type": "execute_result"
    }
   ],
   "source": [
    "df.isnull().sum()  # partner_salary has null values lets fix this now"
   ]
  },
  {
   "cell_type": "code",
   "execution_count": 265,
   "id": "756d2b74-3285-441c-95de-c5885776a08b",
   "metadata": {},
   "outputs": [
    {
     "data": {
      "text/html": [
       "<div>\n",
       "<style scoped>\n",
       "    .dataframe tbody tr th:only-of-type {\n",
       "        vertical-align: middle;\n",
       "    }\n",
       "\n",
       "    .dataframe tbody tr th {\n",
       "        vertical-align: top;\n",
       "    }\n",
       "\n",
       "    .dataframe thead th {\n",
       "        text-align: right;\n",
       "    }\n",
       "</style>\n",
       "<table border=\"1\" class=\"dataframe\">\n",
       "  <thead>\n",
       "    <tr style=\"text-align: right;\">\n",
       "      <th></th>\n",
       "      <th>Age</th>\n",
       "      <th>Gender</th>\n",
       "      <th>Profession</th>\n",
       "      <th>Marital_status</th>\n",
       "      <th>Education</th>\n",
       "      <th>No_of_Dependents</th>\n",
       "      <th>Personal_loan</th>\n",
       "      <th>House_loan</th>\n",
       "      <th>Partner_working</th>\n",
       "      <th>Salary</th>\n",
       "      <th>Partner_salary</th>\n",
       "      <th>Total_salary</th>\n",
       "      <th>Price</th>\n",
       "      <th>Make</th>\n",
       "    </tr>\n",
       "  </thead>\n",
       "  <tbody>\n",
       "    <tr>\n",
       "      <th>0</th>\n",
       "      <td>53</td>\n",
       "      <td>Male</td>\n",
       "      <td>Business</td>\n",
       "      <td>Married</td>\n",
       "      <td>Post Graduate</td>\n",
       "      <td>4</td>\n",
       "      <td>No</td>\n",
       "      <td>No</td>\n",
       "      <td>Yes</td>\n",
       "      <td>99300</td>\n",
       "      <td>70700.0</td>\n",
       "      <td>170000</td>\n",
       "      <td>61000</td>\n",
       "      <td>SUV</td>\n",
       "    </tr>\n",
       "    <tr>\n",
       "      <th>1</th>\n",
       "      <td>53</td>\n",
       "      <td>Female</td>\n",
       "      <td>Salaried</td>\n",
       "      <td>Married</td>\n",
       "      <td>Post Graduate</td>\n",
       "      <td>4</td>\n",
       "      <td>Yes</td>\n",
       "      <td>No</td>\n",
       "      <td>Yes</td>\n",
       "      <td>95500</td>\n",
       "      <td>70300.0</td>\n",
       "      <td>165800</td>\n",
       "      <td>61000</td>\n",
       "      <td>SUV</td>\n",
       "    </tr>\n",
       "    <tr>\n",
       "      <th>2</th>\n",
       "      <td>53</td>\n",
       "      <td>Female</td>\n",
       "      <td>Salaried</td>\n",
       "      <td>Married</td>\n",
       "      <td>Post Graduate</td>\n",
       "      <td>3</td>\n",
       "      <td>No</td>\n",
       "      <td>No</td>\n",
       "      <td>Yes</td>\n",
       "      <td>97300</td>\n",
       "      <td>60700.0</td>\n",
       "      <td>158000</td>\n",
       "      <td>57000</td>\n",
       "      <td>SUV</td>\n",
       "    </tr>\n",
       "    <tr>\n",
       "      <th>3</th>\n",
       "      <td>53</td>\n",
       "      <td>Female</td>\n",
       "      <td>Salaried</td>\n",
       "      <td>Married</td>\n",
       "      <td>Graduate</td>\n",
       "      <td>2</td>\n",
       "      <td>Yes</td>\n",
       "      <td>No</td>\n",
       "      <td>Yes</td>\n",
       "      <td>72500</td>\n",
       "      <td>70300.0</td>\n",
       "      <td>142800</td>\n",
       "      <td>61000</td>\n",
       "      <td>SUV</td>\n",
       "    </tr>\n",
       "    <tr>\n",
       "      <th>4</th>\n",
       "      <td>53</td>\n",
       "      <td>Male</td>\n",
       "      <td>Salaried</td>\n",
       "      <td>Married</td>\n",
       "      <td>Post Graduate</td>\n",
       "      <td>3</td>\n",
       "      <td>No</td>\n",
       "      <td>No</td>\n",
       "      <td>Yes</td>\n",
       "      <td>79700</td>\n",
       "      <td>60200.0</td>\n",
       "      <td>139900</td>\n",
       "      <td>57000</td>\n",
       "      <td>SUV</td>\n",
       "    </tr>\n",
       "  </tbody>\n",
       "</table>\n",
       "</div>"
      ],
      "text/plain": [
       "   Age  Gender Profession Marital_status      Education  No_of_Dependents  \\\n",
       "0   53    Male   Business        Married  Post Graduate                 4   \n",
       "1   53  Female   Salaried        Married  Post Graduate                 4   \n",
       "2   53  Female   Salaried        Married  Post Graduate                 3   \n",
       "3   53  Female   Salaried        Married       Graduate                 2   \n",
       "4   53    Male   Salaried        Married  Post Graduate                 3   \n",
       "\n",
       "  Personal_loan House_loan Partner_working  Salary  Partner_salary  \\\n",
       "0            No         No             Yes   99300         70700.0   \n",
       "1           Yes         No             Yes   95500         70300.0   \n",
       "2            No         No             Yes   97300         60700.0   \n",
       "3           Yes         No             Yes   72500         70300.0   \n",
       "4            No         No             Yes   79700         60200.0   \n",
       "\n",
       "   Total_salary  Price Make  \n",
       "0        170000  61000  SUV  \n",
       "1        165800  61000  SUV  \n",
       "2        158000  57000  SUV  \n",
       "3        142800  61000  SUV  \n",
       "4        139900  57000  SUV  "
      ]
     },
     "execution_count": 265,
     "metadata": {},
     "output_type": "execute_result"
    }
   ],
   "source": [
    "df.head(5)  # top 5 rows we see that \n",
    "\n"
   ]
  },
  {
   "cell_type": "markdown",
   "id": "bf394890-914e-48f5-b833-4c8883802996",
   "metadata": {},
   "source": [
    "**We are seeing a pattern here that Salary plus Partner Salary is equal to Total_Salary**"
   ]
  },
  {
   "cell_type": "code",
   "execution_count": 266,
   "id": "bb9c88b5-f078-4ca9-996f-2b16722bcb08",
   "metadata": {},
   "outputs": [
    {
     "name": "stdout",
     "output_type": "stream",
     "text": [
      "170000.0\n",
      "139900.0\n"
     ]
    }
   ],
   "source": [
    "print(99300+70700.0) # here we check only 2 rows\n",
    "print(79700+60200.0)"
   ]
  },
  {
   "cell_type": "code",
   "execution_count": 267,
   "id": "55a81d04-40e5-4c90-8363-6b1f660bf42f",
   "metadata": {},
   "outputs": [
    {
     "data": {
      "text/plain": [
       "True     1475\n",
       "False     106\n",
       "Name: count, dtype: int64"
      ]
     },
     "execution_count": 267,
     "metadata": {},
     "output_type": "execute_result"
    }
   ],
   "source": [
    "#Here I checked if its true that Salary plus Partner Salary is equal to Total_Salary. \n",
    "# And YES, Its True 1475 rows are true when adding each column of Partner Salary with Salary column.\n",
    "# False rows are 106 and same as null records which are 106 rows. (Condition Matched)\n",
    "\n",
    "(df.Partner_salary+df.Salary==df.Total_salary).value_counts()  "
   ]
  },
  {
   "cell_type": "markdown",
   "id": "cbbe173f-ffbf-442f-b2e8-42b83dd2d5be",
   "metadata": {},
   "source": [
    "**Salary plus Partner Salary is Linked and when we add both we get Total Salary.\n",
    "Also we can now use this conclusion to fill null values in partner salary with Actual values**\n"
   ]
  },
  {
   "cell_type": "markdown",
   "id": "ef2c0039-61a3-4932-8e18-c20d2eebec0e",
   "metadata": {},
   "source": [
    "**now we know that to get Partner Salary we need to Minus Total Salary with Salary**"
   ]
  },
  {
   "cell_type": "code",
   "execution_count": 268,
   "id": "9c72d714-5d0f-4f67-9ae2-276a4f542fcc",
   "metadata": {},
   "outputs": [],
   "source": [
    "df.Partner_salary=df.apply(lambda row: row[\"Total_salary\"]-row[\"Salary\"] if np.isnan(row[\"Partner_salary\"]) else row[\"Partner_salary\"], axis=1)"
   ]
  },
  {
   "cell_type": "code",
   "execution_count": 269,
   "id": "7a43a2a9-8a61-4ab2-bdbc-647ca55f50ef",
   "metadata": {},
   "outputs": [
    {
     "data": {
      "text/plain": [
       "Age                 0\n",
       "Gender              0\n",
       "Profession          0\n",
       "Marital_status      0\n",
       "Education           0\n",
       "No_of_Dependents    0\n",
       "Personal_loan       0\n",
       "House_loan          0\n",
       "Partner_working     0\n",
       "Salary              0\n",
       "Partner_salary      0\n",
       "Total_salary        0\n",
       "Price               0\n",
       "Make                0\n",
       "dtype: int64"
      ]
     },
     "execution_count": 269,
     "metadata": {},
     "output_type": "execute_result"
    }
   ],
   "source": [
    "df.isnull().sum() # checking null values\n",
    "\n",
    "# now the dataset is fully cleaned."
   ]
  },
  {
   "cell_type": "code",
   "execution_count": 270,
   "id": "d57b2132-decf-44fe-97b8-d9328671f091",
   "metadata": {},
   "outputs": [
    {
     "data": {
      "text/html": [
       "<div>\n",
       "<style scoped>\n",
       "    .dataframe tbody tr th:only-of-type {\n",
       "        vertical-align: middle;\n",
       "    }\n",
       "\n",
       "    .dataframe tbody tr th {\n",
       "        vertical-align: top;\n",
       "    }\n",
       "\n",
       "    .dataframe thead th {\n",
       "        text-align: right;\n",
       "    }\n",
       "</style>\n",
       "<table border=\"1\" class=\"dataframe\">\n",
       "  <thead>\n",
       "    <tr style=\"text-align: right;\">\n",
       "      <th></th>\n",
       "      <th>Age</th>\n",
       "      <th>Gender</th>\n",
       "      <th>Profession</th>\n",
       "      <th>Marital_status</th>\n",
       "      <th>Education</th>\n",
       "      <th>No_of_Dependents</th>\n",
       "      <th>Personal_loan</th>\n",
       "      <th>House_loan</th>\n",
       "      <th>Partner_working</th>\n",
       "      <th>Salary</th>\n",
       "      <th>Partner_salary</th>\n",
       "      <th>Total_salary</th>\n",
       "      <th>Price</th>\n",
       "      <th>Make</th>\n",
       "    </tr>\n",
       "  </thead>\n",
       "  <tbody>\n",
       "    <tr>\n",
       "      <th>0</th>\n",
       "      <td>53</td>\n",
       "      <td>Male</td>\n",
       "      <td>Business</td>\n",
       "      <td>Married</td>\n",
       "      <td>Post Graduate</td>\n",
       "      <td>4</td>\n",
       "      <td>No</td>\n",
       "      <td>No</td>\n",
       "      <td>Yes</td>\n",
       "      <td>99300</td>\n",
       "      <td>70700.0</td>\n",
       "      <td>170000</td>\n",
       "      <td>61000</td>\n",
       "      <td>SUV</td>\n",
       "    </tr>\n",
       "    <tr>\n",
       "      <th>1</th>\n",
       "      <td>53</td>\n",
       "      <td>Female</td>\n",
       "      <td>Salaried</td>\n",
       "      <td>Married</td>\n",
       "      <td>Post Graduate</td>\n",
       "      <td>4</td>\n",
       "      <td>Yes</td>\n",
       "      <td>No</td>\n",
       "      <td>Yes</td>\n",
       "      <td>95500</td>\n",
       "      <td>70300.0</td>\n",
       "      <td>165800</td>\n",
       "      <td>61000</td>\n",
       "      <td>SUV</td>\n",
       "    </tr>\n",
       "    <tr>\n",
       "      <th>2</th>\n",
       "      <td>53</td>\n",
       "      <td>Female</td>\n",
       "      <td>Salaried</td>\n",
       "      <td>Married</td>\n",
       "      <td>Post Graduate</td>\n",
       "      <td>3</td>\n",
       "      <td>No</td>\n",
       "      <td>No</td>\n",
       "      <td>Yes</td>\n",
       "      <td>97300</td>\n",
       "      <td>60700.0</td>\n",
       "      <td>158000</td>\n",
       "      <td>57000</td>\n",
       "      <td>SUV</td>\n",
       "    </tr>\n",
       "    <tr>\n",
       "      <th>3</th>\n",
       "      <td>53</td>\n",
       "      <td>Female</td>\n",
       "      <td>Salaried</td>\n",
       "      <td>Married</td>\n",
       "      <td>Graduate</td>\n",
       "      <td>2</td>\n",
       "      <td>Yes</td>\n",
       "      <td>No</td>\n",
       "      <td>Yes</td>\n",
       "      <td>72500</td>\n",
       "      <td>70300.0</td>\n",
       "      <td>142800</td>\n",
       "      <td>61000</td>\n",
       "      <td>SUV</td>\n",
       "    </tr>\n",
       "    <tr>\n",
       "      <th>4</th>\n",
       "      <td>53</td>\n",
       "      <td>Male</td>\n",
       "      <td>Salaried</td>\n",
       "      <td>Married</td>\n",
       "      <td>Post Graduate</td>\n",
       "      <td>3</td>\n",
       "      <td>No</td>\n",
       "      <td>No</td>\n",
       "      <td>Yes</td>\n",
       "      <td>79700</td>\n",
       "      <td>60200.0</td>\n",
       "      <td>139900</td>\n",
       "      <td>57000</td>\n",
       "      <td>SUV</td>\n",
       "    </tr>\n",
       "  </tbody>\n",
       "</table>\n",
       "</div>"
      ],
      "text/plain": [
       "   Age  Gender Profession Marital_status      Education  No_of_Dependents  \\\n",
       "0   53    Male   Business        Married  Post Graduate                 4   \n",
       "1   53  Female   Salaried        Married  Post Graduate                 4   \n",
       "2   53  Female   Salaried        Married  Post Graduate                 3   \n",
       "3   53  Female   Salaried        Married       Graduate                 2   \n",
       "4   53    Male   Salaried        Married  Post Graduate                 3   \n",
       "\n",
       "  Personal_loan House_loan Partner_working  Salary  Partner_salary  \\\n",
       "0            No         No             Yes   99300         70700.0   \n",
       "1           Yes         No             Yes   95500         70300.0   \n",
       "2            No         No             Yes   97300         60700.0   \n",
       "3           Yes         No             Yes   72500         70300.0   \n",
       "4            No         No             Yes   79700         60200.0   \n",
       "\n",
       "   Total_salary  Price Make  \n",
       "0        170000  61000  SUV  \n",
       "1        165800  61000  SUV  \n",
       "2        158000  57000  SUV  \n",
       "3        142800  61000  SUV  \n",
       "4        139900  57000  SUV  "
      ]
     },
     "execution_count": 270,
     "metadata": {},
     "output_type": "execute_result"
    }
   ],
   "source": [
    "df.head(5)  # checking top 5 rows\n"
   ]
  },
  {
   "cell_type": "markdown",
   "id": "afe9119f-73e9-4dd7-b0ee-2c673c793cf2",
   "metadata": {},
   "source": [
    "<H2>E1) Steve Roger says “Men prefer SUV by a large margin, compared to the women”</H2>\n",
    "<h3>We will check whether steve is right about it?</h3>"
   ]
  },
  {
   "cell_type": "code",
   "execution_count": 271,
   "id": "5b4e4dd4-3495-483d-9dd0-5fd3c7753ab2",
   "metadata": {},
   "outputs": [
    {
     "data": {
      "text/plain": [
       "Gender  Make     \n",
       "Female  Hatchback     15\n",
       "        SUV          173\n",
       "        Sedan        141\n",
       "Male    Hatchback    567\n",
       "        SUV          124\n",
       "        Sedan        561\n",
       "Name: Make, dtype: int64"
      ]
     },
     "execution_count": 271,
     "metadata": {},
     "output_type": "execute_result"
    }
   ],
   "source": [
    "df.groupby([\"Gender\",\"Make\"])[\"Make\"].count() \n",
    "\n",
    "# here we get an insight that Female Purchases More SUV than Males. BUT We know that Males are More than Females"
   ]
  },
  {
   "cell_type": "code",
   "execution_count": 272,
   "id": "63217cdd-552a-44be-9771-aabbfb198756",
   "metadata": {},
   "outputs": [
    {
     "data": {
      "text/plain": [
       "Gender\n",
       "Female     329\n",
       "Male      1252\n",
       "Name: Gender, dtype: int64"
      ]
     },
     "execution_count": 272,
     "metadata": {},
     "output_type": "execute_result"
    }
   ],
   "source": [
    "df.groupby([\"Gender\"])[\"Gender\"].count()"
   ]
  },
  {
   "cell_type": "code",
   "execution_count": 273,
   "id": "9840d2a5-6b11-4174-9f38-115644089f19",
   "metadata": {},
   "outputs": [],
   "source": [
    "MaleD=df[[\"Gender\",\"Make\"]].where(df.Gender==\"Male\").dropna()\n",
    "FemaleD=df[[\"Gender\",\"Make\"]].where(df.Gender==\"Female\").dropna()"
   ]
  },
  {
   "cell_type": "code",
   "execution_count": 274,
   "id": "203ecb2a-a674-4b26-b663-b31691759551",
   "metadata": {},
   "outputs": [
    {
     "data": {
      "text/html": [
       "<div>\n",
       "<style scoped>\n",
       "    .dataframe tbody tr th:only-of-type {\n",
       "        vertical-align: middle;\n",
       "    }\n",
       "\n",
       "    .dataframe tbody tr th {\n",
       "        vertical-align: top;\n",
       "    }\n",
       "\n",
       "    .dataframe thead th {\n",
       "        text-align: right;\n",
       "    }\n",
       "</style>\n",
       "<table border=\"1\" class=\"dataframe\">\n",
       "  <thead>\n",
       "    <tr style=\"text-align: right;\">\n",
       "      <th></th>\n",
       "      <th>Gender</th>\n",
       "      <th>Make</th>\n",
       "    </tr>\n",
       "  </thead>\n",
       "  <tbody>\n",
       "    <tr>\n",
       "      <th>0</th>\n",
       "      <td>Male</td>\n",
       "      <td>SUV</td>\n",
       "    </tr>\n",
       "    <tr>\n",
       "      <th>4</th>\n",
       "      <td>Male</td>\n",
       "      <td>SUV</td>\n",
       "    </tr>\n",
       "    <tr>\n",
       "      <th>7</th>\n",
       "      <td>Male</td>\n",
       "      <td>SUV</td>\n",
       "    </tr>\n",
       "    <tr>\n",
       "      <th>8</th>\n",
       "      <td>Male</td>\n",
       "      <td>SUV</td>\n",
       "    </tr>\n",
       "    <tr>\n",
       "      <th>9</th>\n",
       "      <td>Male</td>\n",
       "      <td>SUV</td>\n",
       "    </tr>\n",
       "    <tr>\n",
       "      <th>...</th>\n",
       "      <td>...</td>\n",
       "      <td>...</td>\n",
       "    </tr>\n",
       "    <tr>\n",
       "      <th>1576</th>\n",
       "      <td>Male</td>\n",
       "      <td>Hatchback</td>\n",
       "    </tr>\n",
       "    <tr>\n",
       "      <th>1577</th>\n",
       "      <td>Male</td>\n",
       "      <td>Hatchback</td>\n",
       "    </tr>\n",
       "    <tr>\n",
       "      <th>1578</th>\n",
       "      <td>Male</td>\n",
       "      <td>Hatchback</td>\n",
       "    </tr>\n",
       "    <tr>\n",
       "      <th>1579</th>\n",
       "      <td>Male</td>\n",
       "      <td>Hatchback</td>\n",
       "    </tr>\n",
       "    <tr>\n",
       "      <th>1580</th>\n",
       "      <td>Male</td>\n",
       "      <td>Hatchback</td>\n",
       "    </tr>\n",
       "  </tbody>\n",
       "</table>\n",
       "<p>1252 rows × 2 columns</p>\n",
       "</div>"
      ],
      "text/plain": [
       "     Gender       Make\n",
       "0      Male        SUV\n",
       "4      Male        SUV\n",
       "7      Male        SUV\n",
       "8      Male        SUV\n",
       "9      Male        SUV\n",
       "...     ...        ...\n",
       "1576   Male  Hatchback\n",
       "1577   Male  Hatchback\n",
       "1578   Male  Hatchback\n",
       "1579   Male  Hatchback\n",
       "1580   Male  Hatchback\n",
       "\n",
       "[1252 rows x 2 columns]"
      ]
     },
     "execution_count": 274,
     "metadata": {},
     "output_type": "execute_result"
    }
   ],
   "source": [
    "MaleD"
   ]
  },
  {
   "cell_type": "code",
   "execution_count": 275,
   "id": "e4da668b-5bb4-4b4c-b3ed-1e7deee816c4",
   "metadata": {},
   "outputs": [
    {
     "data": {
      "text/html": [
       "<div>\n",
       "<style scoped>\n",
       "    .dataframe tbody tr th:only-of-type {\n",
       "        vertical-align: middle;\n",
       "    }\n",
       "\n",
       "    .dataframe tbody tr th {\n",
       "        vertical-align: top;\n",
       "    }\n",
       "\n",
       "    .dataframe thead th {\n",
       "        text-align: right;\n",
       "    }\n",
       "</style>\n",
       "<table border=\"1\" class=\"dataframe\">\n",
       "  <thead>\n",
       "    <tr style=\"text-align: right;\">\n",
       "      <th></th>\n",
       "      <th>Gender</th>\n",
       "      <th>Make</th>\n",
       "    </tr>\n",
       "  </thead>\n",
       "  <tbody>\n",
       "    <tr>\n",
       "      <th>1</th>\n",
       "      <td>Female</td>\n",
       "      <td>SUV</td>\n",
       "    </tr>\n",
       "    <tr>\n",
       "      <th>2</th>\n",
       "      <td>Female</td>\n",
       "      <td>SUV</td>\n",
       "    </tr>\n",
       "    <tr>\n",
       "      <th>3</th>\n",
       "      <td>Female</td>\n",
       "      <td>SUV</td>\n",
       "    </tr>\n",
       "    <tr>\n",
       "      <th>5</th>\n",
       "      <td>Female</td>\n",
       "      <td>SUV</td>\n",
       "    </tr>\n",
       "    <tr>\n",
       "      <th>6</th>\n",
       "      <td>Female</td>\n",
       "      <td>SUV</td>\n",
       "    </tr>\n",
       "    <tr>\n",
       "      <th>...</th>\n",
       "      <td>...</td>\n",
       "      <td>...</td>\n",
       "    </tr>\n",
       "    <tr>\n",
       "      <th>1350</th>\n",
       "      <td>Female</td>\n",
       "      <td>Hatchback</td>\n",
       "    </tr>\n",
       "    <tr>\n",
       "      <th>1389</th>\n",
       "      <td>Female</td>\n",
       "      <td>Hatchback</td>\n",
       "    </tr>\n",
       "    <tr>\n",
       "      <th>1503</th>\n",
       "      <td>Female</td>\n",
       "      <td>Hatchback</td>\n",
       "    </tr>\n",
       "    <tr>\n",
       "      <th>1518</th>\n",
       "      <td>Female</td>\n",
       "      <td>Hatchback</td>\n",
       "    </tr>\n",
       "    <tr>\n",
       "      <th>1536</th>\n",
       "      <td>Female</td>\n",
       "      <td>Hatchback</td>\n",
       "    </tr>\n",
       "  </tbody>\n",
       "</table>\n",
       "<p>329 rows × 2 columns</p>\n",
       "</div>"
      ],
      "text/plain": [
       "      Gender       Make\n",
       "1     Female        SUV\n",
       "2     Female        SUV\n",
       "3     Female        SUV\n",
       "5     Female        SUV\n",
       "6     Female        SUV\n",
       "...      ...        ...\n",
       "1350  Female  Hatchback\n",
       "1389  Female  Hatchback\n",
       "1503  Female  Hatchback\n",
       "1518  Female  Hatchback\n",
       "1536  Female  Hatchback\n",
       "\n",
       "[329 rows x 2 columns]"
      ]
     },
     "execution_count": 275,
     "metadata": {},
     "output_type": "execute_result"
    }
   ],
   "source": [
    "FemaleD"
   ]
  },
  {
   "cell_type": "code",
   "execution_count": 276,
   "id": "27842054-d64c-43c5-89c1-8d20c6699994",
   "metadata": {},
   "outputs": [],
   "source": [
    "MSam1=MaleD.sample(329)\n",
    "MSam2=MaleD.sample(329)\n",
    "MSam3=MaleD.sample(329)"
   ]
  },
  {
   "cell_type": "code",
   "execution_count": 277,
   "id": "ad0a9d81-e212-444f-98c7-9e02d28b6a1f",
   "metadata": {},
   "outputs": [],
   "source": [
    "MSam1=MSam1.groupby([\"Make\"]).count()\n",
    "\n",
    "# Sample 1 Males Data concludes that Hatchback are popular choice for Males"
   ]
  },
  {
   "cell_type": "code",
   "execution_count": 278,
   "id": "8795f3c4-f76a-4270-a492-56b091b92673",
   "metadata": {},
   "outputs": [
    {
     "data": {
      "text/html": [
       "<div>\n",
       "<style scoped>\n",
       "    .dataframe tbody tr th:only-of-type {\n",
       "        vertical-align: middle;\n",
       "    }\n",
       "\n",
       "    .dataframe tbody tr th {\n",
       "        vertical-align: top;\n",
       "    }\n",
       "\n",
       "    .dataframe thead th {\n",
       "        text-align: right;\n",
       "    }\n",
       "</style>\n",
       "<table border=\"1\" class=\"dataframe\">\n",
       "  <thead>\n",
       "    <tr style=\"text-align: right;\">\n",
       "      <th></th>\n",
       "      <th>Gender</th>\n",
       "    </tr>\n",
       "    <tr>\n",
       "      <th>Make</th>\n",
       "      <th></th>\n",
       "    </tr>\n",
       "  </thead>\n",
       "  <tbody>\n",
       "    <tr>\n",
       "      <th>Hatchback</th>\n",
       "      <td>158</td>\n",
       "    </tr>\n",
       "    <tr>\n",
       "      <th>SUV</th>\n",
       "      <td>25</td>\n",
       "    </tr>\n",
       "    <tr>\n",
       "      <th>Sedan</th>\n",
       "      <td>146</td>\n",
       "    </tr>\n",
       "  </tbody>\n",
       "</table>\n",
       "</div>"
      ],
      "text/plain": [
       "           Gender\n",
       "Make             \n",
       "Hatchback     158\n",
       "SUV            25\n",
       "Sedan         146"
      ]
     },
     "execution_count": 278,
     "metadata": {},
     "output_type": "execute_result"
    }
   ],
   "source": [
    "MSam1"
   ]
  },
  {
   "cell_type": "code",
   "execution_count": 279,
   "id": "3653d372-204b-40f7-97d4-1bf25eb0dede",
   "metadata": {},
   "outputs": [],
   "source": [
    "MSam2=MSam2.groupby([\"Make\"]).count()\n",
    "\n",
    "# Sample 2 Males Data concludes that Hatchback popular choice for Males"
   ]
  },
  {
   "cell_type": "code",
   "execution_count": 280,
   "id": "fce51f0a-f907-43e4-805f-0e5e553fdccb",
   "metadata": {},
   "outputs": [
    {
     "data": {
      "text/html": [
       "<div>\n",
       "<style scoped>\n",
       "    .dataframe tbody tr th:only-of-type {\n",
       "        vertical-align: middle;\n",
       "    }\n",
       "\n",
       "    .dataframe tbody tr th {\n",
       "        vertical-align: top;\n",
       "    }\n",
       "\n",
       "    .dataframe thead th {\n",
       "        text-align: right;\n",
       "    }\n",
       "</style>\n",
       "<table border=\"1\" class=\"dataframe\">\n",
       "  <thead>\n",
       "    <tr style=\"text-align: right;\">\n",
       "      <th></th>\n",
       "      <th>Gender</th>\n",
       "    </tr>\n",
       "    <tr>\n",
       "      <th>Make</th>\n",
       "      <th></th>\n",
       "    </tr>\n",
       "  </thead>\n",
       "  <tbody>\n",
       "    <tr>\n",
       "      <th>Hatchback</th>\n",
       "      <td>145</td>\n",
       "    </tr>\n",
       "    <tr>\n",
       "      <th>SUV</th>\n",
       "      <td>33</td>\n",
       "    </tr>\n",
       "    <tr>\n",
       "      <th>Sedan</th>\n",
       "      <td>151</td>\n",
       "    </tr>\n",
       "  </tbody>\n",
       "</table>\n",
       "</div>"
      ],
      "text/plain": [
       "           Gender\n",
       "Make             \n",
       "Hatchback     145\n",
       "SUV            33\n",
       "Sedan         151"
      ]
     },
     "execution_count": 280,
     "metadata": {},
     "output_type": "execute_result"
    }
   ],
   "source": [
    "MSam2"
   ]
  },
  {
   "cell_type": "code",
   "execution_count": 281,
   "id": "bb957cd1-fabf-4add-82ec-2f8f0669138a",
   "metadata": {},
   "outputs": [
    {
     "data": {
      "text/plain": [
       "33"
      ]
     },
     "execution_count": 281,
     "metadata": {},
     "output_type": "execute_result"
    }
   ],
   "source": [
    "MSam2.iloc[1][0]"
   ]
  },
  {
   "cell_type": "code",
   "execution_count": 282,
   "id": "a0bd167b-0dbe-4a11-912d-b51b3433ff56",
   "metadata": {},
   "outputs": [],
   "source": [
    "MSam3=MSam3.groupby(\"Make\").count()\n",
    "\n",
    "# Sample 3 Males Data concludes that Hatchback popular choice for Males"
   ]
  },
  {
   "cell_type": "code",
   "execution_count": 283,
   "id": "469bffa4-1d2c-450c-a71a-3d646a4d4a8e",
   "metadata": {},
   "outputs": [
    {
     "data": {
      "text/html": [
       "<div>\n",
       "<style scoped>\n",
       "    .dataframe tbody tr th:only-of-type {\n",
       "        vertical-align: middle;\n",
       "    }\n",
       "\n",
       "    .dataframe tbody tr th {\n",
       "        vertical-align: top;\n",
       "    }\n",
       "\n",
       "    .dataframe thead th {\n",
       "        text-align: right;\n",
       "    }\n",
       "</style>\n",
       "<table border=\"1\" class=\"dataframe\">\n",
       "  <thead>\n",
       "    <tr style=\"text-align: right;\">\n",
       "      <th></th>\n",
       "      <th>Gender</th>\n",
       "    </tr>\n",
       "    <tr>\n",
       "      <th>Make</th>\n",
       "      <th></th>\n",
       "    </tr>\n",
       "  </thead>\n",
       "  <tbody>\n",
       "    <tr>\n",
       "      <th>Hatchback</th>\n",
       "      <td>143</td>\n",
       "    </tr>\n",
       "    <tr>\n",
       "      <th>SUV</th>\n",
       "      <td>25</td>\n",
       "    </tr>\n",
       "    <tr>\n",
       "      <th>Sedan</th>\n",
       "      <td>161</td>\n",
       "    </tr>\n",
       "  </tbody>\n",
       "</table>\n",
       "</div>"
      ],
      "text/plain": [
       "           Gender\n",
       "Make             \n",
       "Hatchback     143\n",
       "SUV            25\n",
       "Sedan         161"
      ]
     },
     "execution_count": 283,
     "metadata": {},
     "output_type": "execute_result"
    }
   ],
   "source": [
    "MSam3"
   ]
  },
  {
   "cell_type": "code",
   "execution_count": 284,
   "id": "4d69ca46-f71b-4998-8563-9ce3b769cfef",
   "metadata": {},
   "outputs": [],
   "source": [
    "FSam=FemaleD.groupby([\"Make\"]).count().rename(columns={\"Gender\":\"Female Data\"})\n",
    "\n",
    "# In Female Data we see that SUV are popular choice for Females"
   ]
  },
  {
   "cell_type": "code",
   "execution_count": 285,
   "id": "1a15b4f5-51dc-47d0-8053-6ec92afe2403",
   "metadata": {},
   "outputs": [
    {
     "data": {
      "text/html": [
       "<div>\n",
       "<style scoped>\n",
       "    .dataframe tbody tr th:only-of-type {\n",
       "        vertical-align: middle;\n",
       "    }\n",
       "\n",
       "    .dataframe tbody tr th {\n",
       "        vertical-align: top;\n",
       "    }\n",
       "\n",
       "    .dataframe thead th {\n",
       "        text-align: right;\n",
       "    }\n",
       "</style>\n",
       "<table border=\"1\" class=\"dataframe\">\n",
       "  <thead>\n",
       "    <tr style=\"text-align: right;\">\n",
       "      <th></th>\n",
       "      <th>Female Data</th>\n",
       "    </tr>\n",
       "    <tr>\n",
       "      <th>Make</th>\n",
       "      <th></th>\n",
       "    </tr>\n",
       "  </thead>\n",
       "  <tbody>\n",
       "    <tr>\n",
       "      <th>Hatchback</th>\n",
       "      <td>15</td>\n",
       "    </tr>\n",
       "    <tr>\n",
       "      <th>SUV</th>\n",
       "      <td>173</td>\n",
       "    </tr>\n",
       "    <tr>\n",
       "      <th>Sedan</th>\n",
       "      <td>141</td>\n",
       "    </tr>\n",
       "  </tbody>\n",
       "</table>\n",
       "</div>"
      ],
      "text/plain": [
       "           Female Data\n",
       "Make                  \n",
       "Hatchback           15\n",
       "SUV                173\n",
       "Sedan              141"
      ]
     },
     "execution_count": 285,
     "metadata": {},
     "output_type": "execute_result"
    }
   ],
   "source": [
    "FSam"
   ]
  },
  {
   "cell_type": "code",
   "execution_count": 286,
   "id": "09c60941-4d5d-4e24-a468-d64292b16c11",
   "metadata": {},
   "outputs": [],
   "source": [
    "SuvMales=[MSam1.iloc[1][0],MSam2.iloc[1][0],MSam3.iloc[1][0]]"
   ]
  },
  {
   "cell_type": "code",
   "execution_count": 287,
   "id": "5dcb4c8d-700d-4fa6-8ffe-122943420d09",
   "metadata": {},
   "outputs": [
    {
     "data": {
      "text/plain": [
       "[25, 33, 25]"
      ]
     },
     "execution_count": 287,
     "metadata": {},
     "output_type": "execute_result"
    }
   ],
   "source": [
    "SuvMales"
   ]
  },
  {
   "cell_type": "code",
   "execution_count": 288,
   "id": "8b3d821d-20f2-4214-b234-c966af31ce10",
   "metadata": {},
   "outputs": [],
   "source": [
    "SuvFemales=[FSam.iloc[1][0],FSam.iloc[1][0],FSam.iloc[1][0]]"
   ]
  },
  {
   "cell_type": "code",
   "execution_count": 289,
   "id": "5b910c5d-a5b5-4e0e-badd-37698cb3aab5",
   "metadata": {},
   "outputs": [
    {
     "data": {
      "text/plain": [
       "[173, 173, 173]"
      ]
     },
     "execution_count": 289,
     "metadata": {},
     "output_type": "execute_result"
    }
   ],
   "source": [
    "SuvFemales"
   ]
  },
  {
   "cell_type": "code",
   "execution_count": 290,
   "id": "c4ac5667-6491-419f-b399-71d774c14792",
   "metadata": {},
   "outputs": [],
   "source": [
    "SuvDataset=pd.DataFrame({\"Male\":SuvMales,\"Female\":SuvFemales},index=[\"SUV_Sample1\",\"SUV_Sample2\",\"SUV_Sample3\"])"
   ]
  },
  {
   "cell_type": "code",
   "execution_count": 291,
   "id": "54af73da-e9a9-4b58-b729-dab87951a084",
   "metadata": {},
   "outputs": [
    {
     "data": {
      "text/html": [
       "<div>\n",
       "<style scoped>\n",
       "    .dataframe tbody tr th:only-of-type {\n",
       "        vertical-align: middle;\n",
       "    }\n",
       "\n",
       "    .dataframe tbody tr th {\n",
       "        vertical-align: top;\n",
       "    }\n",
       "\n",
       "    .dataframe thead th {\n",
       "        text-align: right;\n",
       "    }\n",
       "</style>\n",
       "<table border=\"1\" class=\"dataframe\">\n",
       "  <thead>\n",
       "    <tr style=\"text-align: right;\">\n",
       "      <th></th>\n",
       "      <th>Male</th>\n",
       "      <th>Female</th>\n",
       "    </tr>\n",
       "  </thead>\n",
       "  <tbody>\n",
       "    <tr>\n",
       "      <th>SUV_Sample1</th>\n",
       "      <td>25</td>\n",
       "      <td>173</td>\n",
       "    </tr>\n",
       "    <tr>\n",
       "      <th>SUV_Sample2</th>\n",
       "      <td>33</td>\n",
       "      <td>173</td>\n",
       "    </tr>\n",
       "    <tr>\n",
       "      <th>SUV_Sample3</th>\n",
       "      <td>25</td>\n",
       "      <td>173</td>\n",
       "    </tr>\n",
       "  </tbody>\n",
       "</table>\n",
       "</div>"
      ],
      "text/plain": [
       "             Male  Female\n",
       "SUV_Sample1    25     173\n",
       "SUV_Sample2    33     173\n",
       "SUV_Sample3    25     173"
      ]
     },
     "execution_count": 291,
     "metadata": {},
     "output_type": "execute_result"
    }
   ],
   "source": [
    "SuvDataset"
   ]
  },
  {
   "cell_type": "code",
   "execution_count": 292,
   "id": "4e738753-1029-4651-8efd-edbd024a58d1",
   "metadata": {},
   "outputs": [
    {
     "data": {
      "image/png": "[encoded data removed]",
      "text/plain": [
       "<Figure size 500x500 with 1 Axes>"
      ]
     },
     "metadata": {},
     "output_type": "display_data"
    }
   ],
   "source": [
    "sns.set(rc={'figure.figsize':(5,5)})\n",
    "SuvDataset.plot.bar(rot=False)\n",
    "plt.title(\"SUV Purchased by Gender\")\n",
    "plt.ylabel(\"Orders\")\n",
    "plt.xlabel(\"Male Vs Female\")\n",
    "plt.show()\n",
    "\n",
    "# Female Purchase More SUV than Males."
   ]
  },
  {
   "cell_type": "code",
   "execution_count": 293,
   "id": "09ca311c-f499-4920-a5f9-c328319eee08",
   "metadata": {},
   "outputs": [
    {
     "data": {
      "image/png": "[encoded data removed]",
      "text/plain": [
       "<Figure size 500x500 with 1 Axes>"
      ]
     },
     "metadata": {},
     "output_type": "display_data"
    }
   ],
   "source": [
    "SedanMales=[MSam1.iloc[2][0],MSam2.iloc[2][0],MSam3.iloc[2][0]]\n",
    "SedanFemales=[FSam.iloc[2][0],FSam.iloc[2][0],FSam.iloc[2][0]]\n",
    "\n",
    "SedanDataset=pd.DataFrame({\"Male\":SedanMales,\"Female\":SedanFemales},index=[\"Sedan_Sample1\",\"Sedan_Sample2\",\"Sedan_Sample3\"])\n",
    "\n",
    "\n",
    "sns.set(rc={'figure.figsize':(5,5)})\n",
    "SedanDataset.plot.bar(rot=False)\n",
    "plt.title(\"Sedan Purchased by Gender\")\n",
    "plt.ylabel(\"Orders\")\n",
    "plt.xlabel(\"Male Vs Female\")\n",
    "plt.show()\n",
    "\n",
    "# Here we can see not much difference because both male and females equally purchasing Sedan"
   ]
  },
  {
   "cell_type": "code",
   "execution_count": 294,
   "id": "aaecce86-0099-48c9-8273-b93bbf704bb4",
   "metadata": {},
   "outputs": [
    {
     "data": {
      "image/png": "[encoded data removed]",
      "text/plain": [
       "<Figure size 500x500 with 1 Axes>"
      ]
     },
     "metadata": {},
     "output_type": "display_data"
    }
   ],
   "source": [
    "HatchbackMales=[MSam1.iloc[0][0],MSam2.iloc[0][0],MSam3.iloc[0][0]]\n",
    "HatchbackFemales=[FSam.iloc[0][0],FSam.iloc[0][0],FSam.iloc[0][0]]\n",
    "\n",
    "HatchbackDataset=pd.DataFrame({\"Male\":HatchbackMales,\"Female\":HatchbackFemales},index=[\"Sample1\",\"Sample2\",\"Sample3\"])\n",
    "\n",
    "\n",
    "sns.set(rc={'figure.figsize':(5,5)})\n",
    "HatchbackDataset.plot.bar(rot=False)\n",
    "plt.title(\"Hatchback Purchased by Gender\")\n",
    "plt.ylabel(\"Orders\")\n",
    "plt.xlabel(\"Male Vs Female\")\n",
    "plt.show()\n",
    "\n",
    "# Here we can see Males are puchasing more Hatchback's than Females"
   ]
  },
  {
   "cell_type": "markdown",
   "id": "5bb60eb3-b587-4549-8536-043053a98acb",
   "metadata": {},
   "source": [
    "<h3>Hatchback is MOST Popular choice for Males, \n",
    "                           \n",
    "2nd Most popular is Sedan which is liked by both Male and Females equally.\n",
    "\n",
    "Conlcusion: So Steve Is wrong about the Anaylsis - Suv is Popular Among Females by Large Margin than Males.</H3>\n",
    "\n"
   ]
  },
  {
   "cell_type": "markdown",
   "id": "ad1aa263-94a8-454b-87fd-db41acb47ae3",
   "metadata": {},
   "source": [
    "<h2>E2) Ned Stark believes that a salaried person is more likely to buy a Sedan</h2>"
   ]
  },
  {
   "cell_type": "markdown",
   "id": "c17b6423-e67b-404c-a4a2-5d69f18f3a60",
   "metadata": {},
   "source": [
    "<h3> We will check the argument of Ned Starks Now</h3>"
   ]
  },
  {
   "cell_type": "code",
   "execution_count": 295,
   "id": "88b02b44-fdd3-40eb-8a80-76be0e1c985f",
   "metadata": {},
   "outputs": [
    {
     "data": {
      "text/html": [
       "<div>\n",
       "<style scoped>\n",
       "    .dataframe tbody tr th:only-of-type {\n",
       "        vertical-align: middle;\n",
       "    }\n",
       "\n",
       "    .dataframe tbody tr th {\n",
       "        vertical-align: top;\n",
       "    }\n",
       "\n",
       "    .dataframe thead th {\n",
       "        text-align: right;\n",
       "    }\n",
       "</style>\n",
       "<table border=\"1\" class=\"dataframe\">\n",
       "  <thead>\n",
       "    <tr style=\"text-align: right;\">\n",
       "      <th></th>\n",
       "      <th>Age</th>\n",
       "      <th>Gender</th>\n",
       "      <th>Profession</th>\n",
       "      <th>Marital_status</th>\n",
       "      <th>Education</th>\n",
       "      <th>No_of_Dependents</th>\n",
       "      <th>Personal_loan</th>\n",
       "      <th>House_loan</th>\n",
       "      <th>Partner_working</th>\n",
       "      <th>Salary</th>\n",
       "      <th>Partner_salary</th>\n",
       "      <th>Total_salary</th>\n",
       "      <th>Price</th>\n",
       "      <th>Make</th>\n",
       "    </tr>\n",
       "  </thead>\n",
       "  <tbody>\n",
       "    <tr>\n",
       "      <th>0</th>\n",
       "      <td>53</td>\n",
       "      <td>Male</td>\n",
       "      <td>Business</td>\n",
       "      <td>Married</td>\n",
       "      <td>Post Graduate</td>\n",
       "      <td>4</td>\n",
       "      <td>No</td>\n",
       "      <td>No</td>\n",
       "      <td>Yes</td>\n",
       "      <td>99300</td>\n",
       "      <td>70700.0</td>\n",
       "      <td>170000</td>\n",
       "      <td>61000</td>\n",
       "      <td>SUV</td>\n",
       "    </tr>\n",
       "    <tr>\n",
       "      <th>1</th>\n",
       "      <td>53</td>\n",
       "      <td>Female</td>\n",
       "      <td>Salaried</td>\n",
       "      <td>Married</td>\n",
       "      <td>Post Graduate</td>\n",
       "      <td>4</td>\n",
       "      <td>Yes</td>\n",
       "      <td>No</td>\n",
       "      <td>Yes</td>\n",
       "      <td>95500</td>\n",
       "      <td>70300.0</td>\n",
       "      <td>165800</td>\n",
       "      <td>61000</td>\n",
       "      <td>SUV</td>\n",
       "    </tr>\n",
       "    <tr>\n",
       "      <th>2</th>\n",
       "      <td>53</td>\n",
       "      <td>Female</td>\n",
       "      <td>Salaried</td>\n",
       "      <td>Married</td>\n",
       "      <td>Post Graduate</td>\n",
       "      <td>3</td>\n",
       "      <td>No</td>\n",
       "      <td>No</td>\n",
       "      <td>Yes</td>\n",
       "      <td>97300</td>\n",
       "      <td>60700.0</td>\n",
       "      <td>158000</td>\n",
       "      <td>57000</td>\n",
       "      <td>SUV</td>\n",
       "    </tr>\n",
       "    <tr>\n",
       "      <th>3</th>\n",
       "      <td>53</td>\n",
       "      <td>Female</td>\n",
       "      <td>Salaried</td>\n",
       "      <td>Married</td>\n",
       "      <td>Graduate</td>\n",
       "      <td>2</td>\n",
       "      <td>Yes</td>\n",
       "      <td>No</td>\n",
       "      <td>Yes</td>\n",
       "      <td>72500</td>\n",
       "      <td>70300.0</td>\n",
       "      <td>142800</td>\n",
       "      <td>61000</td>\n",
       "      <td>SUV</td>\n",
       "    </tr>\n",
       "    <tr>\n",
       "      <th>4</th>\n",
       "      <td>53</td>\n",
       "      <td>Male</td>\n",
       "      <td>Salaried</td>\n",
       "      <td>Married</td>\n",
       "      <td>Post Graduate</td>\n",
       "      <td>3</td>\n",
       "      <td>No</td>\n",
       "      <td>No</td>\n",
       "      <td>Yes</td>\n",
       "      <td>79700</td>\n",
       "      <td>60200.0</td>\n",
       "      <td>139900</td>\n",
       "      <td>57000</td>\n",
       "      <td>SUV</td>\n",
       "    </tr>\n",
       "  </tbody>\n",
       "</table>\n",
       "</div>"
      ],
      "text/plain": [
       "   Age  Gender Profession Marital_status      Education  No_of_Dependents  \\\n",
       "0   53    Male   Business        Married  Post Graduate                 4   \n",
       "1   53  Female   Salaried        Married  Post Graduate                 4   \n",
       "2   53  Female   Salaried        Married  Post Graduate                 3   \n",
       "3   53  Female   Salaried        Married       Graduate                 2   \n",
       "4   53    Male   Salaried        Married  Post Graduate                 3   \n",
       "\n",
       "  Personal_loan House_loan Partner_working  Salary  Partner_salary  \\\n",
       "0            No         No             Yes   99300         70700.0   \n",
       "1           Yes         No             Yes   95500         70300.0   \n",
       "2            No         No             Yes   97300         60700.0   \n",
       "3           Yes         No             Yes   72500         70300.0   \n",
       "4            No         No             Yes   79700         60200.0   \n",
       "\n",
       "   Total_salary  Price Make  \n",
       "0        170000  61000  SUV  \n",
       "1        165800  61000  SUV  \n",
       "2        158000  57000  SUV  \n",
       "3        142800  61000  SUV  \n",
       "4        139900  57000  SUV  "
      ]
     },
     "execution_count": 295,
     "metadata": {},
     "output_type": "execute_result"
    }
   ],
   "source": [
    "df.head()"
   ]
  },
  {
   "cell_type": "code",
   "execution_count": 296,
   "id": "3e33035a-154d-45d2-915b-efdae94e908c",
   "metadata": {},
   "outputs": [
    {
     "data": {
      "text/plain": [
       "array(['SUV', 'Sedan', 'Hatchback'], dtype=object)"
      ]
     },
     "execution_count": 296,
     "metadata": {},
     "output_type": "execute_result"
    }
   ],
   "source": [
    "df.Make.unique()"
   ]
  },
  {
   "cell_type": "code",
   "execution_count": 297,
   "id": "19ec1e23-64d8-4a47-833e-cfaf898e3525",
   "metadata": {},
   "outputs": [
    {
     "data": {
      "text/plain": [
       "array(['Business', 'Salaried'], dtype=object)"
      ]
     },
     "execution_count": 297,
     "metadata": {},
     "output_type": "execute_result"
    }
   ],
   "source": [
    "df.Profession.unique()"
   ]
  },
  {
   "cell_type": "code",
   "execution_count": 298,
   "id": "ffc6209e-b7df-48d4-a181-22c4620c17a5",
   "metadata": {},
   "outputs": [
    {
     "data": {
      "text/plain": [
       "Profession  Make     \n",
       "Business    Hatchback    290\n",
       "            SUV           89\n",
       "            Sedan        306\n",
       "Salaried    Hatchback    292\n",
       "            SUV          208\n",
       "            Sedan        396\n",
       "Name: Make, dtype: int64"
      ]
     },
     "execution_count": 298,
     "metadata": {},
     "output_type": "execute_result"
    }
   ],
   "source": [
    "df.groupby([\"Profession\",\"Make\"])[\"Make\"].count()"
   ]
  },
  {
   "cell_type": "code",
   "execution_count": 299,
   "id": "410f4402-fa95-47de-b1cf-5a421875a42c",
   "metadata": {},
   "outputs": [],
   "source": [
    "df2=df.loc[:,[\"Profession\",\"Make\"]]"
   ]
  },
  {
   "cell_type": "code",
   "execution_count": 300,
   "id": "4f581e8b-4d96-4ecb-87d8-2321828690a3",
   "metadata": {},
   "outputs": [],
   "source": [
    "bs=df2.where(df['Profession']=='Business').dropna()\n",
    "sl=df2.where(df['Profession']=='Salaried').dropna()\n"
   ]
  },
  {
   "cell_type": "code",
   "execution_count": 301,
   "id": "6b99ec21-cdd6-493b-9a00-b7cdaf4ce2ff",
   "metadata": {},
   "outputs": [
    {
     "data": {
      "text/html": [
       "<div>\n",
       "<style scoped>\n",
       "    .dataframe tbody tr th:only-of-type {\n",
       "        vertical-align: middle;\n",
       "    }\n",
       "\n",
       "    .dataframe tbody tr th {\n",
       "        vertical-align: top;\n",
       "    }\n",
       "\n",
       "    .dataframe thead th {\n",
       "        text-align: right;\n",
       "    }\n",
       "</style>\n",
       "<table border=\"1\" class=\"dataframe\">\n",
       "  <thead>\n",
       "    <tr style=\"text-align: right;\">\n",
       "      <th></th>\n",
       "      <th>Profession</th>\n",
       "      <th>Make</th>\n",
       "    </tr>\n",
       "  </thead>\n",
       "  <tbody>\n",
       "    <tr>\n",
       "      <th>0</th>\n",
       "      <td>Business</td>\n",
       "      <td>SUV</td>\n",
       "    </tr>\n",
       "    <tr>\n",
       "      <th>14</th>\n",
       "      <td>Business</td>\n",
       "      <td>SUV</td>\n",
       "    </tr>\n",
       "    <tr>\n",
       "      <th>16</th>\n",
       "      <td>Business</td>\n",
       "      <td>SUV</td>\n",
       "    </tr>\n",
       "    <tr>\n",
       "      <th>18</th>\n",
       "      <td>Business</td>\n",
       "      <td>SUV</td>\n",
       "    </tr>\n",
       "    <tr>\n",
       "      <th>22</th>\n",
       "      <td>Business</td>\n",
       "      <td>SUV</td>\n",
       "    </tr>\n",
       "    <tr>\n",
       "      <th>...</th>\n",
       "      <td>...</td>\n",
       "      <td>...</td>\n",
       "    </tr>\n",
       "    <tr>\n",
       "      <th>1572</th>\n",
       "      <td>Business</td>\n",
       "      <td>Hatchback</td>\n",
       "    </tr>\n",
       "    <tr>\n",
       "      <th>1573</th>\n",
       "      <td>Business</td>\n",
       "      <td>Hatchback</td>\n",
       "    </tr>\n",
       "    <tr>\n",
       "      <th>1577</th>\n",
       "      <td>Business</td>\n",
       "      <td>Hatchback</td>\n",
       "    </tr>\n",
       "    <tr>\n",
       "      <th>1578</th>\n",
       "      <td>Business</td>\n",
       "      <td>Hatchback</td>\n",
       "    </tr>\n",
       "    <tr>\n",
       "      <th>1579</th>\n",
       "      <td>Business</td>\n",
       "      <td>Hatchback</td>\n",
       "    </tr>\n",
       "  </tbody>\n",
       "</table>\n",
       "<p>685 rows × 2 columns</p>\n",
       "</div>"
      ],
      "text/plain": [
       "     Profession       Make\n",
       "0      Business        SUV\n",
       "14     Business        SUV\n",
       "16     Business        SUV\n",
       "18     Business        SUV\n",
       "22     Business        SUV\n",
       "...         ...        ...\n",
       "1572   Business  Hatchback\n",
       "1573   Business  Hatchback\n",
       "1577   Business  Hatchback\n",
       "1578   Business  Hatchback\n",
       "1579   Business  Hatchback\n",
       "\n",
       "[685 rows x 2 columns]"
      ]
     },
     "execution_count": 301,
     "metadata": {},
     "output_type": "execute_result"
    }
   ],
   "source": [
    "bs"
   ]
  },
  {
   "cell_type": "code",
   "execution_count": 302,
   "id": "db137cf2-cc98-4e20-827a-d33f02ffabc1",
   "metadata": {},
   "outputs": [
    {
     "data": {
      "text/html": [
       "<div>\n",
       "<style scoped>\n",
       "    .dataframe tbody tr th:only-of-type {\n",
       "        vertical-align: middle;\n",
       "    }\n",
       "\n",
       "    .dataframe tbody tr th {\n",
       "        vertical-align: top;\n",
       "    }\n",
       "\n",
       "    .dataframe thead th {\n",
       "        text-align: right;\n",
       "    }\n",
       "</style>\n",
       "<table border=\"1\" class=\"dataframe\">\n",
       "  <thead>\n",
       "    <tr style=\"text-align: right;\">\n",
       "      <th></th>\n",
       "      <th>Profession</th>\n",
       "      <th>Make</th>\n",
       "    </tr>\n",
       "  </thead>\n",
       "  <tbody>\n",
       "    <tr>\n",
       "      <th>1</th>\n",
       "      <td>Salaried</td>\n",
       "      <td>SUV</td>\n",
       "    </tr>\n",
       "    <tr>\n",
       "      <th>2</th>\n",
       "      <td>Salaried</td>\n",
       "      <td>SUV</td>\n",
       "    </tr>\n",
       "    <tr>\n",
       "      <th>3</th>\n",
       "      <td>Salaried</td>\n",
       "      <td>SUV</td>\n",
       "    </tr>\n",
       "    <tr>\n",
       "      <th>4</th>\n",
       "      <td>Salaried</td>\n",
       "      <td>SUV</td>\n",
       "    </tr>\n",
       "    <tr>\n",
       "      <th>5</th>\n",
       "      <td>Salaried</td>\n",
       "      <td>SUV</td>\n",
       "    </tr>\n",
       "    <tr>\n",
       "      <th>...</th>\n",
       "      <td>...</td>\n",
       "      <td>...</td>\n",
       "    </tr>\n",
       "    <tr>\n",
       "      <th>1569</th>\n",
       "      <td>Salaried</td>\n",
       "      <td>Hatchback</td>\n",
       "    </tr>\n",
       "    <tr>\n",
       "      <th>1574</th>\n",
       "      <td>Salaried</td>\n",
       "      <td>Sedan</td>\n",
       "    </tr>\n",
       "    <tr>\n",
       "      <th>1575</th>\n",
       "      <td>Salaried</td>\n",
       "      <td>Hatchback</td>\n",
       "    </tr>\n",
       "    <tr>\n",
       "      <th>1576</th>\n",
       "      <td>Salaried</td>\n",
       "      <td>Hatchback</td>\n",
       "    </tr>\n",
       "    <tr>\n",
       "      <th>1580</th>\n",
       "      <td>Salaried</td>\n",
       "      <td>Hatchback</td>\n",
       "    </tr>\n",
       "  </tbody>\n",
       "</table>\n",
       "<p>896 rows × 2 columns</p>\n",
       "</div>"
      ],
      "text/plain": [
       "     Profession       Make\n",
       "1      Salaried        SUV\n",
       "2      Salaried        SUV\n",
       "3      Salaried        SUV\n",
       "4      Salaried        SUV\n",
       "5      Salaried        SUV\n",
       "...         ...        ...\n",
       "1569   Salaried  Hatchback\n",
       "1574   Salaried      Sedan\n",
       "1575   Salaried  Hatchback\n",
       "1576   Salaried  Hatchback\n",
       "1580   Salaried  Hatchback\n",
       "\n",
       "[896 rows x 2 columns]"
      ]
     },
     "execution_count": 302,
     "metadata": {},
     "output_type": "execute_result"
    }
   ],
   "source": [
    "sl"
   ]
  },
  {
   "cell_type": "code",
   "execution_count": 303,
   "id": "9b275f5d-d17f-40bb-902e-86b7cd37190a",
   "metadata": {},
   "outputs": [],
   "source": [
    "bs1=bs.groupby(\"Make\").count()"
   ]
  },
  {
   "cell_type": "code",
   "execution_count": 304,
   "id": "3a8b575c-0731-4d5d-85b7-3ef9cd1b9a9e",
   "metadata": {},
   "outputs": [
    {
     "data": {
      "text/html": [
       "<div>\n",
       "<style scoped>\n",
       "    .dataframe tbody tr th:only-of-type {\n",
       "        vertical-align: middle;\n",
       "    }\n",
       "\n",
       "    .dataframe tbody tr th {\n",
       "        vertical-align: top;\n",
       "    }\n",
       "\n",
       "    .dataframe thead th {\n",
       "        text-align: right;\n",
       "    }\n",
       "</style>\n",
       "<table border=\"1\" class=\"dataframe\">\n",
       "  <thead>\n",
       "    <tr style=\"text-align: right;\">\n",
       "      <th></th>\n",
       "      <th>Profession</th>\n",
       "    </tr>\n",
       "    <tr>\n",
       "      <th>Make</th>\n",
       "      <th></th>\n",
       "    </tr>\n",
       "  </thead>\n",
       "  <tbody>\n",
       "    <tr>\n",
       "      <th>Hatchback</th>\n",
       "      <td>290</td>\n",
       "    </tr>\n",
       "    <tr>\n",
       "      <th>SUV</th>\n",
       "      <td>89</td>\n",
       "    </tr>\n",
       "    <tr>\n",
       "      <th>Sedan</th>\n",
       "      <td>306</td>\n",
       "    </tr>\n",
       "  </tbody>\n",
       "</table>\n",
       "</div>"
      ],
      "text/plain": [
       "           Profession\n",
       "Make                 \n",
       "Hatchback         290\n",
       "SUV                89\n",
       "Sedan             306"
      ]
     },
     "execution_count": 304,
     "metadata": {},
     "output_type": "execute_result"
    }
   ],
   "source": [
    "bs1"
   ]
  },
  {
   "cell_type": "code",
   "execution_count": 305,
   "id": "d6572efd-5c89-4c7a-b8b2-d1d235f36068",
   "metadata": {},
   "outputs": [],
   "source": [
    "sl1=sl.groupby(\"Make\").count()"
   ]
  },
  {
   "cell_type": "code",
   "execution_count": 306,
   "id": "60ce37d2-da34-4712-b403-4a9c70166129",
   "metadata": {},
   "outputs": [
    {
     "data": {
      "text/html": [
       "<div>\n",
       "<style scoped>\n",
       "    .dataframe tbody tr th:only-of-type {\n",
       "        vertical-align: middle;\n",
       "    }\n",
       "\n",
       "    .dataframe tbody tr th {\n",
       "        vertical-align: top;\n",
       "    }\n",
       "\n",
       "    .dataframe thead th {\n",
       "        text-align: right;\n",
       "    }\n",
       "</style>\n",
       "<table border=\"1\" class=\"dataframe\">\n",
       "  <thead>\n",
       "    <tr style=\"text-align: right;\">\n",
       "      <th></th>\n",
       "      <th>Profession</th>\n",
       "    </tr>\n",
       "    <tr>\n",
       "      <th>Make</th>\n",
       "      <th></th>\n",
       "    </tr>\n",
       "  </thead>\n",
       "  <tbody>\n",
       "    <tr>\n",
       "      <th>Hatchback</th>\n",
       "      <td>292</td>\n",
       "    </tr>\n",
       "    <tr>\n",
       "      <th>SUV</th>\n",
       "      <td>208</td>\n",
       "    </tr>\n",
       "    <tr>\n",
       "      <th>Sedan</th>\n",
       "      <td>396</td>\n",
       "    </tr>\n",
       "  </tbody>\n",
       "</table>\n",
       "</div>"
      ],
      "text/plain": [
       "           Profession\n",
       "Make                 \n",
       "Hatchback         292\n",
       "SUV               208\n",
       "Sedan             396"
      ]
     },
     "execution_count": 306,
     "metadata": {},
     "output_type": "execute_result"
    }
   ],
   "source": [
    "sl1"
   ]
  },
  {
   "cell_type": "code",
   "execution_count": 307,
   "id": "f481d646-afec-4650-9358-4009ce825b35",
   "metadata": {},
   "outputs": [],
   "source": [
    "bsslist=[bs1.iloc[0][0],bs1.iloc[1][0],bs1.iloc[2][0]]\n",
    "sslist=[sl1.iloc[0][0],sl1.iloc[1][0],sl1.iloc[2][0]]"
   ]
  },
  {
   "cell_type": "code",
   "execution_count": 308,
   "id": "81611b1e-2871-416f-a2cc-d83df7245051",
   "metadata": {},
   "outputs": [
    {
     "data": {
      "text/plain": [
       "[290, 89, 306]"
      ]
     },
     "execution_count": 308,
     "metadata": {},
     "output_type": "execute_result"
    }
   ],
   "source": [
    "bsslist"
   ]
  },
  {
   "cell_type": "code",
   "execution_count": 309,
   "id": "2fcd5eeb-3084-444f-949d-5a3150796e39",
   "metadata": {},
   "outputs": [
    {
     "data": {
      "text/plain": [
       "[292, 208, 396]"
      ]
     },
     "execution_count": 309,
     "metadata": {},
     "output_type": "execute_result"
    }
   ],
   "source": [
    "sslist"
   ]
  },
  {
   "cell_type": "code",
   "execution_count": 310,
   "id": "62bc44cf-5aed-4a85-adfb-c6138265a25e",
   "metadata": {},
   "outputs": [],
   "source": [
    "slbs=pd.DataFrame({\"Salaried\":sslist,\"Business\":bsslist},index=[\"Hatchback\",\"SUV\",\"Sedan\"])"
   ]
  },
  {
   "cell_type": "code",
   "execution_count": 311,
   "id": "403522d0-a2e4-4789-b126-ae4fe93e8c68",
   "metadata": {},
   "outputs": [
    {
     "data": {
      "text/html": [
       "<div>\n",
       "<style scoped>\n",
       "    .dataframe tbody tr th:only-of-type {\n",
       "        vertical-align: middle;\n",
       "    }\n",
       "\n",
       "    .dataframe tbody tr th {\n",
       "        vertical-align: top;\n",
       "    }\n",
       "\n",
       "    .dataframe thead th {\n",
       "        text-align: right;\n",
       "    }\n",
       "</style>\n",
       "<table border=\"1\" class=\"dataframe\">\n",
       "  <thead>\n",
       "    <tr style=\"text-align: right;\">\n",
       "      <th></th>\n",
       "      <th>Salaried</th>\n",
       "      <th>Business</th>\n",
       "    </tr>\n",
       "  </thead>\n",
       "  <tbody>\n",
       "    <tr>\n",
       "      <th>Hatchback</th>\n",
       "      <td>292</td>\n",
       "      <td>290</td>\n",
       "    </tr>\n",
       "    <tr>\n",
       "      <th>SUV</th>\n",
       "      <td>208</td>\n",
       "      <td>89</td>\n",
       "    </tr>\n",
       "    <tr>\n",
       "      <th>Sedan</th>\n",
       "      <td>396</td>\n",
       "      <td>306</td>\n",
       "    </tr>\n",
       "  </tbody>\n",
       "</table>\n",
       "</div>"
      ],
      "text/plain": [
       "           Salaried  Business\n",
       "Hatchback       292       290\n",
       "SUV             208        89\n",
       "Sedan           396       306"
      ]
     },
     "execution_count": 311,
     "metadata": {},
     "output_type": "execute_result"
    }
   ],
   "source": [
    "slbs"
   ]
  },
  {
   "cell_type": "code",
   "execution_count": 312,
   "id": "7dc83e9d-c76e-4a95-84aa-13ad7c94996e",
   "metadata": {},
   "outputs": [
    {
     "data": {
      "image/png": "[encoded data removed]",
      "text/plain": [
       "<Figure size 400x400 with 1 Axes>"
      ]
     },
     "metadata": {},
     "output_type": "display_data"
    }
   ],
   "source": [
    "sns.set(rc={'figure.figsize':(4,4)})\n",
    "slbs.plot.bar(rot=False)\n",
    "plt.title(\"Who Brought More By Profession\")\n",
    "plt.show()"
   ]
  },
  {
   "cell_type": "markdown",
   "id": "5f9e3b68-2514-434f-9d1b-d82f2cc7e78b",
   "metadata": {},
   "source": [
    "<h3>from the above graph.<br>\n",
    "Ned Stark is right about salaried person more likly to buy Sedan than business person.<br><br>\n",
    "Also Hatchback is favorite for both Profession<br>\n",
    "Also Salaried Person are more likely to buy SUV than a Business person.</h3>\n"
   ]
  },
  {
   "cell_type": "markdown",
   "id": "e24ad358-76d0-4571-bc16-b9bab7df34fd",
   "metadata": {},
   "source": [
    "<h2>E3) Sheldon Cooper does not believe any of them; he claims that a salaried male is an easier\r\n",
    "target for a SUV sale over a Sedan Sale.</h2>"
   ]
  },
  {
   "cell_type": "code",
   "execution_count": 313,
   "id": "fcc84e26-fcad-44b3-ae81-0d411e9bc77e",
   "metadata": {},
   "outputs": [
    {
     "data": {
      "text/html": [
       "<div>\n",
       "<style scoped>\n",
       "    .dataframe tbody tr th:only-of-type {\n",
       "        vertical-align: middle;\n",
       "    }\n",
       "\n",
       "    .dataframe tbody tr th {\n",
       "        vertical-align: top;\n",
       "    }\n",
       "\n",
       "    .dataframe thead th {\n",
       "        text-align: right;\n",
       "    }\n",
       "</style>\n",
       "<table border=\"1\" class=\"dataframe\">\n",
       "  <thead>\n",
       "    <tr style=\"text-align: right;\">\n",
       "      <th></th>\n",
       "      <th>Age</th>\n",
       "      <th>Gender</th>\n",
       "      <th>Profession</th>\n",
       "      <th>Marital_status</th>\n",
       "      <th>Education</th>\n",
       "      <th>No_of_Dependents</th>\n",
       "      <th>Personal_loan</th>\n",
       "      <th>House_loan</th>\n",
       "      <th>Partner_working</th>\n",
       "      <th>Salary</th>\n",
       "      <th>Partner_salary</th>\n",
       "      <th>Total_salary</th>\n",
       "      <th>Price</th>\n",
       "      <th>Make</th>\n",
       "    </tr>\n",
       "  </thead>\n",
       "  <tbody>\n",
       "    <tr>\n",
       "      <th>0</th>\n",
       "      <td>53</td>\n",
       "      <td>Male</td>\n",
       "      <td>Business</td>\n",
       "      <td>Married</td>\n",
       "      <td>Post Graduate</td>\n",
       "      <td>4</td>\n",
       "      <td>No</td>\n",
       "      <td>No</td>\n",
       "      <td>Yes</td>\n",
       "      <td>99300</td>\n",
       "      <td>70700.0</td>\n",
       "      <td>170000</td>\n",
       "      <td>61000</td>\n",
       "      <td>SUV</td>\n",
       "    </tr>\n",
       "    <tr>\n",
       "      <th>1</th>\n",
       "      <td>53</td>\n",
       "      <td>Female</td>\n",
       "      <td>Salaried</td>\n",
       "      <td>Married</td>\n",
       "      <td>Post Graduate</td>\n",
       "      <td>4</td>\n",
       "      <td>Yes</td>\n",
       "      <td>No</td>\n",
       "      <td>Yes</td>\n",
       "      <td>95500</td>\n",
       "      <td>70300.0</td>\n",
       "      <td>165800</td>\n",
       "      <td>61000</td>\n",
       "      <td>SUV</td>\n",
       "    </tr>\n",
       "    <tr>\n",
       "      <th>2</th>\n",
       "      <td>53</td>\n",
       "      <td>Female</td>\n",
       "      <td>Salaried</td>\n",
       "      <td>Married</td>\n",
       "      <td>Post Graduate</td>\n",
       "      <td>3</td>\n",
       "      <td>No</td>\n",
       "      <td>No</td>\n",
       "      <td>Yes</td>\n",
       "      <td>97300</td>\n",
       "      <td>60700.0</td>\n",
       "      <td>158000</td>\n",
       "      <td>57000</td>\n",
       "      <td>SUV</td>\n",
       "    </tr>\n",
       "    <tr>\n",
       "      <th>3</th>\n",
       "      <td>53</td>\n",
       "      <td>Female</td>\n",
       "      <td>Salaried</td>\n",
       "      <td>Married</td>\n",
       "      <td>Graduate</td>\n",
       "      <td>2</td>\n",
       "      <td>Yes</td>\n",
       "      <td>No</td>\n",
       "      <td>Yes</td>\n",
       "      <td>72500</td>\n",
       "      <td>70300.0</td>\n",
       "      <td>142800</td>\n",
       "      <td>61000</td>\n",
       "      <td>SUV</td>\n",
       "    </tr>\n",
       "    <tr>\n",
       "      <th>4</th>\n",
       "      <td>53</td>\n",
       "      <td>Male</td>\n",
       "      <td>Salaried</td>\n",
       "      <td>Married</td>\n",
       "      <td>Post Graduate</td>\n",
       "      <td>3</td>\n",
       "      <td>No</td>\n",
       "      <td>No</td>\n",
       "      <td>Yes</td>\n",
       "      <td>79700</td>\n",
       "      <td>60200.0</td>\n",
       "      <td>139900</td>\n",
       "      <td>57000</td>\n",
       "      <td>SUV</td>\n",
       "    </tr>\n",
       "  </tbody>\n",
       "</table>\n",
       "</div>"
      ],
      "text/plain": [
       "   Age  Gender Profession Marital_status      Education  No_of_Dependents  \\\n",
       "0   53    Male   Business        Married  Post Graduate                 4   \n",
       "1   53  Female   Salaried        Married  Post Graduate                 4   \n",
       "2   53  Female   Salaried        Married  Post Graduate                 3   \n",
       "3   53  Female   Salaried        Married       Graduate                 2   \n",
       "4   53    Male   Salaried        Married  Post Graduate                 3   \n",
       "\n",
       "  Personal_loan House_loan Partner_working  Salary  Partner_salary  \\\n",
       "0            No         No             Yes   99300         70700.0   \n",
       "1           Yes         No             Yes   95500         70300.0   \n",
       "2            No         No             Yes   97300         60700.0   \n",
       "3           Yes         No             Yes   72500         70300.0   \n",
       "4            No         No             Yes   79700         60200.0   \n",
       "\n",
       "   Total_salary  Price Make  \n",
       "0        170000  61000  SUV  \n",
       "1        165800  61000  SUV  \n",
       "2        158000  57000  SUV  \n",
       "3        142800  61000  SUV  \n",
       "4        139900  57000  SUV  "
      ]
     },
     "execution_count": 313,
     "metadata": {},
     "output_type": "execute_result"
    }
   ],
   "source": [
    "df.head()"
   ]
  },
  {
   "cell_type": "code",
   "execution_count": 314,
   "id": "6bab424c-d91f-4da4-a62b-f94273f2254f",
   "metadata": {},
   "outputs": [],
   "source": [
    "newdf=df.loc[:,[\"Gender\",\"Profession\",\"Make\"]]"
   ]
  },
  {
   "cell_type": "code",
   "execution_count": 315,
   "id": "248b14e8-0754-4724-a368-9c11c56ae433",
   "metadata": {},
   "outputs": [
    {
     "data": {
      "text/html": [
       "<div>\n",
       "<style scoped>\n",
       "    .dataframe tbody tr th:only-of-type {\n",
       "        vertical-align: middle;\n",
       "    }\n",
       "\n",
       "    .dataframe tbody tr th {\n",
       "        vertical-align: top;\n",
       "    }\n",
       "\n",
       "    .dataframe thead th {\n",
       "        text-align: right;\n",
       "    }\n",
       "</style>\n",
       "<table border=\"1\" class=\"dataframe\">\n",
       "  <thead>\n",
       "    <tr style=\"text-align: right;\">\n",
       "      <th></th>\n",
       "      <th>Gender</th>\n",
       "      <th>Profession</th>\n",
       "      <th>Make</th>\n",
       "    </tr>\n",
       "  </thead>\n",
       "  <tbody>\n",
       "    <tr>\n",
       "      <th>0</th>\n",
       "      <td>Male</td>\n",
       "      <td>Business</td>\n",
       "      <td>SUV</td>\n",
       "    </tr>\n",
       "    <tr>\n",
       "      <th>1</th>\n",
       "      <td>Female</td>\n",
       "      <td>Salaried</td>\n",
       "      <td>SUV</td>\n",
       "    </tr>\n",
       "    <tr>\n",
       "      <th>2</th>\n",
       "      <td>Female</td>\n",
       "      <td>Salaried</td>\n",
       "      <td>SUV</td>\n",
       "    </tr>\n",
       "    <tr>\n",
       "      <th>3</th>\n",
       "      <td>Female</td>\n",
       "      <td>Salaried</td>\n",
       "      <td>SUV</td>\n",
       "    </tr>\n",
       "    <tr>\n",
       "      <th>4</th>\n",
       "      <td>Male</td>\n",
       "      <td>Salaried</td>\n",
       "      <td>SUV</td>\n",
       "    </tr>\n",
       "    <tr>\n",
       "      <th>...</th>\n",
       "      <td>...</td>\n",
       "      <td>...</td>\n",
       "      <td>...</td>\n",
       "    </tr>\n",
       "    <tr>\n",
       "      <th>1576</th>\n",
       "      <td>Male</td>\n",
       "      <td>Salaried</td>\n",
       "      <td>Hatchback</td>\n",
       "    </tr>\n",
       "    <tr>\n",
       "      <th>1577</th>\n",
       "      <td>Male</td>\n",
       "      <td>Business</td>\n",
       "      <td>Hatchback</td>\n",
       "    </tr>\n",
       "    <tr>\n",
       "      <th>1578</th>\n",
       "      <td>Male</td>\n",
       "      <td>Business</td>\n",
       "      <td>Hatchback</td>\n",
       "    </tr>\n",
       "    <tr>\n",
       "      <th>1579</th>\n",
       "      <td>Male</td>\n",
       "      <td>Business</td>\n",
       "      <td>Hatchback</td>\n",
       "    </tr>\n",
       "    <tr>\n",
       "      <th>1580</th>\n",
       "      <td>Male</td>\n",
       "      <td>Salaried</td>\n",
       "      <td>Hatchback</td>\n",
       "    </tr>\n",
       "  </tbody>\n",
       "</table>\n",
       "<p>1581 rows × 3 columns</p>\n",
       "</div>"
      ],
      "text/plain": [
       "      Gender Profession       Make\n",
       "0       Male   Business        SUV\n",
       "1     Female   Salaried        SUV\n",
       "2     Female   Salaried        SUV\n",
       "3     Female   Salaried        SUV\n",
       "4       Male   Salaried        SUV\n",
       "...      ...        ...        ...\n",
       "1576    Male   Salaried  Hatchback\n",
       "1577    Male   Business  Hatchback\n",
       "1578    Male   Business  Hatchback\n",
       "1579    Male   Business  Hatchback\n",
       "1580    Male   Salaried  Hatchback\n",
       "\n",
       "[1581 rows x 3 columns]"
      ]
     },
     "execution_count": 315,
     "metadata": {},
     "output_type": "execute_result"
    }
   ],
   "source": [
    "newdf"
   ]
  },
  {
   "cell_type": "code",
   "execution_count": 316,
   "id": "4808017c-da20-4de8-b354-1b119b241ae8",
   "metadata": {},
   "outputs": [
    {
     "data": {
      "text/plain": [
       "Gender  Profession  Make     \n",
       "Female  Business    SUV           55\n",
       "                    Sedan         50\n",
       "        Salaried    Hatchback     15\n",
       "                    SUV          118\n",
       "                    Sedan         91\n",
       "Male    Business    Hatchback    290\n",
       "                    SUV           34\n",
       "                    Sedan        256\n",
       "        Salaried    Hatchback    277\n",
       "                    SUV           90\n",
       "                    Sedan        305\n",
       "Name: Make, dtype: int64"
      ]
     },
     "execution_count": 316,
     "metadata": {},
     "output_type": "execute_result"
    }
   ],
   "source": [
    "newdf.groupby([\"Gender\",\"Profession\",\"Make\"])[\"Make\"].count()"
   ]
  },
  {
   "cell_type": "code",
   "execution_count": 317,
   "id": "a0eff589-43cc-4794-80a8-1d68309fd93c",
   "metadata": {},
   "outputs": [],
   "source": [
    "msl=newdf.where((newdf['Gender']=='Male') & (newdf['Profession']=='Salaried')).dropna()\n",
    "mbs=newdf.where((newdf['Gender']=='Male') & (newdf['Profession']=='Business')).dropna()"
   ]
  },
  {
   "cell_type": "code",
   "execution_count": 318,
   "id": "690e7d72-bf5d-4d01-b553-76c63d92e2f1",
   "metadata": {},
   "outputs": [],
   "source": [
    "smll=msl.groupby('Make')['Make'].count()\n",
    "mbsl=mbs.groupby('Make')['Make'].count()"
   ]
  },
  {
   "cell_type": "code",
   "execution_count": 319,
   "id": "438efde9-e124-4b7c-9487-3a0a39b97cbf",
   "metadata": {},
   "outputs": [
    {
     "data": {
      "text/plain": [
       "Make\n",
       "Hatchback    277\n",
       "SUV           90\n",
       "Sedan        305\n",
       "Name: Make, dtype: int64"
      ]
     },
     "execution_count": 319,
     "metadata": {},
     "output_type": "execute_result"
    }
   ],
   "source": [
    "smll"
   ]
  },
  {
   "cell_type": "code",
   "execution_count": 320,
   "id": "00a72084-c45a-4661-b727-3eacc78a1882",
   "metadata": {},
   "outputs": [
    {
     "data": {
      "text/plain": [
       "Make\n",
       "Hatchback    290\n",
       "SUV           34\n",
       "Sedan        256\n",
       "Name: Make, dtype: int64"
      ]
     },
     "execution_count": 320,
     "metadata": {},
     "output_type": "execute_result"
    }
   ],
   "source": [
    "mbsl"
   ]
  },
  {
   "cell_type": "code",
   "execution_count": 321,
   "id": "06388cd5-d659-4dfd-bc15-cc31b62702af",
   "metadata": {},
   "outputs": [],
   "source": [
    "msllist=[smll.iloc[1],smll.iloc[2]]\n",
    "mbsllist=[mbsl.iloc[1],mbsl.iloc[2]]"
   ]
  },
  {
   "cell_type": "code",
   "execution_count": 322,
   "id": "b8d0aedd-8ca0-4903-b20c-ef708f8a5ad1",
   "metadata": {},
   "outputs": [
    {
     "data": {
      "text/plain": [
       "[90, 305]"
      ]
     },
     "execution_count": 322,
     "metadata": {},
     "output_type": "execute_result"
    }
   ],
   "source": [
    "msllist"
   ]
  },
  {
   "cell_type": "code",
   "execution_count": 323,
   "id": "fb75edc1-4061-4832-b19e-ca5e1c7585f5",
   "metadata": {},
   "outputs": [
    {
     "data": {
      "text/plain": [
       "[34, 256]"
      ]
     },
     "execution_count": 323,
     "metadata": {},
     "output_type": "execute_result"
    }
   ],
   "source": [
    "mbsllist"
   ]
  },
  {
   "cell_type": "code",
   "execution_count": 324,
   "id": "0ef009ca-26c5-4ace-9a0a-ced60d8504d2",
   "metadata": {},
   "outputs": [],
   "source": [
    "newmbs=pd.DataFrame({\"Male Salaried\":msllist,\"Male Business\":mbsllist},index=[\"SUV\",\"Sedan\"])"
   ]
  },
  {
   "cell_type": "code",
   "execution_count": 325,
   "id": "a796e58f-352f-4fc8-8d6d-a3ed718ffab6",
   "metadata": {},
   "outputs": [
    {
     "data": {
      "image/png": "[encoded data removed]",
      "text/plain": [
       "<Figure size 800x500 with 1 Axes>"
      ]
     },
     "metadata": {},
     "output_type": "display_data"
    }
   ],
   "source": [
    "sns.set(rc={'figure.figsize':(8,5)})\n",
    "newmbs.plot.bar(rot=0)\n",
    "plt.title(\"Car Purchased By Profession (Males)\")\n",
    "plt.show()"
   ]
  },
  {
   "cell_type": "code",
   "execution_count": 326,
   "id": "d3e98b80-641b-43d6-b0f2-e05a046343fd",
   "metadata": {},
   "outputs": [
    {
     "data": {
      "text/plain": [
       "Make\n",
       "Hatchback    277\n",
       "SUV           90\n",
       "Sedan        305\n",
       "Name: Make, dtype: int64"
      ]
     },
     "execution_count": 326,
     "metadata": {},
     "output_type": "execute_result"
    }
   ],
   "source": [
    "smll"
   ]
  },
  {
   "cell_type": "code",
   "execution_count": 327,
   "id": "ef388d53-14fc-4bc4-a6e5-70398920e6c0",
   "metadata": {},
   "outputs": [
    {
     "data": {
      "text/plain": [
       "Make\n",
       "Hatchback    290\n",
       "SUV           34\n",
       "Sedan        256\n",
       "Name: Make, dtype: int64"
      ]
     },
     "execution_count": 327,
     "metadata": {},
     "output_type": "execute_result"
    }
   ],
   "source": [
    "mbsl"
   ]
  },
  {
   "cell_type": "markdown",
   "id": "4751204d-be69-4768-935d-10c5f0155394",
   "metadata": {},
   "source": [
    "<h3> \n",
    "from the above graph and with my analysis: <br>Sheldon Cooper is incorrect<br>\n",
    "because in this case Salaried males are going to purchased both SUV and Sedan and not just one SUV. <br>\n",
    "    \n",
    "Lastly , Both professions equally like to purchase hatchback.\n",
    "    \n",
    "</h3>"
   ]
  },
  {
   "cell_type": "markdown",
   "id": "f21425a5-a740-4932-90f7-78b4d50f9370",
   "metadata": {},
   "source": [
    "<h2>Amount spent on purchasing automobiles</h2>"
   ]
  },
  {
   "cell_type": "markdown",
   "id": "d701085f-98e9-40df-94f6-413e18558da8",
   "metadata": {},
   "source": [
    "<h3>Gender</h3>"
   ]
  },
  {
   "cell_type": "markdown",
   "id": "d496799a-236e-49cc-b973-18db10f8598c",
   "metadata": {},
   "source": [
    "<h3>Personal_loan</h3>"
   ]
  },
  {
   "cell_type": "code",
   "execution_count": 328,
   "id": "2cba9e13-f096-4972-a404-2f411a2fd1ed",
   "metadata": {},
   "outputs": [
    {
     "data": {
      "text/html": [
       "<div>\n",
       "<style scoped>\n",
       "    .dataframe tbody tr th:only-of-type {\n",
       "        vertical-align: middle;\n",
       "    }\n",
       "\n",
       "    .dataframe tbody tr th {\n",
       "        vertical-align: top;\n",
       "    }\n",
       "\n",
       "    .dataframe thead th {\n",
       "        text-align: right;\n",
       "    }\n",
       "</style>\n",
       "<table border=\"1\" class=\"dataframe\">\n",
       "  <thead>\n",
       "    <tr style=\"text-align: right;\">\n",
       "      <th></th>\n",
       "      <th>Age</th>\n",
       "      <th>Gender</th>\n",
       "      <th>Profession</th>\n",
       "      <th>Marital_status</th>\n",
       "      <th>Education</th>\n",
       "      <th>No_of_Dependents</th>\n",
       "      <th>Personal_loan</th>\n",
       "      <th>House_loan</th>\n",
       "      <th>Partner_working</th>\n",
       "      <th>Salary</th>\n",
       "      <th>Partner_salary</th>\n",
       "      <th>Total_salary</th>\n",
       "      <th>Price</th>\n",
       "      <th>Make</th>\n",
       "    </tr>\n",
       "  </thead>\n",
       "  <tbody>\n",
       "    <tr>\n",
       "      <th>0</th>\n",
       "      <td>53</td>\n",
       "      <td>Male</td>\n",
       "      <td>Business</td>\n",
       "      <td>Married</td>\n",
       "      <td>Post Graduate</td>\n",
       "      <td>4</td>\n",
       "      <td>No</td>\n",
       "      <td>No</td>\n",
       "      <td>Yes</td>\n",
       "      <td>99300</td>\n",
       "      <td>70700.0</td>\n",
       "      <td>170000</td>\n",
       "      <td>61000</td>\n",
       "      <td>SUV</td>\n",
       "    </tr>\n",
       "    <tr>\n",
       "      <th>1</th>\n",
       "      <td>53</td>\n",
       "      <td>Female</td>\n",
       "      <td>Salaried</td>\n",
       "      <td>Married</td>\n",
       "      <td>Post Graduate</td>\n",
       "      <td>4</td>\n",
       "      <td>Yes</td>\n",
       "      <td>No</td>\n",
       "      <td>Yes</td>\n",
       "      <td>95500</td>\n",
       "      <td>70300.0</td>\n",
       "      <td>165800</td>\n",
       "      <td>61000</td>\n",
       "      <td>SUV</td>\n",
       "    </tr>\n",
       "    <tr>\n",
       "      <th>2</th>\n",
       "      <td>53</td>\n",
       "      <td>Female</td>\n",
       "      <td>Salaried</td>\n",
       "      <td>Married</td>\n",
       "      <td>Post Graduate</td>\n",
       "      <td>3</td>\n",
       "      <td>No</td>\n",
       "      <td>No</td>\n",
       "      <td>Yes</td>\n",
       "      <td>97300</td>\n",
       "      <td>60700.0</td>\n",
       "      <td>158000</td>\n",
       "      <td>57000</td>\n",
       "      <td>SUV</td>\n",
       "    </tr>\n",
       "    <tr>\n",
       "      <th>3</th>\n",
       "      <td>53</td>\n",
       "      <td>Female</td>\n",
       "      <td>Salaried</td>\n",
       "      <td>Married</td>\n",
       "      <td>Graduate</td>\n",
       "      <td>2</td>\n",
       "      <td>Yes</td>\n",
       "      <td>No</td>\n",
       "      <td>Yes</td>\n",
       "      <td>72500</td>\n",
       "      <td>70300.0</td>\n",
       "      <td>142800</td>\n",
       "      <td>61000</td>\n",
       "      <td>SUV</td>\n",
       "    </tr>\n",
       "    <tr>\n",
       "      <th>4</th>\n",
       "      <td>53</td>\n",
       "      <td>Male</td>\n",
       "      <td>Salaried</td>\n",
       "      <td>Married</td>\n",
       "      <td>Post Graduate</td>\n",
       "      <td>3</td>\n",
       "      <td>No</td>\n",
       "      <td>No</td>\n",
       "      <td>Yes</td>\n",
       "      <td>79700</td>\n",
       "      <td>60200.0</td>\n",
       "      <td>139900</td>\n",
       "      <td>57000</td>\n",
       "      <td>SUV</td>\n",
       "    </tr>\n",
       "    <tr>\n",
       "      <th>...</th>\n",
       "      <td>...</td>\n",
       "      <td>...</td>\n",
       "      <td>...</td>\n",
       "      <td>...</td>\n",
       "      <td>...</td>\n",
       "      <td>...</td>\n",
       "      <td>...</td>\n",
       "      <td>...</td>\n",
       "      <td>...</td>\n",
       "      <td>...</td>\n",
       "      <td>...</td>\n",
       "      <td>...</td>\n",
       "      <td>...</td>\n",
       "      <td>...</td>\n",
       "    </tr>\n",
       "    <tr>\n",
       "      <th>1576</th>\n",
       "      <td>22</td>\n",
       "      <td>Male</td>\n",
       "      <td>Salaried</td>\n",
       "      <td>Single</td>\n",
       "      <td>Graduate</td>\n",
       "      <td>2</td>\n",
       "      <td>No</td>\n",
       "      <td>Yes</td>\n",
       "      <td>No</td>\n",
       "      <td>33300</td>\n",
       "      <td>0.0</td>\n",
       "      <td>33300</td>\n",
       "      <td>27000</td>\n",
       "      <td>Hatchback</td>\n",
       "    </tr>\n",
       "    <tr>\n",
       "      <th>1577</th>\n",
       "      <td>22</td>\n",
       "      <td>Male</td>\n",
       "      <td>Business</td>\n",
       "      <td>Married</td>\n",
       "      <td>Graduate</td>\n",
       "      <td>4</td>\n",
       "      <td>No</td>\n",
       "      <td>No</td>\n",
       "      <td>No</td>\n",
       "      <td>32000</td>\n",
       "      <td>0.0</td>\n",
       "      <td>32000</td>\n",
       "      <td>31000</td>\n",
       "      <td>Hatchback</td>\n",
       "    </tr>\n",
       "    <tr>\n",
       "      <th>1578</th>\n",
       "      <td>22</td>\n",
       "      <td>Male</td>\n",
       "      <td>Business</td>\n",
       "      <td>Single</td>\n",
       "      <td>Graduate</td>\n",
       "      <td>2</td>\n",
       "      <td>No</td>\n",
       "      <td>Yes</td>\n",
       "      <td>No</td>\n",
       "      <td>32900</td>\n",
       "      <td>0.0</td>\n",
       "      <td>32900</td>\n",
       "      <td>30000</td>\n",
       "      <td>Hatchback</td>\n",
       "    </tr>\n",
       "    <tr>\n",
       "      <th>1579</th>\n",
       "      <td>22</td>\n",
       "      <td>Male</td>\n",
       "      <td>Business</td>\n",
       "      <td>Married</td>\n",
       "      <td>Graduate</td>\n",
       "      <td>3</td>\n",
       "      <td>Yes</td>\n",
       "      <td>Yes</td>\n",
       "      <td>No</td>\n",
       "      <td>32200</td>\n",
       "      <td>0.0</td>\n",
       "      <td>32200</td>\n",
       "      <td>24000</td>\n",
       "      <td>Hatchback</td>\n",
       "    </tr>\n",
       "    <tr>\n",
       "      <th>1580</th>\n",
       "      <td>22</td>\n",
       "      <td>Male</td>\n",
       "      <td>Salaried</td>\n",
       "      <td>Married</td>\n",
       "      <td>Graduate</td>\n",
       "      <td>4</td>\n",
       "      <td>No</td>\n",
       "      <td>No</td>\n",
       "      <td>No</td>\n",
       "      <td>31600</td>\n",
       "      <td>0.0</td>\n",
       "      <td>31600</td>\n",
       "      <td>31000</td>\n",
       "      <td>Hatchback</td>\n",
       "    </tr>\n",
       "  </tbody>\n",
       "</table>\n",
       "<p>1581 rows × 14 columns</p>\n",
       "</div>"
      ],
      "text/plain": [
       "      Age  Gender Profession Marital_status      Education  No_of_Dependents  \\\n",
       "0      53    Male   Business        Married  Post Graduate                 4   \n",
       "1      53  Female   Salaried        Married  Post Graduate                 4   \n",
       "2      53  Female   Salaried        Married  Post Graduate                 3   \n",
       "3      53  Female   Salaried        Married       Graduate                 2   \n",
       "4      53    Male   Salaried        Married  Post Graduate                 3   \n",
       "...   ...     ...        ...            ...            ...               ...   \n",
       "1576   22    Male   Salaried         Single       Graduate                 2   \n",
       "1577   22    Male   Business        Married       Graduate                 4   \n",
       "1578   22    Male   Business         Single       Graduate                 2   \n",
       "1579   22    Male   Business        Married       Graduate                 3   \n",
       "1580   22    Male   Salaried        Married       Graduate                 4   \n",
       "\n",
       "     Personal_loan House_loan Partner_working  Salary  Partner_salary  \\\n",
       "0               No         No             Yes   99300         70700.0   \n",
       "1              Yes         No             Yes   95500         70300.0   \n",
       "2               No         No             Yes   97300         60700.0   \n",
       "3              Yes         No             Yes   72500         70300.0   \n",
       "4               No         No             Yes   79700         60200.0   \n",
       "...            ...        ...             ...     ...             ...   \n",
       "1576            No        Yes              No   33300             0.0   \n",
       "1577            No         No              No   32000             0.0   \n",
       "1578            No        Yes              No   32900             0.0   \n",
       "1579           Yes        Yes              No   32200             0.0   \n",
       "1580            No         No              No   31600             0.0   \n",
       "\n",
       "      Total_salary  Price       Make  \n",
       "0           170000  61000        SUV  \n",
       "1           165800  61000        SUV  \n",
       "2           158000  57000        SUV  \n",
       "3           142800  61000        SUV  \n",
       "4           139900  57000        SUV  \n",
       "...            ...    ...        ...  \n",
       "1576         33300  27000  Hatchback  \n",
       "1577         32000  31000  Hatchback  \n",
       "1578         32900  30000  Hatchback  \n",
       "1579         32200  24000  Hatchback  \n",
       "1580         31600  31000  Hatchback  \n",
       "\n",
       "[1581 rows x 14 columns]"
      ]
     },
     "execution_count": 328,
     "metadata": {},
     "output_type": "execute_result"
    }
   ],
   "source": [
    "df"
   ]
  },
  {
   "cell_type": "code",
   "execution_count": 329,
   "id": "62033329-f742-4243-8f2e-adb4407a8337",
   "metadata": {},
   "outputs": [],
   "source": [
    "ploan=df.loc[:,[\"Personal_loan\",\"Make\"]]"
   ]
  },
  {
   "cell_type": "code",
   "execution_count": 330,
   "id": "f7054ffd-27c5-4719-a47e-68a2cbbd5977",
   "metadata": {},
   "outputs": [
    {
     "data": {
      "text/html": [
       "<div>\n",
       "<style scoped>\n",
       "    .dataframe tbody tr th:only-of-type {\n",
       "        vertical-align: middle;\n",
       "    }\n",
       "\n",
       "    .dataframe tbody tr th {\n",
       "        vertical-align: top;\n",
       "    }\n",
       "\n",
       "    .dataframe thead th {\n",
       "        text-align: right;\n",
       "    }\n",
       "</style>\n",
       "<table border=\"1\" class=\"dataframe\">\n",
       "  <thead>\n",
       "    <tr style=\"text-align: right;\">\n",
       "      <th></th>\n",
       "      <th>Personal_loan</th>\n",
       "      <th>Make</th>\n",
       "    </tr>\n",
       "  </thead>\n",
       "  <tbody>\n",
       "    <tr>\n",
       "      <th>0</th>\n",
       "      <td>No</td>\n",
       "      <td>SUV</td>\n",
       "    </tr>\n",
       "    <tr>\n",
       "      <th>1</th>\n",
       "      <td>Yes</td>\n",
       "      <td>SUV</td>\n",
       "    </tr>\n",
       "    <tr>\n",
       "      <th>2</th>\n",
       "      <td>No</td>\n",
       "      <td>SUV</td>\n",
       "    </tr>\n",
       "    <tr>\n",
       "      <th>3</th>\n",
       "      <td>Yes</td>\n",
       "      <td>SUV</td>\n",
       "    </tr>\n",
       "    <tr>\n",
       "      <th>4</th>\n",
       "      <td>No</td>\n",
       "      <td>SUV</td>\n",
       "    </tr>\n",
       "    <tr>\n",
       "      <th>...</th>\n",
       "      <td>...</td>\n",
       "      <td>...</td>\n",
       "    </tr>\n",
       "    <tr>\n",
       "      <th>1576</th>\n",
       "      <td>No</td>\n",
       "      <td>Hatchback</td>\n",
       "    </tr>\n",
       "    <tr>\n",
       "      <th>1577</th>\n",
       "      <td>No</td>\n",
       "      <td>Hatchback</td>\n",
       "    </tr>\n",
       "    <tr>\n",
       "      <th>1578</th>\n",
       "      <td>No</td>\n",
       "      <td>Hatchback</td>\n",
       "    </tr>\n",
       "    <tr>\n",
       "      <th>1579</th>\n",
       "      <td>Yes</td>\n",
       "      <td>Hatchback</td>\n",
       "    </tr>\n",
       "    <tr>\n",
       "      <th>1580</th>\n",
       "      <td>No</td>\n",
       "      <td>Hatchback</td>\n",
       "    </tr>\n",
       "  </tbody>\n",
       "</table>\n",
       "<p>1581 rows × 2 columns</p>\n",
       "</div>"
      ],
      "text/plain": [
       "     Personal_loan       Make\n",
       "0               No        SUV\n",
       "1              Yes        SUV\n",
       "2               No        SUV\n",
       "3              Yes        SUV\n",
       "4               No        SUV\n",
       "...            ...        ...\n",
       "1576            No  Hatchback\n",
       "1577            No  Hatchback\n",
       "1578            No  Hatchback\n",
       "1579           Yes  Hatchback\n",
       "1580            No  Hatchback\n",
       "\n",
       "[1581 rows x 2 columns]"
      ]
     },
     "execution_count": 330,
     "metadata": {},
     "output_type": "execute_result"
    }
   ],
   "source": [
    "ploan"
   ]
  },
  {
   "cell_type": "code",
   "execution_count": 331,
   "id": "6bbe8d9e-e6f6-46a7-8559-851203c4ab94",
   "metadata": {},
   "outputs": [],
   "source": [
    "ploanY=ploan.where(ploan[\"Personal_loan\"]==\"Yes\").dropna()\n",
    "ploanN=ploan.where(ploan[\"Personal_loan\"]==\"No\").dropna()"
   ]
  },
  {
   "cell_type": "code",
   "execution_count": 332,
   "id": "6cf1d742-1a96-4bcd-a527-493da2679303",
   "metadata": {},
   "outputs": [
    {
     "data": {
      "text/html": [
       "<div>\n",
       "<style scoped>\n",
       "    .dataframe tbody tr th:only-of-type {\n",
       "        vertical-align: middle;\n",
       "    }\n",
       "\n",
       "    .dataframe tbody tr th {\n",
       "        vertical-align: top;\n",
       "    }\n",
       "\n",
       "    .dataframe thead th {\n",
       "        text-align: right;\n",
       "    }\n",
       "</style>\n",
       "<table border=\"1\" class=\"dataframe\">\n",
       "  <thead>\n",
       "    <tr style=\"text-align: right;\">\n",
       "      <th></th>\n",
       "      <th>Personal_loan</th>\n",
       "      <th>Make</th>\n",
       "    </tr>\n",
       "  </thead>\n",
       "  <tbody>\n",
       "    <tr>\n",
       "      <th>1</th>\n",
       "      <td>Yes</td>\n",
       "      <td>SUV</td>\n",
       "    </tr>\n",
       "    <tr>\n",
       "      <th>3</th>\n",
       "      <td>Yes</td>\n",
       "      <td>SUV</td>\n",
       "    </tr>\n",
       "    <tr>\n",
       "      <th>6</th>\n",
       "      <td>Yes</td>\n",
       "      <td>SUV</td>\n",
       "    </tr>\n",
       "    <tr>\n",
       "      <th>10</th>\n",
       "      <td>Yes</td>\n",
       "      <td>SUV</td>\n",
       "    </tr>\n",
       "    <tr>\n",
       "      <th>12</th>\n",
       "      <td>Yes</td>\n",
       "      <td>SUV</td>\n",
       "    </tr>\n",
       "    <tr>\n",
       "      <th>...</th>\n",
       "      <td>...</td>\n",
       "      <td>...</td>\n",
       "    </tr>\n",
       "    <tr>\n",
       "      <th>1572</th>\n",
       "      <td>Yes</td>\n",
       "      <td>Hatchback</td>\n",
       "    </tr>\n",
       "    <tr>\n",
       "      <th>1573</th>\n",
       "      <td>Yes</td>\n",
       "      <td>Hatchback</td>\n",
       "    </tr>\n",
       "    <tr>\n",
       "      <th>1574</th>\n",
       "      <td>Yes</td>\n",
       "      <td>Sedan</td>\n",
       "    </tr>\n",
       "    <tr>\n",
       "      <th>1575</th>\n",
       "      <td>Yes</td>\n",
       "      <td>Hatchback</td>\n",
       "    </tr>\n",
       "    <tr>\n",
       "      <th>1579</th>\n",
       "      <td>Yes</td>\n",
       "      <td>Hatchback</td>\n",
       "    </tr>\n",
       "  </tbody>\n",
       "</table>\n",
       "<p>792 rows × 2 columns</p>\n",
       "</div>"
      ],
      "text/plain": [
       "     Personal_loan       Make\n",
       "1              Yes        SUV\n",
       "3              Yes        SUV\n",
       "6              Yes        SUV\n",
       "10             Yes        SUV\n",
       "12             Yes        SUV\n",
       "...            ...        ...\n",
       "1572           Yes  Hatchback\n",
       "1573           Yes  Hatchback\n",
       "1574           Yes      Sedan\n",
       "1575           Yes  Hatchback\n",
       "1579           Yes  Hatchback\n",
       "\n",
       "[792 rows x 2 columns]"
      ]
     },
     "execution_count": 332,
     "metadata": {},
     "output_type": "execute_result"
    }
   ],
   "source": [
    "ploanY"
   ]
  },
  {
   "cell_type": "code",
   "execution_count": 333,
   "id": "2efdf20e-ce75-441d-a431-e6c9df26fa48",
   "metadata": {},
   "outputs": [
    {
     "data": {
      "text/html": [
       "<div>\n",
       "<style scoped>\n",
       "    .dataframe tbody tr th:only-of-type {\n",
       "        vertical-align: middle;\n",
       "    }\n",
       "\n",
       "    .dataframe tbody tr th {\n",
       "        vertical-align: top;\n",
       "    }\n",
       "\n",
       "    .dataframe thead th {\n",
       "        text-align: right;\n",
       "    }\n",
       "</style>\n",
       "<table border=\"1\" class=\"dataframe\">\n",
       "  <thead>\n",
       "    <tr style=\"text-align: right;\">\n",
       "      <th></th>\n",
       "      <th>Personal_loan</th>\n",
       "      <th>Make</th>\n",
       "    </tr>\n",
       "  </thead>\n",
       "  <tbody>\n",
       "    <tr>\n",
       "      <th>0</th>\n",
       "      <td>No</td>\n",
       "      <td>SUV</td>\n",
       "    </tr>\n",
       "    <tr>\n",
       "      <th>2</th>\n",
       "      <td>No</td>\n",
       "      <td>SUV</td>\n",
       "    </tr>\n",
       "    <tr>\n",
       "      <th>4</th>\n",
       "      <td>No</td>\n",
       "      <td>SUV</td>\n",
       "    </tr>\n",
       "    <tr>\n",
       "      <th>5</th>\n",
       "      <td>No</td>\n",
       "      <td>SUV</td>\n",
       "    </tr>\n",
       "    <tr>\n",
       "      <th>7</th>\n",
       "      <td>No</td>\n",
       "      <td>SUV</td>\n",
       "    </tr>\n",
       "    <tr>\n",
       "      <th>...</th>\n",
       "      <td>...</td>\n",
       "      <td>...</td>\n",
       "    </tr>\n",
       "    <tr>\n",
       "      <th>1571</th>\n",
       "      <td>No</td>\n",
       "      <td>Hatchback</td>\n",
       "    </tr>\n",
       "    <tr>\n",
       "      <th>1576</th>\n",
       "      <td>No</td>\n",
       "      <td>Hatchback</td>\n",
       "    </tr>\n",
       "    <tr>\n",
       "      <th>1577</th>\n",
       "      <td>No</td>\n",
       "      <td>Hatchback</td>\n",
       "    </tr>\n",
       "    <tr>\n",
       "      <th>1578</th>\n",
       "      <td>No</td>\n",
       "      <td>Hatchback</td>\n",
       "    </tr>\n",
       "    <tr>\n",
       "      <th>1580</th>\n",
       "      <td>No</td>\n",
       "      <td>Hatchback</td>\n",
       "    </tr>\n",
       "  </tbody>\n",
       "</table>\n",
       "<p>789 rows × 2 columns</p>\n",
       "</div>"
      ],
      "text/plain": [
       "     Personal_loan       Make\n",
       "0               No        SUV\n",
       "2               No        SUV\n",
       "4               No        SUV\n",
       "5               No        SUV\n",
       "7               No        SUV\n",
       "...            ...        ...\n",
       "1571            No  Hatchback\n",
       "1576            No  Hatchback\n",
       "1577            No  Hatchback\n",
       "1578            No  Hatchback\n",
       "1580            No  Hatchback\n",
       "\n",
       "[789 rows x 2 columns]"
      ]
     },
     "execution_count": 333,
     "metadata": {},
     "output_type": "execute_result"
    }
   ],
   "source": [
    "ploanN"
   ]
  },
  {
   "cell_type": "code",
   "execution_count": 334,
   "id": "81b77088-f769-4197-b89a-7bd13d8a8c03",
   "metadata": {},
   "outputs": [],
   "source": [
    "ploanNN=ploanN.groupby(\"Make\").count()\n",
    "ploanYY=ploanY.groupby(\"Make\").count()"
   ]
  },
  {
   "cell_type": "code",
   "execution_count": 335,
   "id": "e99f78de-d827-429e-8eee-30bb59eca474",
   "metadata": {},
   "outputs": [
    {
     "data": {
      "text/html": [
       "<div>\n",
       "<style scoped>\n",
       "    .dataframe tbody tr th:only-of-type {\n",
       "        vertical-align: middle;\n",
       "    }\n",
       "\n",
       "    .dataframe tbody tr th {\n",
       "        vertical-align: top;\n",
       "    }\n",
       "\n",
       "    .dataframe thead th {\n",
       "        text-align: right;\n",
       "    }\n",
       "</style>\n",
       "<table border=\"1\" class=\"dataframe\">\n",
       "  <thead>\n",
       "    <tr style=\"text-align: right;\">\n",
       "      <th></th>\n",
       "      <th>Personal_loan</th>\n",
       "    </tr>\n",
       "    <tr>\n",
       "      <th>Make</th>\n",
       "      <th></th>\n",
       "    </tr>\n",
       "  </thead>\n",
       "  <tbody>\n",
       "    <tr>\n",
       "      <th>Hatchback</th>\n",
       "      <td>291</td>\n",
       "    </tr>\n",
       "    <tr>\n",
       "      <th>SUV</th>\n",
       "      <td>181</td>\n",
       "    </tr>\n",
       "    <tr>\n",
       "      <th>Sedan</th>\n",
       "      <td>317</td>\n",
       "    </tr>\n",
       "  </tbody>\n",
       "</table>\n",
       "</div>"
      ],
      "text/plain": [
       "           Personal_loan\n",
       "Make                    \n",
       "Hatchback            291\n",
       "SUV                  181\n",
       "Sedan                317"
      ]
     },
     "execution_count": 335,
     "metadata": {},
     "output_type": "execute_result"
    }
   ],
   "source": [
    "ploanNN"
   ]
  },
  {
   "cell_type": "code",
   "execution_count": 336,
   "id": "2ab4ea98-1147-4155-93c8-bd72a62ecca1",
   "metadata": {},
   "outputs": [
    {
     "data": {
      "text/html": [
       "<div>\n",
       "<style scoped>\n",
       "    .dataframe tbody tr th:only-of-type {\n",
       "        vertical-align: middle;\n",
       "    }\n",
       "\n",
       "    .dataframe tbody tr th {\n",
       "        vertical-align: top;\n",
       "    }\n",
       "\n",
       "    .dataframe thead th {\n",
       "        text-align: right;\n",
       "    }\n",
       "</style>\n",
       "<table border=\"1\" class=\"dataframe\">\n",
       "  <thead>\n",
       "    <tr style=\"text-align: right;\">\n",
       "      <th></th>\n",
       "      <th>Personal_loan</th>\n",
       "    </tr>\n",
       "    <tr>\n",
       "      <th>Make</th>\n",
       "      <th></th>\n",
       "    </tr>\n",
       "  </thead>\n",
       "  <tbody>\n",
       "    <tr>\n",
       "      <th>Hatchback</th>\n",
       "      <td>291</td>\n",
       "    </tr>\n",
       "    <tr>\n",
       "      <th>SUV</th>\n",
       "      <td>116</td>\n",
       "    </tr>\n",
       "    <tr>\n",
       "      <th>Sedan</th>\n",
       "      <td>385</td>\n",
       "    </tr>\n",
       "  </tbody>\n",
       "</table>\n",
       "</div>"
      ],
      "text/plain": [
       "           Personal_loan\n",
       "Make                    \n",
       "Hatchback            291\n",
       "SUV                  116\n",
       "Sedan                385"
      ]
     },
     "execution_count": 336,
     "metadata": {},
     "output_type": "execute_result"
    }
   ],
   "source": [
    "ploanYY"
   ]
  },
  {
   "cell_type": "code",
   "execution_count": 337,
   "id": "b9556684-8ab2-494a-94fa-273d0127bf3e",
   "metadata": {},
   "outputs": [
    {
     "data": {
      "text/plain": [
       "385"
      ]
     },
     "execution_count": 337,
     "metadata": {},
     "output_type": "execute_result"
    }
   ],
   "source": [
    "ploanYY.iloc[2][0]"
   ]
  },
  {
   "cell_type": "code",
   "execution_count": 338,
   "id": "2b4628af-4eb2-4997-ad62-4ee8505a6b79",
   "metadata": {},
   "outputs": [],
   "source": [
    "ploanYlist=[ploanYY.iloc[0][0],ploanYY.iloc[1][0],ploanYY.iloc[2][0]]\n",
    "ploanNlist=[ploanNN.iloc[0][0],ploanNN.iloc[1][0],ploanNN.iloc[2][0]]"
   ]
  },
  {
   "cell_type": "code",
   "execution_count": 339,
   "id": "758580e2-9b29-46c4-af39-352ec3a15be6",
   "metadata": {},
   "outputs": [
    {
     "data": {
      "text/plain": [
       "[291, 116, 385]"
      ]
     },
     "execution_count": 339,
     "metadata": {},
     "output_type": "execute_result"
    }
   ],
   "source": [
    "ploanYlist"
   ]
  },
  {
   "cell_type": "code",
   "execution_count": 340,
   "id": "ef2e0ff8-567c-4c05-8368-f0e23385c962",
   "metadata": {},
   "outputs": [
    {
     "data": {
      "text/plain": [
       "[291, 181, 317]"
      ]
     },
     "execution_count": 340,
     "metadata": {},
     "output_type": "execute_result"
    }
   ],
   "source": [
    "ploanNlist"
   ]
  },
  {
   "cell_type": "code",
   "execution_count": 341,
   "id": "e97761dc-65fe-4dd7-ba30-dbd29670ebe3",
   "metadata": {},
   "outputs": [],
   "source": [
    "loanDf=pd.DataFrame({\"Taken\":ploanYlist,\"Not Taken\":ploanNlist},index=[\"Hatchback\",\"SUV\",\"Sedan\"])"
   ]
  },
  {
   "cell_type": "code",
   "execution_count": 342,
   "id": "fca65acc-3a34-4110-9724-0a2945f1a964",
   "metadata": {},
   "outputs": [
    {
     "data": {
      "image/png": "[encoded data removed]",
      "text/plain": [
       "<Figure size 800x500 with 1 Axes>"
      ]
     },
     "metadata": {},
     "output_type": "display_data"
    }
   ],
   "source": [
    "loanDf.plot.bar(rot=0)\n",
    "plt.title(\"Amount spent on purchasing automobiles by Personal Loan\")\n",
    "plt.show()"
   ]
  },
  {
   "cell_type": "markdown",
   "id": "268cef3c-0ab8-46e0-b7b2-b70ee4b8b9ac",
   "metadata": {},
   "source": [
    "<h3>from the chart above<br>\n",
    "we can see Sedan is likely to be pucrhased by people who have taken personal loan.<br>\n",
    "Hatchback is choice for every one who has taken loan or not.<br>\n",
    "Also SUV is purchased by people who already earning big or have money surplus <br>\n",
    "because by analysis<br>\n",
    "\n",
    "i got to see that no personal loan needed to purchased SUV(either these people are rich or have big chunk of money)</h3>"
   ]
  },
  {
   "cell_type": "markdown",
   "id": "3cefbeb9-66f9-4d9b-877f-b81c78dbe756",
   "metadata": {},
   "source": [
    "<h2>QUE:If having a working partner leads to the purchase of a higher-priced car?</h2>"
   ]
  },
  {
   "cell_type": "code",
   "execution_count": 346,
   "id": "c3272b49-1840-4f9e-9b56-0c20e3077ab0",
   "metadata": {},
   "outputs": [
    {
     "data": {
      "text/html": [
       "<div>\n",
       "<style scoped>\n",
       "    .dataframe tbody tr th:only-of-type {\n",
       "        vertical-align: middle;\n",
       "    }\n",
       "\n",
       "    .dataframe tbody tr th {\n",
       "        vertical-align: top;\n",
       "    }\n",
       "\n",
       "    .dataframe thead th {\n",
       "        text-align: right;\n",
       "    }\n",
       "</style>\n",
       "<table border=\"1\" class=\"dataframe\">\n",
       "  <thead>\n",
       "    <tr style=\"text-align: right;\">\n",
       "      <th></th>\n",
       "      <th>Age</th>\n",
       "      <th>Gender</th>\n",
       "      <th>Profession</th>\n",
       "      <th>Marital_status</th>\n",
       "      <th>Education</th>\n",
       "      <th>No_of_Dependents</th>\n",
       "      <th>Personal_loan</th>\n",
       "      <th>House_loan</th>\n",
       "      <th>Partner_working</th>\n",
       "      <th>Salary</th>\n",
       "      <th>Partner_salary</th>\n",
       "      <th>Total_salary</th>\n",
       "      <th>Price</th>\n",
       "      <th>Make</th>\n",
       "    </tr>\n",
       "  </thead>\n",
       "  <tbody>\n",
       "    <tr>\n",
       "      <th>0</th>\n",
       "      <td>53</td>\n",
       "      <td>Male</td>\n",
       "      <td>Business</td>\n",
       "      <td>Married</td>\n",
       "      <td>Post Graduate</td>\n",
       "      <td>4</td>\n",
       "      <td>No</td>\n",
       "      <td>No</td>\n",
       "      <td>Yes</td>\n",
       "      <td>99300</td>\n",
       "      <td>70700.0</td>\n",
       "      <td>170000</td>\n",
       "      <td>61000</td>\n",
       "      <td>SUV</td>\n",
       "    </tr>\n",
       "    <tr>\n",
       "      <th>1</th>\n",
       "      <td>53</td>\n",
       "      <td>Female</td>\n",
       "      <td>Salaried</td>\n",
       "      <td>Married</td>\n",
       "      <td>Post Graduate</td>\n",
       "      <td>4</td>\n",
       "      <td>Yes</td>\n",
       "      <td>No</td>\n",
       "      <td>Yes</td>\n",
       "      <td>95500</td>\n",
       "      <td>70300.0</td>\n",
       "      <td>165800</td>\n",
       "      <td>61000</td>\n",
       "      <td>SUV</td>\n",
       "    </tr>\n",
       "    <tr>\n",
       "      <th>2</th>\n",
       "      <td>53</td>\n",
       "      <td>Female</td>\n",
       "      <td>Salaried</td>\n",
       "      <td>Married</td>\n",
       "      <td>Post Graduate</td>\n",
       "      <td>3</td>\n",
       "      <td>No</td>\n",
       "      <td>No</td>\n",
       "      <td>Yes</td>\n",
       "      <td>97300</td>\n",
       "      <td>60700.0</td>\n",
       "      <td>158000</td>\n",
       "      <td>57000</td>\n",
       "      <td>SUV</td>\n",
       "    </tr>\n",
       "    <tr>\n",
       "      <th>3</th>\n",
       "      <td>53</td>\n",
       "      <td>Female</td>\n",
       "      <td>Salaried</td>\n",
       "      <td>Married</td>\n",
       "      <td>Graduate</td>\n",
       "      <td>2</td>\n",
       "      <td>Yes</td>\n",
       "      <td>No</td>\n",
       "      <td>Yes</td>\n",
       "      <td>72500</td>\n",
       "      <td>70300.0</td>\n",
       "      <td>142800</td>\n",
       "      <td>61000</td>\n",
       "      <td>SUV</td>\n",
       "    </tr>\n",
       "    <tr>\n",
       "      <th>4</th>\n",
       "      <td>53</td>\n",
       "      <td>Male</td>\n",
       "      <td>Salaried</td>\n",
       "      <td>Married</td>\n",
       "      <td>Post Graduate</td>\n",
       "      <td>3</td>\n",
       "      <td>No</td>\n",
       "      <td>No</td>\n",
       "      <td>Yes</td>\n",
       "      <td>79700</td>\n",
       "      <td>60200.0</td>\n",
       "      <td>139900</td>\n",
       "      <td>57000</td>\n",
       "      <td>SUV</td>\n",
       "    </tr>\n",
       "    <tr>\n",
       "      <th>...</th>\n",
       "      <td>...</td>\n",
       "      <td>...</td>\n",
       "      <td>...</td>\n",
       "      <td>...</td>\n",
       "      <td>...</td>\n",
       "      <td>...</td>\n",
       "      <td>...</td>\n",
       "      <td>...</td>\n",
       "      <td>...</td>\n",
       "      <td>...</td>\n",
       "      <td>...</td>\n",
       "      <td>...</td>\n",
       "      <td>...</td>\n",
       "      <td>...</td>\n",
       "    </tr>\n",
       "    <tr>\n",
       "      <th>1576</th>\n",
       "      <td>22</td>\n",
       "      <td>Male</td>\n",
       "      <td>Salaried</td>\n",
       "      <td>Single</td>\n",
       "      <td>Graduate</td>\n",
       "      <td>2</td>\n",
       "      <td>No</td>\n",
       "      <td>Yes</td>\n",
       "      <td>No</td>\n",
       "      <td>33300</td>\n",
       "      <td>0.0</td>\n",
       "      <td>33300</td>\n",
       "      <td>27000</td>\n",
       "      <td>Hatchback</td>\n",
       "    </tr>\n",
       "    <tr>\n",
       "      <th>1577</th>\n",
       "      <td>22</td>\n",
       "      <td>Male</td>\n",
       "      <td>Business</td>\n",
       "      <td>Married</td>\n",
       "      <td>Graduate</td>\n",
       "      <td>4</td>\n",
       "      <td>No</td>\n",
       "      <td>No</td>\n",
       "      <td>No</td>\n",
       "      <td>32000</td>\n",
       "      <td>0.0</td>\n",
       "      <td>32000</td>\n",
       "      <td>31000</td>\n",
       "      <td>Hatchback</td>\n",
       "    </tr>\n",
       "    <tr>\n",
       "      <th>1578</th>\n",
       "      <td>22</td>\n",
       "      <td>Male</td>\n",
       "      <td>Business</td>\n",
       "      <td>Single</td>\n",
       "      <td>Graduate</td>\n",
       "      <td>2</td>\n",
       "      <td>No</td>\n",
       "      <td>Yes</td>\n",
       "      <td>No</td>\n",
       "      <td>32900</td>\n",
       "      <td>0.0</td>\n",
       "      <td>32900</td>\n",
       "      <td>30000</td>\n",
       "      <td>Hatchback</td>\n",
       "    </tr>\n",
       "    <tr>\n",
       "      <th>1579</th>\n",
       "      <td>22</td>\n",
       "      <td>Male</td>\n",
       "      <td>Business</td>\n",
       "      <td>Married</td>\n",
       "      <td>Graduate</td>\n",
       "      <td>3</td>\n",
       "      <td>Yes</td>\n",
       "      <td>Yes</td>\n",
       "      <td>No</td>\n",
       "      <td>32200</td>\n",
       "      <td>0.0</td>\n",
       "      <td>32200</td>\n",
       "      <td>24000</td>\n",
       "      <td>Hatchback</td>\n",
       "    </tr>\n",
       "    <tr>\n",
       "      <th>1580</th>\n",
       "      <td>22</td>\n",
       "      <td>Male</td>\n",
       "      <td>Salaried</td>\n",
       "      <td>Married</td>\n",
       "      <td>Graduate</td>\n",
       "      <td>4</td>\n",
       "      <td>No</td>\n",
       "      <td>No</td>\n",
       "      <td>No</td>\n",
       "      <td>31600</td>\n",
       "      <td>0.0</td>\n",
       "      <td>31600</td>\n",
       "      <td>31000</td>\n",
       "      <td>Hatchback</td>\n",
       "    </tr>\n",
       "  </tbody>\n",
       "</table>\n",
       "<p>1581 rows × 14 columns</p>\n",
       "</div>"
      ],
      "text/plain": [
       "      Age  Gender Profession Marital_status      Education  No_of_Dependents  \\\n",
       "0      53    Male   Business        Married  Post Graduate                 4   \n",
       "1      53  Female   Salaried        Married  Post Graduate                 4   \n",
       "2      53  Female   Salaried        Married  Post Graduate                 3   \n",
       "3      53  Female   Salaried        Married       Graduate                 2   \n",
       "4      53    Male   Salaried        Married  Post Graduate                 3   \n",
       "...   ...     ...        ...            ...            ...               ...   \n",
       "1576   22    Male   Salaried         Single       Graduate                 2   \n",
       "1577   22    Male   Business        Married       Graduate                 4   \n",
       "1578   22    Male   Business         Single       Graduate                 2   \n",
       "1579   22    Male   Business        Married       Graduate                 3   \n",
       "1580   22    Male   Salaried        Married       Graduate                 4   \n",
       "\n",
       "     Personal_loan House_loan Partner_working  Salary  Partner_salary  \\\n",
       "0               No         No             Yes   99300         70700.0   \n",
       "1              Yes         No             Yes   95500         70300.0   \n",
       "2               No         No             Yes   97300         60700.0   \n",
       "3              Yes         No             Yes   72500         70300.0   \n",
       "4               No         No             Yes   79700         60200.0   \n",
       "...            ...        ...             ...     ...             ...   \n",
       "1576            No        Yes              No   33300             0.0   \n",
       "1577            No         No              No   32000             0.0   \n",
       "1578            No        Yes              No   32900             0.0   \n",
       "1579           Yes        Yes              No   32200             0.0   \n",
       "1580            No         No              No   31600             0.0   \n",
       "\n",
       "      Total_salary  Price       Make  \n",
       "0           170000  61000        SUV  \n",
       "1           165800  61000        SUV  \n",
       "2           158000  57000        SUV  \n",
       "3           142800  61000        SUV  \n",
       "4           139900  57000        SUV  \n",
       "...            ...    ...        ...  \n",
       "1576         33300  27000  Hatchback  \n",
       "1577         32000  31000  Hatchback  \n",
       "1578         32900  30000  Hatchback  \n",
       "1579         32200  24000  Hatchback  \n",
       "1580         31600  31000  Hatchback  \n",
       "\n",
       "[1581 rows x 14 columns]"
      ]
     },
     "execution_count": 346,
     "metadata": {},
     "output_type": "execute_result"
    }
   ],
   "source": [
    "df"
   ]
  },
  {
   "cell_type": "code",
   "execution_count": 348,
   "id": "415fba82-7527-483f-9c98-870ac890812f",
   "metadata": {},
   "outputs": [
    {
     "data": {
      "text/plain": [
       "Partner_working  Make     \n",
       "No               Hatchback    281\n",
       "                 SUV          144\n",
       "                 Sedan        288\n",
       "Yes              Hatchback    301\n",
       "                 SUV          153\n",
       "                 Sedan        414\n",
       "Name: Make, dtype: int64"
      ]
     },
     "execution_count": 348,
     "metadata": {},
     "output_type": "execute_result"
    }
   ],
   "source": [
    "df.groupby(['Partner_working','Make'])['Make'].count()"
   ]
  },
  {
   "cell_type": "code",
   "execution_count": 350,
   "id": "1251a253-2f97-470d-8d9a-673dcb08b885",
   "metadata": {},
   "outputs": [
    {
     "data": {
      "image/png": "[encoded data removed]",
      "text/plain": [
       "<Figure size 800x500 with 1 Axes>"
      ]
     },
     "metadata": {},
     "output_type": "display_data"
    }
   ],
   "source": [
    "grouped = df.groupby(['Partner_working','Make'])['Make'].count().reset_index(name='Count')\n",
    "\n",
    "# Pivot the DataFrame for plotting\n",
    "pivot_df = grouped.pivot(index='Make', columns='Partner_working', values='Count')\n",
    "\n",
    "# Plotting\n",
    "pivot_df.plot(kind='bar', stacked=True)\n",
    "plt.title('Count of Makes by Partner Working Status')\n",
    "plt.xlabel('Make')\n",
    "plt.ylabel('Count')\n",
    "plt.xticks(rotation=45)\n",
    "plt.legend(title='Partner Working')\n",
    "plt.show()\n",
    "\n",
    "# from the below plot, we can understand that having a working partner makes it easy to purchase a high prized car such as sedan, hatchback."
   ]
  },
  {
   "cell_type": "markdown",
   "id": "036b81b7-c0b6-42e8-bc0c-191aba489702",
   "metadata": {},
   "source": [
    "<h2>Conclusion:</h2>\n",
    "<h3>Females show a preference for SUVs over males. There's a balanced trend in Sedan purchases between genders, while males tend to buy more Hatchbacks. Salaried individuals lean towards Sedans, while both professions(business and Salaried) equally favor Hatchbacks. Sedans are often chosen by those with personal loans, while SUVs appeal to those with surplus funds. Having a working partner facilitates the purchase of high-priced cars like Sedans and Hatchbacks.</h3>"
   ]
  },
  {
   "cell_type": "code",
   "execution_count": null,
   "id": "77dedd0f-88d3-4447-aa95-036a436a8530",
   "metadata": {},
   "outputs": [],
   "source": []
  }
 ],
 "metadata": {
  "kernelspec": {
   "display_name": "Python 3 (ipykernel)",
   "language": "python",
   "name": "python3"
  },
  "language_info": {
   "codemirror_mode": {
    "name": "ipython",
    "version": 3
   },
   "file_extension": ".py",
   "mimetype": "text/x-python",
   "name": "python",
   "nbconvert_exporter": "python",
   "pygments_lexer": "ipython3",
   "version": "3.12.1"
  }
 },
 "nbformat": 4,
 "nbformat_minor": 5
}
